{
 "cells": [
  {
   "cell_type": "markdown",
   "metadata": {},
   "source": [
    "# Large-Scale Population Synthesis on HPC Facilities 🚀\n",
    "\n",
    "**Tutorial goal**\n",
    "\n",
    "This tutorial will cover how to setup and run a large, multi-metallicity population run on a HPC with slurm.\n",
    "\n",
    "We will dive deeper into the `population_params.ini` file and the `Population` class for multi-metallicity populations."
   ]
  },
  {
   "cell_type": "markdown",
   "metadata": {},
   "source": [
    "If you haven't done so yet, export the path POSYDON environment variables. For example:"
   ]
  },
  {
   "cell_type": "code",
   "execution_count": 1,
   "metadata": {},
   "outputs": [
    {
     "name": "stdout",
     "output_type": "stream",
     "text": [
      "env: PATH_TO_POSYDON=/Users/simone/Google Drive/github/POSYDON-public/\n",
      "env: PATH_TO_POSYDON_DATA=/Volumes/T7/\n"
     ]
    }
   ],
   "source": [
    "%env PATH_TO_POSYDON=/Users/simone/Google Drive/github/POSYDON-public/\n",
    "%env PATH_TO_POSYDON_DATA=/Volumes/T7/"
   ]
  },
  {
   "cell_type": "markdown",
   "metadata": {},
   "source": [
    "## Creating the Initialization File for multi-metallicity runs"
   ]
  },
  {
   "cell_type": "markdown",
   "metadata": {},
   "source": [
    "Let's copy the default population synthesis ini file to your working directory.\n",
    "Make sure you're on a cluster to be able to run and submit the jobs.\n"
   ]
  },
  {
   "cell_type": "code",
   "execution_count": 7,
   "metadata": {},
   "outputs": [
    {
     "data": {
      "text/plain": [
       "'./population_params.ini'"
      ]
     },
     "execution_count": 7,
     "metadata": {},
     "output_type": "execute_result"
    }
   ],
   "source": [
    "import os\n",
    "import shutil\n",
    "from posydon.config import PATH_TO_POSYDON\n",
    "\n",
    "path_to_params = os.path.join(PATH_TO_POSYDON, \"posydon/popsyn/population_params_default.ini\")\n",
    "shutil.copyfile(path_to_params, './population_params.ini')"
   ]
  },
  {
   "cell_type": "markdown",
   "metadata": {},
   "source": [
    "Open the `population_params.ini` file and do the following edits to run a large model at 8 differet metallicities:\n",
    "\n",
    "- set `metallicity = [2., 1., 0.45, 0.2, 0.1, 0.01, 0.001, 0.0001]`\n",
    "- set `number_of_binaries = 100`\n",
    "\n",
    "You might also want to make sure the `dump_rate` is set to 10 binaries. \n",
    "`dump_rate = 10`"
   ]
  },
  {
   "cell_type": "markdown",
   "metadata": {},
   "source": [
    "## Setting-up the Population Synthesis Model "
   ]
  },
  {
   "cell_type": "markdown",
   "metadata": {},
   "source": [
    "POSYDON provides `setup-popsyn` that you can use to setup a (multi-)metallicity population run on a HPC facility.\n",
    "\n",
    "This will split each metallicity into a separate slurm job-array and a dependent job which will automatically merge the output of the separate jobs.\n",
    "\n",
    "Below are two examples, but you might require to adjust the inputs for your email, cluster and available partitions."
   ]
  },
  {
   "cell_type": "code",
   "execution_count": null,
   "metadata": {
    "vscode": {
     "languageId": "shellscript"
    }
   },
   "outputs": [],
   "source": [
    "# example for yggdrasil\n",
    "setup-popsyn population_params.ini --job_array=10 --walltime=00:14:00 --partition=debug-cpu --email=max.briel@unige.ch --account=briel"
   ]
  },
  {
   "cell_type": "code",
   "execution_count": null,
   "metadata": {
    "vscode": {
     "languageId": "shellscript"
    }
   },
   "outputs": [],
   "source": [
    "# example for quest cluster\n",
    "setup-popsyn population_params.ini --job-array=10 --walltime=00:14:00"
   ]
  },
  {
   "cell_type": "markdown",
   "metadata": {},
   "source": [
    "`setup-popsyn --help` should provide a complete list of possible input parameters.\n",
    "\n",
    "\n",
    "**walltime and job_array number fine-tuning**\n",
    "\n",
    "The above examples will setup the population run with an array of 10 jobs for each metallicity. As such, each job will run 10 binaries of the 100 binaries per metallicity.\n",
    "\n",
    "Fine-tuning the `dump_rate` compared to the number of binaries each job runs can be helpful. However, the larger the `dump_rate` the higher the memory footprint of each job.\n",
    "As a default, 4Gb of RAM is requested per job.\n",
    "\n",
    "Similarly, the `walltime` and `job_array` can be fine-tuned. A single binary takes about 1-2 seconds to run. Depending on the number of binaries each job does, you might want to raise or lower the walltime for optimal perfomance.\n",
    "\n",
    "Instead of setting a `dump_rate`, it's also possible to set a `ram_per_cpu`. The code will try to stay below 90\\% of this limit, but this is not always guaranteed due to additional python overhead."
   ]
  },
  {
   "cell_type": "markdown",
   "metadata": {},
   "source": [
    "After you've ran the above setup, you should now have several files in your work directory.\n",
    "\n",
    "You can submit all job arrays and merged jobs using `slurm_submit.sh`\n"
   ]
  },
  {
   "cell_type": "code",
   "execution_count": null,
   "metadata": {
    "vscode": {
     "languageId": "shellscript"
    }
   },
   "outputs": [],
   "source": [
    "sh slurm_submit.sh"
   ]
  },
  {
   "cell_type": "markdown",
   "metadata": {},
   "source": [
    "If one of your runs fails, you can manually submit them again after fixing the issue.\n",
    "The `*_logs` folder will contain the logs of each job in the job_array.\n",
    "\n",
    "## Populations inspection\n",
    "\n",
    "Once the runs and the mergers have finished. You should have 8 files named `MET_Zsun_population.h5`, where `MET` are the metallicities.\n",
    "\n",
    "We will inspect two to check the number of binaries in the population."
   ]
  },
  {
   "cell_type": "code",
   "execution_count": 8,
   "metadata": {},
   "outputs": [
    {
     "ename": "FileNotFoundError",
     "evalue": "``/Users/max/Documents/POSYDON/docs/_source/tutorials-examples/population-synthesis/1e-01_Zsun_population.h5`` does not exist",
     "output_type": "error",
     "traceback": [
      "\u001b[0;31m---------------------------------------------------------------------------\u001b[0m",
      "\u001b[0;31mFileNotFoundError\u001b[0m                         Traceback (most recent call last)",
      "Cell \u001b[0;32mIn[8], line 6\u001b[0m\n\u001b[1;32m      3\u001b[0m file1 \u001b[38;5;241m=\u001b[39m \u001b[38;5;124m'\u001b[39m\u001b[38;5;124m1e-01_Zsun_population.h5\u001b[39m\u001b[38;5;124m'\u001b[39m\n\u001b[1;32m      4\u001b[0m file2 \u001b[38;5;241m=\u001b[39m \u001b[38;5;124m'\u001b[39m\u001b[38;5;124m1e-02_Zsun_population.h5\u001b[39m\u001b[38;5;124m'\u001b[39m\n\u001b[0;32m----> 6\u001b[0m pop1 \u001b[38;5;241m=\u001b[39m \u001b[43mPopulation\u001b[49m\u001b[43m(\u001b[49m\u001b[43mfile1\u001b[49m\u001b[43m)\u001b[49m\n\u001b[1;32m      7\u001b[0m \u001b[38;5;28mprint\u001b[39m(pop1\u001b[38;5;241m.\u001b[39mmass_per_met)\n\u001b[1;32m      9\u001b[0m pop2 \u001b[38;5;241m=\u001b[39m Population(file2)\n",
      "File \u001b[0;32m~/Documents/POSYDON/posydon/popsyn/synthetic_population.py:434\u001b[0m, in \u001b[0;36mPopulation.__init__\u001b[0;34m(self, filename, metallicity, ini_file, verbose, chunksize)\u001b[0m\n\u001b[1;32m    431\u001b[0m     \u001b[38;5;28;01mraise\u001b[39;00m \u001b[38;5;167;01mValueError\u001b[39;00m(\u001b[38;5;124mf\u001b[39m\u001b[38;5;124m'\u001b[39m\u001b[38;5;132;01m{\u001b[39;00mfilename\u001b[38;5;132;01m}\u001b[39;00m\u001b[38;5;124m does not contain .h5 in the se.\u001b[39m\u001b[38;5;130;01m\\n\u001b[39;00m\u001b[38;5;124m Is this a valid population file?\u001b[39m\u001b[38;5;124m'\u001b[39m)\n\u001b[1;32m    433\u001b[0m \u001b[38;5;66;03m# read the population file\u001b[39;00m\n\u001b[0;32m--> 434\u001b[0m \u001b[38;5;28;01mwith\u001b[39;00m \u001b[43mpd\u001b[49m\u001b[38;5;241;43m.\u001b[39;49m\u001b[43mHDFStore\u001b[49m\u001b[43m(\u001b[49m\u001b[43mfilename\u001b[49m\u001b[43m,\u001b[49m\u001b[43m \u001b[49m\u001b[43mmode\u001b[49m\u001b[38;5;241;43m=\u001b[39;49m\u001b[38;5;124;43m'\u001b[39;49m\u001b[38;5;124;43mr\u001b[39;49m\u001b[38;5;124;43m'\u001b[39;49m\u001b[43m)\u001b[49m \u001b[38;5;28;01mas\u001b[39;00m store:\n\u001b[1;32m    435\u001b[0m     keys \u001b[38;5;241m=\u001b[39m store\u001b[38;5;241m.\u001b[39mkeys()\n\u001b[1;32m    437\u001b[0m \u001b[38;5;66;03m# check if pop contains history\u001b[39;00m\n",
      "File \u001b[0;32m~/anaconda3/envs/posydon_env/lib/python3.11/site-packages/pandas/io/pytables.py:585\u001b[0m, in \u001b[0;36mHDFStore.__init__\u001b[0;34m(self, path, mode, complevel, complib, fletcher32, **kwargs)\u001b[0m\n\u001b[1;32m    583\u001b[0m \u001b[38;5;28mself\u001b[39m\u001b[38;5;241m.\u001b[39m_fletcher32 \u001b[38;5;241m=\u001b[39m fletcher32\n\u001b[1;32m    584\u001b[0m \u001b[38;5;28mself\u001b[39m\u001b[38;5;241m.\u001b[39m_filters \u001b[38;5;241m=\u001b[39m \u001b[38;5;28;01mNone\u001b[39;00m\n\u001b[0;32m--> 585\u001b[0m \u001b[38;5;28;43mself\u001b[39;49m\u001b[38;5;241;43m.\u001b[39;49m\u001b[43mopen\u001b[49m\u001b[43m(\u001b[49m\u001b[43mmode\u001b[49m\u001b[38;5;241;43m=\u001b[39;49m\u001b[43mmode\u001b[49m\u001b[43m,\u001b[49m\u001b[43m \u001b[49m\u001b[38;5;241;43m*\u001b[39;49m\u001b[38;5;241;43m*\u001b[39;49m\u001b[43mkwargs\u001b[49m\u001b[43m)\u001b[49m\n",
      "File \u001b[0;32m~/anaconda3/envs/posydon_env/lib/python3.11/site-packages/pandas/io/pytables.py:745\u001b[0m, in \u001b[0;36mHDFStore.open\u001b[0;34m(self, mode, **kwargs)\u001b[0m\n\u001b[1;32m    739\u001b[0m     msg \u001b[38;5;241m=\u001b[39m (\n\u001b[1;32m    740\u001b[0m         \u001b[38;5;124m\"\u001b[39m\u001b[38;5;124mCannot open HDF5 file, which is already opened, \u001b[39m\u001b[38;5;124m\"\u001b[39m\n\u001b[1;32m    741\u001b[0m         \u001b[38;5;124m\"\u001b[39m\u001b[38;5;124meven in read-only mode.\u001b[39m\u001b[38;5;124m\"\u001b[39m\n\u001b[1;32m    742\u001b[0m     )\n\u001b[1;32m    743\u001b[0m     \u001b[38;5;28;01mraise\u001b[39;00m \u001b[38;5;167;01mValueError\u001b[39;00m(msg)\n\u001b[0;32m--> 745\u001b[0m \u001b[38;5;28mself\u001b[39m\u001b[38;5;241m.\u001b[39m_handle \u001b[38;5;241m=\u001b[39m \u001b[43mtables\u001b[49m\u001b[38;5;241;43m.\u001b[39;49m\u001b[43mopen_file\u001b[49m\u001b[43m(\u001b[49m\u001b[38;5;28;43mself\u001b[39;49m\u001b[38;5;241;43m.\u001b[39;49m\u001b[43m_path\u001b[49m\u001b[43m,\u001b[49m\u001b[43m \u001b[49m\u001b[38;5;28;43mself\u001b[39;49m\u001b[38;5;241;43m.\u001b[39;49m\u001b[43m_mode\u001b[49m\u001b[43m,\u001b[49m\u001b[43m \u001b[49m\u001b[38;5;241;43m*\u001b[39;49m\u001b[38;5;241;43m*\u001b[39;49m\u001b[43mkwargs\u001b[49m\u001b[43m)\u001b[49m\n",
      "File \u001b[0;32m~/anaconda3/envs/posydon_env/lib/python3.11/site-packages/tables/file.py:300\u001b[0m, in \u001b[0;36mopen_file\u001b[0;34m(filename, mode, title, root_uep, filters, **kwargs)\u001b[0m\n\u001b[1;32m    295\u001b[0m             \u001b[38;5;28;01mraise\u001b[39;00m \u001b[38;5;167;01mValueError\u001b[39;00m(\n\u001b[1;32m    296\u001b[0m                 \u001b[38;5;124m\"\u001b[39m\u001b[38;5;124mThe file \u001b[39m\u001b[38;5;124m'\u001b[39m\u001b[38;5;132;01m%s\u001b[39;00m\u001b[38;5;124m'\u001b[39m\u001b[38;5;124m is already opened.  Please \u001b[39m\u001b[38;5;124m\"\u001b[39m\n\u001b[1;32m    297\u001b[0m                 \u001b[38;5;124m\"\u001b[39m\u001b[38;5;124mclose it before reopening in write mode.\u001b[39m\u001b[38;5;124m\"\u001b[39m \u001b[38;5;241m%\u001b[39m filename)\n\u001b[1;32m    299\u001b[0m \u001b[38;5;66;03m# Finally, create the File instance, and return it\u001b[39;00m\n\u001b[0;32m--> 300\u001b[0m \u001b[38;5;28;01mreturn\u001b[39;00m \u001b[43mFile\u001b[49m\u001b[43m(\u001b[49m\u001b[43mfilename\u001b[49m\u001b[43m,\u001b[49m\u001b[43m \u001b[49m\u001b[43mmode\u001b[49m\u001b[43m,\u001b[49m\u001b[43m \u001b[49m\u001b[43mtitle\u001b[49m\u001b[43m,\u001b[49m\u001b[43m \u001b[49m\u001b[43mroot_uep\u001b[49m\u001b[43m,\u001b[49m\u001b[43m \u001b[49m\u001b[43mfilters\u001b[49m\u001b[43m,\u001b[49m\u001b[43m \u001b[49m\u001b[38;5;241;43m*\u001b[39;49m\u001b[38;5;241;43m*\u001b[39;49m\u001b[43mkwargs\u001b[49m\u001b[43m)\u001b[49m\n",
      "File \u001b[0;32m~/anaconda3/envs/posydon_env/lib/python3.11/site-packages/tables/file.py:750\u001b[0m, in \u001b[0;36mFile.__init__\u001b[0;34m(self, filename, mode, title, root_uep, filters, **kwargs)\u001b[0m\n\u001b[1;32m    747\u001b[0m \u001b[38;5;28mself\u001b[39m\u001b[38;5;241m.\u001b[39mparams \u001b[38;5;241m=\u001b[39m params\n\u001b[1;32m    749\u001b[0m \u001b[38;5;66;03m# Now, it is time to initialize the File extension\u001b[39;00m\n\u001b[0;32m--> 750\u001b[0m \u001b[38;5;28;43mself\u001b[39;49m\u001b[38;5;241;43m.\u001b[39;49m\u001b[43m_g_new\u001b[49m\u001b[43m(\u001b[49m\u001b[43mfilename\u001b[49m\u001b[43m,\u001b[49m\u001b[43m \u001b[49m\u001b[43mmode\u001b[49m\u001b[43m,\u001b[49m\u001b[43m \u001b[49m\u001b[38;5;241;43m*\u001b[39;49m\u001b[38;5;241;43m*\u001b[39;49m\u001b[43mparams\u001b[49m\u001b[43m)\u001b[49m\n\u001b[1;32m    752\u001b[0m \u001b[38;5;66;03m# Check filters and set PyTables format version for new files.\u001b[39;00m\n\u001b[1;32m    753\u001b[0m new \u001b[38;5;241m=\u001b[39m \u001b[38;5;28mself\u001b[39m\u001b[38;5;241m.\u001b[39m_v_new\n",
      "File \u001b[0;32m~/anaconda3/envs/posydon_env/lib/python3.11/site-packages/tables/hdf5extension.pyx:366\u001b[0m, in \u001b[0;36mtables.hdf5extension.File._g_new\u001b[0;34m()\u001b[0m\n",
      "File \u001b[0;32m~/anaconda3/envs/posydon_env/lib/python3.11/site-packages/tables/utils.py:143\u001b[0m, in \u001b[0;36mcheck_file_access\u001b[0;34m(filename, mode)\u001b[0m\n\u001b[1;32m    140\u001b[0m \u001b[38;5;28;01mif\u001b[39;00m mode \u001b[38;5;241m==\u001b[39m \u001b[38;5;124m'\u001b[39m\u001b[38;5;124mr\u001b[39m\u001b[38;5;124m'\u001b[39m:\n\u001b[1;32m    141\u001b[0m     \u001b[38;5;66;03m# The file should be readable.\u001b[39;00m\n\u001b[1;32m    142\u001b[0m     \u001b[38;5;28;01mif\u001b[39;00m \u001b[38;5;129;01mnot\u001b[39;00m os\u001b[38;5;241m.\u001b[39maccess(path, os\u001b[38;5;241m.\u001b[39mF_OK):\n\u001b[0;32m--> 143\u001b[0m         \u001b[38;5;28;01mraise\u001b[39;00m \u001b[38;5;167;01mFileNotFoundError\u001b[39;00m(\u001b[38;5;124mf\u001b[39m\u001b[38;5;124m\"\u001b[39m\u001b[38;5;124m``\u001b[39m\u001b[38;5;132;01m{\u001b[39;00mpath\u001b[38;5;132;01m}\u001b[39;00m\u001b[38;5;124m`` does not exist\u001b[39m\u001b[38;5;124m\"\u001b[39m)\n\u001b[1;32m    144\u001b[0m     \u001b[38;5;28;01mif\u001b[39;00m \u001b[38;5;129;01mnot\u001b[39;00m path\u001b[38;5;241m.\u001b[39mis_file():\n\u001b[1;32m    145\u001b[0m         \u001b[38;5;28;01mraise\u001b[39;00m \u001b[38;5;167;01mIsADirectoryError\u001b[39;00m(\u001b[38;5;124mf\u001b[39m\u001b[38;5;124m\"\u001b[39m\u001b[38;5;124m``\u001b[39m\u001b[38;5;132;01m{\u001b[39;00mpath\u001b[38;5;132;01m}\u001b[39;00m\u001b[38;5;124m`` is not a regular file\u001b[39m\u001b[38;5;124m\"\u001b[39m)\n",
      "\u001b[0;31mFileNotFoundError\u001b[0m: ``/Users/max/Documents/POSYDON/docs/_source/tutorials-examples/population-synthesis/1e-01_Zsun_population.h5`` does not exist"
     ]
    }
   ],
   "source": [
    "from posydon.popsyn.synthetic_population import Population\n",
    "\n",
    "file1 = '1e-01_Zsun_population.h5'\n",
    "file2 = '1e-02_Zsun_population.h5'\n",
    "\n",
    "pop1 = Population(file1)\n",
    "print(pop1.mass_per_met)\n",
    "\n",
    "pop2 = Population(file2)\n",
    "print(pop2.mass_per_met)"
   ]
  },
  {
   "cell_type": "code",
   "execution_count": null,
   "metadata": {},
   "outputs": [],
   "source": []
  },
  {
   "cell_type": "code",
   "execution_count": null,
   "metadata": {
    "vscode": {
     "languageId": "shellscript"
    }
   },
   "outputs": [],
   "source": []
  },
  {
   "cell_type": "markdown",
   "metadata": {},
   "source": [
    "## Parsing the Population Synthesis Model Output"
   ]
  },
  {
   "cell_type": "markdown",
   "metadata": {},
   "source": [
    "If everything is set up correctly, the simulation will generate 8 different population synthesis models, one for each metallicity containig 1 million binaries each. The simulation will take a few hours to complete. For convinience, we have already run the simulation and the results are available in the `.../POSYDON_data/tutorials/population-synthesis/example/` folder."
   ]
  },
  {
   "cell_type": "code",
   "execution_count": 11,
   "metadata": {},
   "outputs": [
    {
     "data": {
      "text/plain": [
       "['/Volumes/T7/POSYDON_data/tutorials/population-synthesis/example/1.00e+00_Zsun_population.h5',\n",
       " '/Volumes/T7/POSYDON_data/tutorials/population-synthesis/example/1.00e-01_Zsun_population.h5',\n",
       " '/Volumes/T7/POSYDON_data/tutorials/population-synthesis/example/1.00e-02_Zsun_population.h5',\n",
       " '/Volumes/T7/POSYDON_data/tutorials/population-synthesis/example/1.00e-03_Zsun_population.h5',\n",
       " '/Volumes/T7/POSYDON_data/tutorials/population-synthesis/example/1.00e-04_Zsun_population.h5',\n",
       " '/Volumes/T7/POSYDON_data/tutorials/population-synthesis/example/2.00e+00_Zsun_population.h5',\n",
       " '/Volumes/T7/POSYDON_data/tutorials/population-synthesis/example/2.00e-01_Zsun_population.h5',\n",
       " '/Volumes/T7/POSYDON_data/tutorials/population-synthesis/example/4.50e-01_Zsun_population.h5']"
      ]
     },
     "execution_count": 11,
     "metadata": {},
     "output_type": "execute_result"
    }
   ],
   "source": [
    "import os\n",
    "from posydon.config import PATH_TO_POSYDON_DATA\n",
    "\n",
    "path = os.path.join(PATH_TO_POSYDON_DATA, \"POSYDON_data/tutorials/population-synthesis/example/\")\n",
    "files = sorted([f for f in os.listdir(path) if f.endswith('Zsun_population.h5')])\n",
    "path_to_data = [os.path.join(path, file) for file in files] \n",
    "path_to_data"
   ]
  },
  {
   "cell_type": "markdown",
   "metadata": {},
   "source": [
    "Here we show how you can parse the simulation results and save the subpopulation of merging binary black holes (BBH)."
   ]
  },
  {
   "cell_type": "code",
   "execution_count": 12,
   "metadata": {},
   "outputs": [
    {
     "name": "stdout",
     "output_type": "stream",
     "text": [
      "Binary count with (S1_state, S2_state, binary_state, binary_event) equal\n",
      "to (BH, BH, contact, None)\n",
      "in /Volumes/T7/POSYDON_data/tutorials/population-synthesis/example/1.00e+00_Zsun_population.h5 are 233\n",
      "in /Volumes/T7/POSYDON_data/tutorials/population-synthesis/example/1.00e-01_Zsun_population.h5 are 2643\n",
      "in /Volumes/T7/POSYDON_data/tutorials/population-synthesis/example/1.00e-02_Zsun_population.h5 are 5974\n",
      "in /Volumes/T7/POSYDON_data/tutorials/population-synthesis/example/1.00e-03_Zsun_population.h5 are 8320\n",
      "in /Volumes/T7/POSYDON_data/tutorials/population-synthesis/example/1.00e-04_Zsun_population.h5 are 9683\n",
      "in /Volumes/T7/POSYDON_data/tutorials/population-synthesis/example/2.00e+00_Zsun_population.h5 are 121\n",
      "in /Volumes/T7/POSYDON_data/tutorials/population-synthesis/example/2.00e-01_Zsun_population.h5 are 3021\n",
      "in /Volumes/T7/POSYDON_data/tutorials/population-synthesis/example/4.50e-01_Zsun_population.h5 are 761\n",
      "Total binaries found are 30756\n"
     ]
    },
    {
     "name": "stderr",
     "output_type": "stream",
     "text": [
      "/Users/simone/Google Drive/github/POSYDON-public/posydon/popsyn/synthetic_population.py:300: PerformanceWarning: \n",
      "your performance may suffer as PyTables will pickle object types that it cannot\n",
      "map directly to c-types [inferred_type->mixed,key->block1_values] [items->Index(['state', 'event', 'step_names', 'S1_state', 'S2_state'], dtype='object')]\n",
      "\n",
      "  self.df.to_hdf(path, key='history')\n",
      "/Users/simone/Google Drive/github/POSYDON-public/posydon/popsyn/synthetic_population.py:301: PerformanceWarning: \n",
      "your performance may suffer as PyTables will pickle object types that it cannot\n",
      "map directly to c-types [inferred_type->mixed,key->block2_values] [items->Index(['state_i', 'event_i', 'step_names_i', 'state_f', 'event_f',\n",
      "       'step_names_f', 'S1_state_i', 'S1_state_f', 'S1_SN_type', 'S2_state_i',\n",
      "       'S2_state_f', 'S2_SN_type', 'interp_class_HMS_HMS',\n",
      "       'interp_class_CO_HMS_RLO', 'interp_class_CO_HeMS',\n",
      "       'interp_class_CO_HeMS_RLO', 'mt_history_HMS_HMS',\n",
      "       'mt_history_CO_HMS_RLO', 'mt_history_CO_HeMS',\n",
      "       'mt_history_CO_HeMS_RLO'],\n",
      "      dtype='object')]\n",
      "\n",
      "  self.df_oneline.to_hdf(path, key='oneline')\n"
     ]
    },
    {
     "name": "stdout",
     "output_type": "stream",
     "text": [
      "Population successfully saved!\n"
     ]
    },
    {
     "data": {
      "text/html": [
       "<div>\n",
       "<style scoped>\n",
       "    .dataframe tbody tr th:only-of-type {\n",
       "        vertical-align: middle;\n",
       "    }\n",
       "\n",
       "    .dataframe tbody tr th {\n",
       "        vertical-align: top;\n",
       "    }\n",
       "\n",
       "    .dataframe thead th {\n",
       "        text-align: right;\n",
       "    }\n",
       "</style>\n",
       "<table border=\"1\" class=\"dataframe\">\n",
       "  <thead>\n",
       "    <tr style=\"text-align: right;\">\n",
       "      <th></th>\n",
       "      <th>state</th>\n",
       "      <th>event</th>\n",
       "      <th>time</th>\n",
       "      <th>orbital_period</th>\n",
       "      <th>eccentricity</th>\n",
       "      <th>lg_mtransfer_rate</th>\n",
       "      <th>step_names</th>\n",
       "      <th>step_times</th>\n",
       "      <th>S1_state</th>\n",
       "      <th>S1_mass</th>\n",
       "      <th>...</th>\n",
       "      <th>S2_co_core_radius</th>\n",
       "      <th>S2_center_h1</th>\n",
       "      <th>S2_center_he4</th>\n",
       "      <th>S2_surface_h1</th>\n",
       "      <th>S2_surface_he4</th>\n",
       "      <th>S2_surf_avg_omega_div_omega_crit</th>\n",
       "      <th>S2_spin</th>\n",
       "      <th>metallicity</th>\n",
       "      <th>simulated_mass_for_met</th>\n",
       "      <th>underlying_mass_for_met</th>\n",
       "    </tr>\n",
       "    <tr>\n",
       "      <th>binary_index</th>\n",
       "      <th></th>\n",
       "      <th></th>\n",
       "      <th></th>\n",
       "      <th></th>\n",
       "      <th></th>\n",
       "      <th></th>\n",
       "      <th></th>\n",
       "      <th></th>\n",
       "      <th></th>\n",
       "      <th></th>\n",
       "      <th></th>\n",
       "      <th></th>\n",
       "      <th></th>\n",
       "      <th></th>\n",
       "      <th></th>\n",
       "      <th></th>\n",
       "      <th></th>\n",
       "      <th></th>\n",
       "      <th></th>\n",
       "      <th></th>\n",
       "      <th></th>\n",
       "    </tr>\n",
       "  </thead>\n",
       "  <tbody>\n",
       "    <tr>\n",
       "      <th>3587</th>\n",
       "      <td>detached</td>\n",
       "      <td>ZAMS</td>\n",
       "      <td>0.000000e+00</td>\n",
       "      <td>2.493602e+01</td>\n",
       "      <td>0.000000</td>\n",
       "      <td>NaN</td>\n",
       "      <td>initial_cond</td>\n",
       "      <td>0.000000</td>\n",
       "      <td>H-rich_Core_H_burning</td>\n",
       "      <td>70.069756</td>\n",
       "      <td>...</td>\n",
       "      <td>NaN</td>\n",
       "      <td>7.155000e-01</td>\n",
       "      <td>2.703000e-01</td>\n",
       "      <td>NaN</td>\n",
       "      <td>NaN</td>\n",
       "      <td>NaN</td>\n",
       "      <td>NaN</td>\n",
       "      <td>0.0142</td>\n",
       "      <td>2.913438e+07</td>\n",
       "      <td>1.447893e+08</td>\n",
       "    </tr>\n",
       "    <tr>\n",
       "      <th>3587</th>\n",
       "      <td>contact</td>\n",
       "      <td>oDoubleCE1</td>\n",
       "      <td>3.631450e+06</td>\n",
       "      <td>6.304073e+01</td>\n",
       "      <td>0.000000</td>\n",
       "      <td>-2.989131</td>\n",
       "      <td>step_HMS_HMS</td>\n",
       "      <td>0.037464</td>\n",
       "      <td>H-rich_Core_He_burning</td>\n",
       "      <td>44.118926</td>\n",
       "      <td>...</td>\n",
       "      <td>0.000000</td>\n",
       "      <td>0.000000e+00</td>\n",
       "      <td>9.828315e-01</td>\n",
       "      <td>4.246537e-01</td>\n",
       "      <td>0.561493</td>\n",
       "      <td>0.577444</td>\n",
       "      <td>0.760854</td>\n",
       "      <td>0.0142</td>\n",
       "      <td>2.913438e+07</td>\n",
       "      <td>1.447893e+08</td>\n",
       "    </tr>\n",
       "    <tr>\n",
       "      <th>3587</th>\n",
       "      <td>detached</td>\n",
       "      <td>NaN</td>\n",
       "      <td>3.631450e+06</td>\n",
       "      <td>2.371597e-01</td>\n",
       "      <td>0.000000</td>\n",
       "      <td>NaN</td>\n",
       "      <td>step_CE</td>\n",
       "      <td>0.000137</td>\n",
       "      <td>stripped_He_Core_He_burning</td>\n",
       "      <td>35.566786</td>\n",
       "      <td>...</td>\n",
       "      <td>0.000000</td>\n",
       "      <td>0.000000e+00</td>\n",
       "      <td>9.828315e-01</td>\n",
       "      <td>1.000000e-02</td>\n",
       "      <td>0.975800</td>\n",
       "      <td>NaN</td>\n",
       "      <td>NaN</td>\n",
       "      <td>0.0142</td>\n",
       "      <td>2.913438e+07</td>\n",
       "      <td>1.447893e+08</td>\n",
       "    </tr>\n",
       "    <tr>\n",
       "      <th>3587</th>\n",
       "      <td>detached</td>\n",
       "      <td>CC1</td>\n",
       "      <td>4.007490e+06</td>\n",
       "      <td>1.226986e+00</td>\n",
       "      <td>0.000000</td>\n",
       "      <td>NaN</td>\n",
       "      <td>step_detached</td>\n",
       "      <td>0.777758</td>\n",
       "      <td>stripped_He_Central_C_depletion</td>\n",
       "      <td>13.620462</td>\n",
       "      <td>...</td>\n",
       "      <td>0.401483</td>\n",
       "      <td>1.917729e-34</td>\n",
       "      <td>1.605147e-02</td>\n",
       "      <td>9.893273e-100</td>\n",
       "      <td>0.247607</td>\n",
       "      <td>0.006843</td>\n",
       "      <td>0.077976</td>\n",
       "      <td>0.0142</td>\n",
       "      <td>2.913438e+07</td>\n",
       "      <td>1.447893e+08</td>\n",
       "    </tr>\n",
       "    <tr>\n",
       "      <th>3587</th>\n",
       "      <td>detached</td>\n",
       "      <td>NaN</td>\n",
       "      <td>4.007490e+06</td>\n",
       "      <td>1.358968e+00</td>\n",
       "      <td>0.101109</td>\n",
       "      <td>NaN</td>\n",
       "      <td>step_SN</td>\n",
       "      <td>0.152370</td>\n",
       "      <td>BH</td>\n",
       "      <td>13.120462</td>\n",
       "      <td>...</td>\n",
       "      <td>0.401483</td>\n",
       "      <td>1.917729e-34</td>\n",
       "      <td>1.605147e-02</td>\n",
       "      <td>9.893273e-100</td>\n",
       "      <td>0.247607</td>\n",
       "      <td>0.006843</td>\n",
       "      <td>0.077976</td>\n",
       "      <td>0.0142</td>\n",
       "      <td>2.913438e+07</td>\n",
       "      <td>1.447893e+08</td>\n",
       "    </tr>\n",
       "    <tr>\n",
       "      <th>3587</th>\n",
       "      <td>detached</td>\n",
       "      <td>redirect</td>\n",
       "      <td>4.007490e+06</td>\n",
       "      <td>1.358968e+00</td>\n",
       "      <td>0.101109</td>\n",
       "      <td>NaN</td>\n",
       "      <td>step_CO_HeMS</td>\n",
       "      <td>0.000102</td>\n",
       "      <td>BH</td>\n",
       "      <td>13.120462</td>\n",
       "      <td>...</td>\n",
       "      <td>0.401483</td>\n",
       "      <td>1.917729e-34</td>\n",
       "      <td>1.605147e-02</td>\n",
       "      <td>9.893273e-100</td>\n",
       "      <td>0.247607</td>\n",
       "      <td>0.006843</td>\n",
       "      <td>0.077976</td>\n",
       "      <td>0.0142</td>\n",
       "      <td>2.913438e+07</td>\n",
       "      <td>1.447893e+08</td>\n",
       "    </tr>\n",
       "    <tr>\n",
       "      <th>3587</th>\n",
       "      <td>detached</td>\n",
       "      <td>CC2</td>\n",
       "      <td>4.027170e+06</td>\n",
       "      <td>1.377894e+00</td>\n",
       "      <td>0.101108</td>\n",
       "      <td>NaN</td>\n",
       "      <td>step_detached</td>\n",
       "      <td>0.452186</td>\n",
       "      <td>BH</td>\n",
       "      <td>13.120462</td>\n",
       "      <td>...</td>\n",
       "      <td>0.130995</td>\n",
       "      <td>0.000000e+00</td>\n",
       "      <td>7.706932e-13</td>\n",
       "      <td>1.000000e-99</td>\n",
       "      <td>0.226684</td>\n",
       "      <td>0.015362</td>\n",
       "      <td>0.060340</td>\n",
       "      <td>0.0142</td>\n",
       "      <td>2.913438e+07</td>\n",
       "      <td>1.447893e+08</td>\n",
       "    </tr>\n",
       "    <tr>\n",
       "      <th>3587</th>\n",
       "      <td>detached</td>\n",
       "      <td>NaN</td>\n",
       "      <td>4.027170e+06</td>\n",
       "      <td>1.611464e+00</td>\n",
       "      <td>0.048133</td>\n",
       "      <td>NaN</td>\n",
       "      <td>step_SN</td>\n",
       "      <td>0.149304</td>\n",
       "      <td>BH</td>\n",
       "      <td>13.120462</td>\n",
       "      <td>...</td>\n",
       "      <td>NaN</td>\n",
       "      <td>NaN</td>\n",
       "      <td>NaN</td>\n",
       "      <td>NaN</td>\n",
       "      <td>NaN</td>\n",
       "      <td>NaN</td>\n",
       "      <td>0.064849</td>\n",
       "      <td>0.0142</td>\n",
       "      <td>2.913438e+07</td>\n",
       "      <td>1.447893e+08</td>\n",
       "    </tr>\n",
       "    <tr>\n",
       "      <th>3587</th>\n",
       "      <td>contact</td>\n",
       "      <td>CO_contact</td>\n",
       "      <td>2.917891e+09</td>\n",
       "      <td>2.638756e-08</td>\n",
       "      <td>0.000000</td>\n",
       "      <td>NaN</td>\n",
       "      <td>step_dco</td>\n",
       "      <td>1.252216</td>\n",
       "      <td>BH</td>\n",
       "      <td>13.120462</td>\n",
       "      <td>...</td>\n",
       "      <td>NaN</td>\n",
       "      <td>NaN</td>\n",
       "      <td>NaN</td>\n",
       "      <td>NaN</td>\n",
       "      <td>NaN</td>\n",
       "      <td>NaN</td>\n",
       "      <td>0.064849</td>\n",
       "      <td>0.0142</td>\n",
       "      <td>2.913438e+07</td>\n",
       "      <td>1.447893e+08</td>\n",
       "    </tr>\n",
       "    <tr>\n",
       "      <th>3587</th>\n",
       "      <td>contact</td>\n",
       "      <td>END</td>\n",
       "      <td>2.917891e+09</td>\n",
       "      <td>2.638756e-08</td>\n",
       "      <td>0.000000</td>\n",
       "      <td>NaN</td>\n",
       "      <td>step_end</td>\n",
       "      <td>0.000048</td>\n",
       "      <td>BH</td>\n",
       "      <td>13.120462</td>\n",
       "      <td>...</td>\n",
       "      <td>NaN</td>\n",
       "      <td>NaN</td>\n",
       "      <td>NaN</td>\n",
       "      <td>NaN</td>\n",
       "      <td>NaN</td>\n",
       "      <td>NaN</td>\n",
       "      <td>0.064849</td>\n",
       "      <td>0.0142</td>\n",
       "      <td>2.913438e+07</td>\n",
       "      <td>1.447893e+08</td>\n",
       "    </tr>\n",
       "  </tbody>\n",
       "</table>\n",
       "<p>10 rows × 41 columns</p>\n",
       "</div>"
      ],
      "text/plain": [
       "                 state       event          time  orbital_period  \\\n",
       "binary_index                                                       \n",
       "3587          detached        ZAMS  0.000000e+00    2.493602e+01   \n",
       "3587           contact  oDoubleCE1  3.631450e+06    6.304073e+01   \n",
       "3587          detached         NaN  3.631450e+06    2.371597e-01   \n",
       "3587          detached         CC1  4.007490e+06    1.226986e+00   \n",
       "3587          detached         NaN  4.007490e+06    1.358968e+00   \n",
       "3587          detached    redirect  4.007490e+06    1.358968e+00   \n",
       "3587          detached         CC2  4.027170e+06    1.377894e+00   \n",
       "3587          detached         NaN  4.027170e+06    1.611464e+00   \n",
       "3587           contact  CO_contact  2.917891e+09    2.638756e-08   \n",
       "3587           contact         END  2.917891e+09    2.638756e-08   \n",
       "\n",
       "              eccentricity  lg_mtransfer_rate     step_names  step_times  \\\n",
       "binary_index                                                               \n",
       "3587              0.000000                NaN   initial_cond    0.000000   \n",
       "3587              0.000000          -2.989131   step_HMS_HMS    0.037464   \n",
       "3587              0.000000                NaN        step_CE    0.000137   \n",
       "3587              0.000000                NaN  step_detached    0.777758   \n",
       "3587              0.101109                NaN        step_SN    0.152370   \n",
       "3587              0.101109                NaN   step_CO_HeMS    0.000102   \n",
       "3587              0.101108                NaN  step_detached    0.452186   \n",
       "3587              0.048133                NaN        step_SN    0.149304   \n",
       "3587              0.000000                NaN       step_dco    1.252216   \n",
       "3587              0.000000                NaN       step_end    0.000048   \n",
       "\n",
       "                                     S1_state    S1_mass  ...  \\\n",
       "binary_index                                              ...   \n",
       "3587                    H-rich_Core_H_burning  70.069756  ...   \n",
       "3587                   H-rich_Core_He_burning  44.118926  ...   \n",
       "3587              stripped_He_Core_He_burning  35.566786  ...   \n",
       "3587          stripped_He_Central_C_depletion  13.620462  ...   \n",
       "3587                                       BH  13.120462  ...   \n",
       "3587                                       BH  13.120462  ...   \n",
       "3587                                       BH  13.120462  ...   \n",
       "3587                                       BH  13.120462  ...   \n",
       "3587                                       BH  13.120462  ...   \n",
       "3587                                       BH  13.120462  ...   \n",
       "\n",
       "              S2_co_core_radius  S2_center_h1  S2_center_he4  S2_surface_h1  \\\n",
       "binary_index                                                                  \n",
       "3587                        NaN  7.155000e-01   2.703000e-01            NaN   \n",
       "3587                   0.000000  0.000000e+00   9.828315e-01   4.246537e-01   \n",
       "3587                   0.000000  0.000000e+00   9.828315e-01   1.000000e-02   \n",
       "3587                   0.401483  1.917729e-34   1.605147e-02  9.893273e-100   \n",
       "3587                   0.401483  1.917729e-34   1.605147e-02  9.893273e-100   \n",
       "3587                   0.401483  1.917729e-34   1.605147e-02  9.893273e-100   \n",
       "3587                   0.130995  0.000000e+00   7.706932e-13   1.000000e-99   \n",
       "3587                        NaN           NaN            NaN            NaN   \n",
       "3587                        NaN           NaN            NaN            NaN   \n",
       "3587                        NaN           NaN            NaN            NaN   \n",
       "\n",
       "              S2_surface_he4  S2_surf_avg_omega_div_omega_crit   S2_spin  \\\n",
       "binary_index                                                               \n",
       "3587                     NaN                               NaN       NaN   \n",
       "3587                0.561493                          0.577444  0.760854   \n",
       "3587                0.975800                               NaN       NaN   \n",
       "3587                0.247607                          0.006843  0.077976   \n",
       "3587                0.247607                          0.006843  0.077976   \n",
       "3587                0.247607                          0.006843  0.077976   \n",
       "3587                0.226684                          0.015362  0.060340   \n",
       "3587                     NaN                               NaN  0.064849   \n",
       "3587                     NaN                               NaN  0.064849   \n",
       "3587                     NaN                               NaN  0.064849   \n",
       "\n",
       "              metallicity  simulated_mass_for_met  underlying_mass_for_met  \n",
       "binary_index                                                                \n",
       "3587               0.0142            2.913438e+07             1.447893e+08  \n",
       "3587               0.0142            2.913438e+07             1.447893e+08  \n",
       "3587               0.0142            2.913438e+07             1.447893e+08  \n",
       "3587               0.0142            2.913438e+07             1.447893e+08  \n",
       "3587               0.0142            2.913438e+07             1.447893e+08  \n",
       "3587               0.0142            2.913438e+07             1.447893e+08  \n",
       "3587               0.0142            2.913438e+07             1.447893e+08  \n",
       "3587               0.0142            2.913438e+07             1.447893e+08  \n",
       "3587               0.0142            2.913438e+07             1.447893e+08  \n",
       "3587               0.0142            2.913438e+07             1.447893e+08  \n",
       "\n",
       "[10 rows x 41 columns]"
      ]
     },
     "execution_count": 12,
     "metadata": {},
     "output_type": "execute_result"
    }
   ],
   "source": [
    "from posydon.popsyn.synthetic_population import SyntheticPopulation\n",
    "\n",
    "pop = SyntheticPopulation(path_to_ini='./population_params.ini', verbose=True)\n",
    "\n",
    "pop.parse(path_to_data=path_to_data, S1_state='BH', S2_state='BH', binary_state='contact', invert_S1S2=False)\n",
    "pop.save_pop(os.path.join(path,'BBH_population.h5'))\n",
    "\n",
    "pop.df.head(10)"
   ]
  },
  {
   "cell_type": "markdown",
   "metadata": {},
   "source": [
    "You can now do the same for the other subpopulations of interest. Try sorting black hole-neutron star systems (BHNS; remember to set `invert_S1S2 = True` to find BHNS systems where the NS is formed first) and binary neutron star systems (BNS)."
   ]
  },
  {
   "cell_type": "code",
   "execution_count": null,
   "metadata": {},
   "outputs": [],
   "source": []
  }
 ],
 "metadata": {
  "kernelspec": {
   "display_name": "Python 3 (ipykernel)",
   "language": "python",
   "name": "python3"
  },
  "language_info": {
   "codemirror_mode": {
    "name": "ipython",
    "version": 3
   },
   "file_extension": ".py",
   "mimetype": "text/x-python",
   "name": "python",
   "nbconvert_exporter": "python",
   "pygments_lexer": "ipython3",
   "version": "3.11.5"
  }
 },
 "nbformat": 4,
 "nbformat_minor": 4
}
