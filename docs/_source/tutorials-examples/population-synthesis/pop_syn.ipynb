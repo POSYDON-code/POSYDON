{
 "cells": [
  {
   "cell_type": "markdown",
   "metadata": {},
   "source": [
    "# Large-Scale Population Synthesis on HPC Facilities 🚀\n",
    "\n",
    "**Tutorial goal**\n",
    "\n",
    "This tutorial will cover how to setup and run a large, multi-metallicity population run on a HPC with slurm.\n",
    "\n",
    "We will dive deeper into the `population_params.ini` file and the `Population` class for multi-metallicity populations."
   ]
  },
  {
   "cell_type": "markdown",
   "metadata": {},
   "source": [
    "If you haven't done so yet, export the path POSYDON environment variables. For example:"
   ]
  },
  {
   "cell_type": "code",
   "execution_count": null,
   "metadata": {},
   "outputs": [],
   "source": [
    "%env PATH_TO_POSYDON=/Users/simone/Google Drive/github/POSYDON-public/\n",
    "%env PATH_TO_POSYDON_DATA=/Volumes/T7/"
   ]
  },
  {
   "cell_type": "markdown",
   "metadata": {},
   "source": [
    "## Creating the Initialization File for multi-metallicity runs"
   ]
  },
  {
   "cell_type": "markdown",
   "metadata": {},
   "source": [
    "Let's copy the default population synthesis ini file to your working directory.\n",
    "Make sure you're on a cluster to be able to run and submit the jobs.\n"
   ]
  },
  {
   "cell_type": "code",
   "execution_count": null,
   "metadata": {},
   "outputs": [],
   "source": [
    "import os\n",
    "import shutil\n",
    "from posydon.config import PATH_TO_POSYDON\n",
    "\n",
    "path_to_params = os.path.join(PATH_TO_POSYDON, \"posydon/popsyn/population_params_default.ini\")\n",
    "shutil.copyfile(path_to_params, './population_params.ini')"
   ]
  },
  {
   "cell_type": "markdown",
   "metadata": {},
   "source": [
    "Open the `population_params.ini` file and do the following edits to run a large model at 8 differet metallicities:\n",
    "\n",
    "- set `metallicity = [2., 1., 0.45, 0.2, 0.1, 0.01, 0.001, 0.0001]`\n",
    "- set `number_of_binaries = 100`\n",
    "\n",
    "You might also want to make sure the `dump_rate` is set to 10 binaries. \n",
    "`dump_rate = 10`"
   ]
  },
  {
   "cell_type": "markdown",
   "metadata": {},
   "source": [
    "## Setting-up the Population Synthesis Model "
   ]
  },
  {
   "cell_type": "markdown",
   "metadata": {},
   "source": [
    "POSYDON provides `setup-popsyn` that you can use to setup a (multi-)metallicity population run on a HPC facility.\n",
    "\n",
    "This will split each metallicity into a separate slurm job-array and a dependent job which will automatically merge the output of the separate jobs.\n",
    "\n",
    "Below are two examples, but you might require to adjust the inputs for your email, cluster and available partitions.\n",
    "\n",
    "\n",
    "<div class=\"alert alert-block alert-warning\"><b>Older POSYDON installations</b> \n",
    "\n",
    "If the `setup-popsyn` command is not available, you might have to install POSYDON.\n",
    "1. Go to the directory: `cd $PATH_TO_POSYDON`\n",
    "2. Uninstall using pip `pip uninstall posydon`\n",
    "3. Reinstall: if you're using the development version: `pip install .`\n",
    "   \n",
    "See the [Installation instructions]() if any issues occur.\n",
    "   <div>\n"
   ]
  },
  {
   "cell_type": "code",
   "execution_count": null,
   "metadata": {
    "vscode": {
     "languageId": "shellscript"
    }
   },
   "outputs": [],
   "source": [
    "# example for yggdrasil\n",
    "posydon-setup-popsyn population_params.ini --job_array=10 --walltime=00:14:00 --partition=debug-cpu --email=max.briel@unige.ch --account=fragkos"
   ]
  },
  {
   "cell_type": "code",
   "execution_count": null,
   "metadata": {
    "vscode": {
     "languageId": "shellscript"
    }
   },
   "outputs": [],
   "source": [
    "# example for quest cluster\n",
    "posydon-setup-popsyn population_params.ini --job-array=10 --walltime=00:14:00"
   ]
  },
  {
   "cell_type": "markdown",
   "metadata": {},
   "source": [
    "`setup-popsyn --help` should provide a complete list of possible input parameters.\n",
    "\n",
    "\n",
    "### walltime and job_array number fine-tuning\n",
    "\n",
    "The above examples will setup the population run with an array of 10 jobs for each metallicity. As such, each job will run 10 binaries of the 100 binaries per metallicity.\n",
    "\n",
    "Fine-tuning the `dump_rate` compared to the number of binaries each job runs can be helpful. However, the larger the `dump_rate` the higher the memory footprint of each job.\n",
    "As a default, 4Gb of RAM is requested per job.\n",
    "\n",
    "Similarly, the `walltime` and `job_array` can be fine-tuned. A single binary takes about 1-2 seconds to run. Depending on the number of binaries each job does, you might want to raise or lower the walltime for optimal perfomance.\n",
    "\n",
    "For example, with 100.000 binaries split over 100 jobs (per metallicity), means that every job runs 1.000 binaries. `dump_rate=1000` is a good amount of binaries to keep in memory, when you're doing an initial-final run (see here for more details on different run types). This will take around 33 minutes per job. So a walltime of `00:45:00` is reasonable.\n",
    "\n",
    "Instead of setting a `dump_rate`, it's also possible to set a `ram_per_cpu`. The code will try to stay below 90\\% of this limit, but this is not always guaranteed due to additional python overhead."
   ]
  },
  {
   "cell_type": "markdown",
   "metadata": {},
   "source": [
    "After you've ran the above setup, you should now have several files in your work directory.\n",
    "\n",
    "You can submit all job arrays and merged jobs using `slurm_submit.sh`\n"
   ]
  },
  {
   "cell_type": "code",
   "execution_count": null,
   "metadata": {
    "vscode": {
     "languageId": "shellscript"
    }
   },
   "outputs": [],
   "source": [
    "sh slurm_submit.sh"
   ]
  },
  {
   "cell_type": "markdown",
   "metadata": {},
   "source": [
    "If one of your runs fails, you can manually submit them again after fixing the issue.\n",
    "The `*_logs` folder will contain the logs of each job in the job_array.\n",
    "\n",
    "## Populations inspection\n",
    "\n",
    "Once the runs and the mergers have finished. You should have 8 files named `MET_Zsun_population.h5`, where `MET` are the metallicities.\n",
    "\n",
    "We will inspect two to check the number of binaries in the population."
   ]
  },
  {
   "cell_type": "code",
   "execution_count": null,
   "metadata": {},
   "outputs": [],
   "source": [
    "from posydon.popsyn.synthetic_population import Population\n",
    "\n",
    "file1 = '1e-01_Zsun_population.h5'\n",
    "file2 = '1e-02_Zsun_population.h5'\n",
    "\n",
    "pop1 = Population(file1)\n",
    "print(pop1.mass_per_metallicity)\n",
    "\n",
    "pop2 = Population(file2)\n",
    "print(pop2.mass_per_metallicity)"
   ]
  },
  {
   "cell_type": "markdown",
   "metadata": {},
   "source": [
    "In the next tutorial, we will look into selecting specific events and combining the different metallicity runs into a single population!"
   ]
  }
 ],
 "metadata": {
  "kernelspec": {
   "display_name": "Python 3 (ipykernel)",
   "language": "python",
   "name": "python3"
  },
  "language_info": {
   "codemirror_mode": {
    "name": "ipython",
    "version": 3
   },
   "file_extension": ".py",
   "mimetype": "text/x-python",
   "name": "python",
   "nbconvert_exporter": "python",
   "pygments_lexer": "ipython3",
   "version": "3.11.5"
  }
 },
 "nbformat": 4,
 "nbformat_minor": 4
}
