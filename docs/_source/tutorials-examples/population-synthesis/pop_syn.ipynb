{
 "cells": [
  {
   "cell_type": "markdown",
   "metadata": {},
   "source": [
    "# Large-Scale Population Synthesis on HPC Facilities 🚀"
   ]
  },
  {
   "cell_type": "markdown",
   "metadata": {},
   "source": [
    "If you haven't done so yet, export the path POSYDON environment variables. For example:"
   ]
  },
  {
   "cell_type": "code",
   "execution_count": 1,
   "metadata": {},
   "outputs": [
    {
     "name": "stdout",
     "output_type": "stream",
     "text": [
      "env: PATH_TO_POSYDON=/Users/simone/Google Drive/github/POSYDON-public/\n",
      "env: PATH_TO_POSYDON_DATA=/Volumes/T7/\n"
     ]
    }
   ],
   "source": [
    "%env PATH_TO_POSYDON=/Users/simone/Google Drive/github/POSYDON-public/\n",
    "%env PATH_TO_POSYDON_DATA=/Volumes/T7/"
   ]
  },
  {
   "cell_type": "markdown",
   "metadata": {},
   "source": [
    "## Creating the Initialization File to Rub the Binary Population Synthesis Model"
   ]
  },
  {
   "cell_type": "markdown",
   "metadata": {},
   "source": [
    "Let's copy the default populatio synthesis modle to your working directory."
   ]
  },
  {
   "cell_type": "code",
   "execution_count": null,
   "metadata": {},
   "outputs": [],
   "source": [
    "import os\n",
    "import shutil\n",
    "from posydon.config import PATH_TO_POSYDON\n",
    "\n",
    "path_to_params = os.path.join(PATH_TO_POSYDON, \"posydon/popsyn/population_params_default.ini\")\n",
    "shutil.copyfile(path_to_params, './population_params.ini')"
   ]
  },
  {
   "cell_type": "markdown",
   "metadata": {},
   "source": [
    "Open the `population_params.ini` file and do the following edits to run a large model at 8 differet metallicities:\n",
    "\n",
    "- set `metallicity = [2., 1., 0.45, 0.2, 0.1, 0.01, 0.001, 0.0001]`\n",
    "- set `number_of_binaries = 1000000`"
   ]
  },
  {
   "cell_type": "markdown",
   "metadata": {},
   "source": [
    "## Running the Population Synthesis Model "
   ]
  },
  {
   "cell_type": "markdown",
   "metadata": {},
   "source": [
    "Write the binary population simulation script to a file to run the population synthesis model with slurm on the HPC facility."
   ]
  },
  {
   "cell_type": "code",
   "execution_count": 2,
   "metadata": {},
   "outputs": [
    {
     "name": "stdout",
     "output_type": "stream",
     "text": [
      "Writing script.py\n"
     ]
    }
   ],
   "source": [
    "%%writefile script.py\n",
    "from posydon.popsyn.synthetic_population import SyntheticPopulation\n",
    "\n",
    "if __name__ == \"__main__\":\n",
    "    synth_pop = SyntheticPopulation(\"./population_params.ini\")\n",
    "    synth_pop.evolve()"
   ]
  },
  {
   "cell_type": "markdown",
   "metadata": {},
   "source": [
    "Run the simulation on the HPC facility using the slurm magic command. "
   ]
  },
  {
   "cell_type": "code",
   "execution_count": 4,
   "metadata": {},
   "outputs": [],
   "source": [
    "# Note: if you do not have the slurm magic commads installed, you can install it with the following line\n",
    "# !pip install git+https://github.com/NERSC/slurm-magic.git"
   ]
  },
  {
   "cell_type": "code",
   "execution_count": 5,
   "metadata": {},
   "outputs": [],
   "source": [
    "%load_ext slurm_magic"
   ]
  },
  {
   "cell_type": "markdown",
   "metadata": {},
   "source": [
    "The following slurm file works on UNIGE HPC facility."
   ]
  },
  {
   "cell_type": "code",
   "execution_count": null,
   "metadata": {},
   "outputs": [],
   "source": [
    "%%sbatch\n",
    "#!/bin/bash\n",
    "#SBATCH --array=0-34\n",
    "#SBATCH --partition=private-astro-cpu\n",
    "#SBATCH --job-name=pop_syn\n",
    "#SBATCH --output=./pop_synth_%A_%a.out\n",
    "#SBATCH --mail-type=FAIL\n",
    "#SBATCH --mail-user=user@email.ch\n",
    "#SBATCH --time=24:00:00\n",
    "#SBATCH --mem-per-cpu=4G\n",
    "\n",
    "export PATH_TO_POSYDON=/srv/beegfs/scratch/shares/astro/posydon/simone/POSYDON-public/\n",
    "export PATH_TO_POSYDON_DATA=/srv/beegfs/scratch/shares/astro/posydon/POSYDON_GRIDS_v2/POSYDON_data/230914/\n",
    "python ./script.py"
   ]
  },
  {
   "cell_type": "markdown",
   "metadata": {},
   "source": [
    "The following slurm file works on Northwestern HPC facility."
   ]
  },
  {
   "cell_type": "code",
   "execution_count": null,
   "metadata": {},
   "outputs": [],
   "source": [
    "%%sbatch\n",
    "#!/bin/bash\n",
    "#SBATCH --account=b1119\n",
    "#SBATCH --partition=posydon-priority\n",
    "#SBATCH --array=0-34\n",
    "#SBATCH --job-name=pop_syn\n",
    "#SBATCH --output=./pop_syn.out\n",
    "#SBATCH --mail-type=FAIL\n",
    "#SBATCH --mail-user=user@email.ch\n",
    "#SBATCH --time=24:00:00\n",
    "#SBATCH --mem-per-cpu=4G\n",
    "\n",
    "export PATH_TO_POSYDON=/projects/b1119/ssb7065/POSYDON-public/\n",
    "export PATH_TO_POSYDON_DATA=/projects/b1119/POSYDON_GRIDS/POSYDON_popsynth_data/v2/230816/\n",
    "python ./script.py"
   ]
  },
  {
   "cell_type": "markdown",
   "metadata": {},
   "source": [
    "# Combining runs into single metallicity files\n",
    "\n",
    "The above process creates a temporary batch folder per metallicity in which the sub-processes deposit their output.\n",
    "After the processes are done, the files have to be combined into a population file per metallicity.\n",
    "The follow code allows you to perform this concatenation, which is similar to the code shown in [the first tutorial](10_binaries_pop_syn)."
   ]
  },
  {
   "cell_type": "code",
   "execution_count": null,
   "metadata": {},
   "outputs": [],
   "source": [
    "%%writefile concat_runs.py\n",
    "from posydon.popsyn.synthetic_population import SyntheticPopulation\n",
    "from posydon.config import PATH_TO_POSYDON_DATA\n",
    "import os\n",
    "\n",
    "if __name__ == \"__main__\":\n",
    "    synth_pop = SyntheticPopulation(\"./population_params.ini\")\n",
    "    # Get the path to the batches in the current folder\n",
    "    x = os.listdir('.')\n",
    "    path_to_batches = [i for i in x if i.endswith('_batches')]\n",
    "    synth_pop.merge_parallel_runs(path_to_batches)"
   ]
  },
  {
   "cell_type": "markdown",
   "metadata": {},
   "source": [
    "This script can be manually ran after the job array has finished or we can submit another SLURM job, which only starts once the job array has finished.\n",
    "\n",
    "For this job to start once the job array has finished, the `job-name` has to be the same as the job array and `dependency=singleton` has to be set.\n",
    "If the job array does not finish correctly, this job will never run!"
   ]
  },
  {
   "cell_type": "code",
   "execution_count": null,
   "metadata": {},
   "outputs": [],
   "source": [
    "%%sbatch\n",
    "#!/bin/bash\n",
    "#SBATCH --job-name=pop_syn\n",
    "#SBATCH --partition=private-astro-cpu\n",
    "#SBATCH --output=population_concat.out\n",
    "#SBATCH --mail-type=FAIL\n",
    "#SBATCH --mail-user=user@email.ch\n",
    "#SBATCH --time=01:00:00\n",
    "#SBATCH --mem=4GB\n",
    "#SBATCH --dependency=singleton\n",
    "\n",
    "export PATH_TO_POSYDON=/srv/beegfs/scratch/shares/astro/posydon/simone/POSYDON-public/\n",
    "export PATH_TO_POSYDON_DATA=/srv/beegfs/scratch/shares/astro/posydon/POSYDON_GRIDS_v2/POSYDON_data/230914/\n",
    "python concat_runs.py"
   ]
  },
  {
   "cell_type": "code",
   "execution_count": null,
   "metadata": {},
   "outputs": [],
   "source": [
    "%%sbatch\n",
    "#!/bin/bash\n",
    "#SBATCH --job-name=pop_syn\n",
    "#SBATCH --account=b1119\n",
    "#SBATCH --partition=posydon-priority\n",
    "#SBATCH --output=population_concat.out\n",
    "#SBATCH --mail-type=FAIL\n",
    "#SBATCH --mail-user=user@email.ch\n",
    "#SBATCH --time=01:00:00\n",
    "#SBATCH --mem=4G\n",
    "#SBATCH --dependency=singleton\n",
    "\n",
    "export PATH_TO_POSYDON=/projects/b1119/ssb7065/POSYDON-public/\n",
    "export PATH_TO_POSYDON_DATA=/projects/b1119/POSYDON_GRIDS/POSYDON_popsynth_data/v2/230816/\n",
    "python concat_runs.py"
   ]
  },
  {
   "cell_type": "markdown",
   "metadata": {},
   "source": [
    "## Parsing the Population Synthesis Model Output"
   ]
  },
  {
   "cell_type": "markdown",
   "metadata": {},
   "source": [
    "If everything is set up correctly, the simulation will generate 8 different population synthesis models, one for each metallicity containig 1 million binaries each. The simulation will take a few hours to complete. For convinience, we have already run the simulation and the results are available in the `.../POSYDON_data/tutorials/population-synthesis/example/` folder."
   ]
  },
  {
   "cell_type": "code",
   "execution_count": 11,
   "metadata": {},
   "outputs": [
    {
     "data": {
      "text/plain": [
       "['/Volumes/T7/POSYDON_data/tutorials/population-synthesis/example/1.00e+00_Zsun_population.h5',\n",
       " '/Volumes/T7/POSYDON_data/tutorials/population-synthesis/example/1.00e-01_Zsun_population.h5',\n",
       " '/Volumes/T7/POSYDON_data/tutorials/population-synthesis/example/1.00e-02_Zsun_population.h5',\n",
       " '/Volumes/T7/POSYDON_data/tutorials/population-synthesis/example/1.00e-03_Zsun_population.h5',\n",
       " '/Volumes/T7/POSYDON_data/tutorials/population-synthesis/example/1.00e-04_Zsun_population.h5',\n",
       " '/Volumes/T7/POSYDON_data/tutorials/population-synthesis/example/2.00e+00_Zsun_population.h5',\n",
       " '/Volumes/T7/POSYDON_data/tutorials/population-synthesis/example/2.00e-01_Zsun_population.h5',\n",
       " '/Volumes/T7/POSYDON_data/tutorials/population-synthesis/example/4.50e-01_Zsun_population.h5']"
      ]
     },
     "execution_count": 11,
     "metadata": {},
     "output_type": "execute_result"
    }
   ],
   "source": [
    "import os\n",
    "from posydon.config import PATH_TO_POSYDON_DATA\n",
    "\n",
    "path = os.path.join(PATH_TO_POSYDON_DATA, \"POSYDON_data/tutorials/population-synthesis/example/\")\n",
    "files = sorted([f for f in os.listdir(path) if f.endswith('Zsun_population.h5')])\n",
    "path_to_data = [os.path.join(path, file) for file in files] \n",
    "path_to_data"
   ]
  },
  {
   "cell_type": "markdown",
   "metadata": {},
   "source": [
    "Here we show how you can parse the simulation results and save the subpopulation of merging binary black holes (BBH)."
   ]
  },
  {
   "cell_type": "code",
   "execution_count": 12,
   "metadata": {},
   "outputs": [
    {
     "name": "stdout",
     "output_type": "stream",
     "text": [
      "Binary count with (S1_state, S2_state, binary_state, binary_event) equal\n",
      "to (BH, BH, contact, None)\n",
      "in /Volumes/T7/POSYDON_data/tutorials/population-synthesis/example/1.00e+00_Zsun_population.h5 are 233\n",
      "in /Volumes/T7/POSYDON_data/tutorials/population-synthesis/example/1.00e-01_Zsun_population.h5 are 2643\n",
      "in /Volumes/T7/POSYDON_data/tutorials/population-synthesis/example/1.00e-02_Zsun_population.h5 are 5974\n",
      "in /Volumes/T7/POSYDON_data/tutorials/population-synthesis/example/1.00e-03_Zsun_population.h5 are 8320\n",
      "in /Volumes/T7/POSYDON_data/tutorials/population-synthesis/example/1.00e-04_Zsun_population.h5 are 9683\n",
      "in /Volumes/T7/POSYDON_data/tutorials/population-synthesis/example/2.00e+00_Zsun_population.h5 are 121\n",
      "in /Volumes/T7/POSYDON_data/tutorials/population-synthesis/example/2.00e-01_Zsun_population.h5 are 3021\n",
      "in /Volumes/T7/POSYDON_data/tutorials/population-synthesis/example/4.50e-01_Zsun_population.h5 are 761\n",
      "Total binaries found are 30756\n"
     ]
    },
    {
     "name": "stderr",
     "output_type": "stream",
     "text": [
      "/Users/simone/Google Drive/github/POSYDON-public/posydon/popsyn/synthetic_population.py:300: PerformanceWarning: \n",
      "your performance may suffer as PyTables will pickle object types that it cannot\n",
      "map directly to c-types [inferred_type->mixed,key->block1_values] [items->Index(['state', 'event', 'step_names', 'S1_state', 'S2_state'], dtype='object')]\n",
      "\n",
      "  self.df.to_hdf(path, key='history')\n",
      "/Users/simone/Google Drive/github/POSYDON-public/posydon/popsyn/synthetic_population.py:301: PerformanceWarning: \n",
      "your performance may suffer as PyTables will pickle object types that it cannot\n",
      "map directly to c-types [inferred_type->mixed,key->block2_values] [items->Index(['state_i', 'event_i', 'step_names_i', 'state_f', 'event_f',\n",
      "       'step_names_f', 'S1_state_i', 'S1_state_f', 'S1_SN_type', 'S2_state_i',\n",
      "       'S2_state_f', 'S2_SN_type', 'interp_class_HMS_HMS',\n",
      "       'interp_class_CO_HMS_RLO', 'interp_class_CO_HeMS',\n",
      "       'interp_class_CO_HeMS_RLO', 'mt_history_HMS_HMS',\n",
      "       'mt_history_CO_HMS_RLO', 'mt_history_CO_HeMS',\n",
      "       'mt_history_CO_HeMS_RLO'],\n",
      "      dtype='object')]\n",
      "\n",
      "  self.df_oneline.to_hdf(path, key='oneline')\n"
     ]
    },
    {
     "name": "stdout",
     "output_type": "stream",
     "text": [
      "Population successfully saved!\n"
     ]
    },
    {
     "data": {
      "text/html": [
       "<div>\n",
       "<style scoped>\n",
       "    .dataframe tbody tr th:only-of-type {\n",
       "        vertical-align: middle;\n",
       "    }\n",
       "\n",
       "    .dataframe tbody tr th {\n",
       "        vertical-align: top;\n",
       "    }\n",
       "\n",
       "    .dataframe thead th {\n",
       "        text-align: right;\n",
       "    }\n",
       "</style>\n",
       "<table border=\"1\" class=\"dataframe\">\n",
       "  <thead>\n",
       "    <tr style=\"text-align: right;\">\n",
       "      <th></th>\n",
       "      <th>state</th>\n",
       "      <th>event</th>\n",
       "      <th>time</th>\n",
       "      <th>orbital_period</th>\n",
       "      <th>eccentricity</th>\n",
       "      <th>lg_mtransfer_rate</th>\n",
       "      <th>step_names</th>\n",
       "      <th>step_times</th>\n",
       "      <th>S1_state</th>\n",
       "      <th>S1_mass</th>\n",
       "      <th>...</th>\n",
       "      <th>S2_co_core_radius</th>\n",
       "      <th>S2_center_h1</th>\n",
       "      <th>S2_center_he4</th>\n",
       "      <th>S2_surface_h1</th>\n",
       "      <th>S2_surface_he4</th>\n",
       "      <th>S2_surf_avg_omega_div_omega_crit</th>\n",
       "      <th>S2_spin</th>\n",
       "      <th>metallicity</th>\n",
       "      <th>simulated_mass_for_met</th>\n",
       "      <th>underlying_mass_for_met</th>\n",
       "    </tr>\n",
       "    <tr>\n",
       "      <th>binary_index</th>\n",
       "      <th></th>\n",
       "      <th></th>\n",
       "      <th></th>\n",
       "      <th></th>\n",
       "      <th></th>\n",
       "      <th></th>\n",
       "      <th></th>\n",
       "      <th></th>\n",
       "      <th></th>\n",
       "      <th></th>\n",
       "      <th></th>\n",
       "      <th></th>\n",
       "      <th></th>\n",
       "      <th></th>\n",
       "      <th></th>\n",
       "      <th></th>\n",
       "      <th></th>\n",
       "      <th></th>\n",
       "      <th></th>\n",
       "      <th></th>\n",
       "      <th></th>\n",
       "    </tr>\n",
       "  </thead>\n",
       "  <tbody>\n",
       "    <tr>\n",
       "      <th>3587</th>\n",
       "      <td>detached</td>\n",
       "      <td>ZAMS</td>\n",
       "      <td>0.000000e+00</td>\n",
       "      <td>2.493602e+01</td>\n",
       "      <td>0.000000</td>\n",
       "      <td>NaN</td>\n",
       "      <td>initial_cond</td>\n",
       "      <td>0.000000</td>\n",
       "      <td>H-rich_Core_H_burning</td>\n",
       "      <td>70.069756</td>\n",
       "      <td>...</td>\n",
       "      <td>NaN</td>\n",
       "      <td>7.155000e-01</td>\n",
       "      <td>2.703000e-01</td>\n",
       "      <td>NaN</td>\n",
       "      <td>NaN</td>\n",
       "      <td>NaN</td>\n",
       "      <td>NaN</td>\n",
       "      <td>0.0142</td>\n",
       "      <td>2.913438e+07</td>\n",
       "      <td>1.447893e+08</td>\n",
       "    </tr>\n",
       "    <tr>\n",
       "      <th>3587</th>\n",
       "      <td>contact</td>\n",
       "      <td>oDoubleCE1</td>\n",
       "      <td>3.631450e+06</td>\n",
       "      <td>6.304073e+01</td>\n",
       "      <td>0.000000</td>\n",
       "      <td>-2.989131</td>\n",
       "      <td>step_HMS_HMS</td>\n",
       "      <td>0.037464</td>\n",
       "      <td>H-rich_Core_He_burning</td>\n",
       "      <td>44.118926</td>\n",
       "      <td>...</td>\n",
       "      <td>0.000000</td>\n",
       "      <td>0.000000e+00</td>\n",
       "      <td>9.828315e-01</td>\n",
       "      <td>4.246537e-01</td>\n",
       "      <td>0.561493</td>\n",
       "      <td>0.577444</td>\n",
       "      <td>0.760854</td>\n",
       "      <td>0.0142</td>\n",
       "      <td>2.913438e+07</td>\n",
       "      <td>1.447893e+08</td>\n",
       "    </tr>\n",
       "    <tr>\n",
       "      <th>3587</th>\n",
       "      <td>detached</td>\n",
       "      <td>NaN</td>\n",
       "      <td>3.631450e+06</td>\n",
       "      <td>2.371597e-01</td>\n",
       "      <td>0.000000</td>\n",
       "      <td>NaN</td>\n",
       "      <td>step_CE</td>\n",
       "      <td>0.000137</td>\n",
       "      <td>stripped_He_Core_He_burning</td>\n",
       "      <td>35.566786</td>\n",
       "      <td>...</td>\n",
       "      <td>0.000000</td>\n",
       "      <td>0.000000e+00</td>\n",
       "      <td>9.828315e-01</td>\n",
       "      <td>1.000000e-02</td>\n",
       "      <td>0.975800</td>\n",
       "      <td>NaN</td>\n",
       "      <td>NaN</td>\n",
       "      <td>0.0142</td>\n",
       "      <td>2.913438e+07</td>\n",
       "      <td>1.447893e+08</td>\n",
       "    </tr>\n",
       "    <tr>\n",
       "      <th>3587</th>\n",
       "      <td>detached</td>\n",
       "      <td>CC1</td>\n",
       "      <td>4.007490e+06</td>\n",
       "      <td>1.226986e+00</td>\n",
       "      <td>0.000000</td>\n",
       "      <td>NaN</td>\n",
       "      <td>step_detached</td>\n",
       "      <td>0.777758</td>\n",
       "      <td>stripped_He_Central_C_depletion</td>\n",
       "      <td>13.620462</td>\n",
       "      <td>...</td>\n",
       "      <td>0.401483</td>\n",
       "      <td>1.917729e-34</td>\n",
       "      <td>1.605147e-02</td>\n",
       "      <td>9.893273e-100</td>\n",
       "      <td>0.247607</td>\n",
       "      <td>0.006843</td>\n",
       "      <td>0.077976</td>\n",
       "      <td>0.0142</td>\n",
       "      <td>2.913438e+07</td>\n",
       "      <td>1.447893e+08</td>\n",
       "    </tr>\n",
       "    <tr>\n",
       "      <th>3587</th>\n",
       "      <td>detached</td>\n",
       "      <td>NaN</td>\n",
       "      <td>4.007490e+06</td>\n",
       "      <td>1.358968e+00</td>\n",
       "      <td>0.101109</td>\n",
       "      <td>NaN</td>\n",
       "      <td>step_SN</td>\n",
       "      <td>0.152370</td>\n",
       "      <td>BH</td>\n",
       "      <td>13.120462</td>\n",
       "      <td>...</td>\n",
       "      <td>0.401483</td>\n",
       "      <td>1.917729e-34</td>\n",
       "      <td>1.605147e-02</td>\n",
       "      <td>9.893273e-100</td>\n",
       "      <td>0.247607</td>\n",
       "      <td>0.006843</td>\n",
       "      <td>0.077976</td>\n",
       "      <td>0.0142</td>\n",
       "      <td>2.913438e+07</td>\n",
       "      <td>1.447893e+08</td>\n",
       "    </tr>\n",
       "    <tr>\n",
       "      <th>3587</th>\n",
       "      <td>detached</td>\n",
       "      <td>redirect</td>\n",
       "      <td>4.007490e+06</td>\n",
       "      <td>1.358968e+00</td>\n",
       "      <td>0.101109</td>\n",
       "      <td>NaN</td>\n",
       "      <td>step_CO_HeMS</td>\n",
       "      <td>0.000102</td>\n",
       "      <td>BH</td>\n",
       "      <td>13.120462</td>\n",
       "      <td>...</td>\n",
       "      <td>0.401483</td>\n",
       "      <td>1.917729e-34</td>\n",
       "      <td>1.605147e-02</td>\n",
       "      <td>9.893273e-100</td>\n",
       "      <td>0.247607</td>\n",
       "      <td>0.006843</td>\n",
       "      <td>0.077976</td>\n",
       "      <td>0.0142</td>\n",
       "      <td>2.913438e+07</td>\n",
       "      <td>1.447893e+08</td>\n",
       "    </tr>\n",
       "    <tr>\n",
       "      <th>3587</th>\n",
       "      <td>detached</td>\n",
       "      <td>CC2</td>\n",
       "      <td>4.027170e+06</td>\n",
       "      <td>1.377894e+00</td>\n",
       "      <td>0.101108</td>\n",
       "      <td>NaN</td>\n",
       "      <td>step_detached</td>\n",
       "      <td>0.452186</td>\n",
       "      <td>BH</td>\n",
       "      <td>13.120462</td>\n",
       "      <td>...</td>\n",
       "      <td>0.130995</td>\n",
       "      <td>0.000000e+00</td>\n",
       "      <td>7.706932e-13</td>\n",
       "      <td>1.000000e-99</td>\n",
       "      <td>0.226684</td>\n",
       "      <td>0.015362</td>\n",
       "      <td>0.060340</td>\n",
       "      <td>0.0142</td>\n",
       "      <td>2.913438e+07</td>\n",
       "      <td>1.447893e+08</td>\n",
       "    </tr>\n",
       "    <tr>\n",
       "      <th>3587</th>\n",
       "      <td>detached</td>\n",
       "      <td>NaN</td>\n",
       "      <td>4.027170e+06</td>\n",
       "      <td>1.611464e+00</td>\n",
       "      <td>0.048133</td>\n",
       "      <td>NaN</td>\n",
       "      <td>step_SN</td>\n",
       "      <td>0.149304</td>\n",
       "      <td>BH</td>\n",
       "      <td>13.120462</td>\n",
       "      <td>...</td>\n",
       "      <td>NaN</td>\n",
       "      <td>NaN</td>\n",
       "      <td>NaN</td>\n",
       "      <td>NaN</td>\n",
       "      <td>NaN</td>\n",
       "      <td>NaN</td>\n",
       "      <td>0.064849</td>\n",
       "      <td>0.0142</td>\n",
       "      <td>2.913438e+07</td>\n",
       "      <td>1.447893e+08</td>\n",
       "    </tr>\n",
       "    <tr>\n",
       "      <th>3587</th>\n",
       "      <td>contact</td>\n",
       "      <td>CO_contact</td>\n",
       "      <td>2.917891e+09</td>\n",
       "      <td>2.638756e-08</td>\n",
       "      <td>0.000000</td>\n",
       "      <td>NaN</td>\n",
       "      <td>step_dco</td>\n",
       "      <td>1.252216</td>\n",
       "      <td>BH</td>\n",
       "      <td>13.120462</td>\n",
       "      <td>...</td>\n",
       "      <td>NaN</td>\n",
       "      <td>NaN</td>\n",
       "      <td>NaN</td>\n",
       "      <td>NaN</td>\n",
       "      <td>NaN</td>\n",
       "      <td>NaN</td>\n",
       "      <td>0.064849</td>\n",
       "      <td>0.0142</td>\n",
       "      <td>2.913438e+07</td>\n",
       "      <td>1.447893e+08</td>\n",
       "    </tr>\n",
       "    <tr>\n",
       "      <th>3587</th>\n",
       "      <td>contact</td>\n",
       "      <td>END</td>\n",
       "      <td>2.917891e+09</td>\n",
       "      <td>2.638756e-08</td>\n",
       "      <td>0.000000</td>\n",
       "      <td>NaN</td>\n",
       "      <td>step_end</td>\n",
       "      <td>0.000048</td>\n",
       "      <td>BH</td>\n",
       "      <td>13.120462</td>\n",
       "      <td>...</td>\n",
       "      <td>NaN</td>\n",
       "      <td>NaN</td>\n",
       "      <td>NaN</td>\n",
       "      <td>NaN</td>\n",
       "      <td>NaN</td>\n",
       "      <td>NaN</td>\n",
       "      <td>0.064849</td>\n",
       "      <td>0.0142</td>\n",
       "      <td>2.913438e+07</td>\n",
       "      <td>1.447893e+08</td>\n",
       "    </tr>\n",
       "  </tbody>\n",
       "</table>\n",
       "<p>10 rows × 41 columns</p>\n",
       "</div>"
      ],
      "text/plain": [
       "                 state       event          time  orbital_period  \\\n",
       "binary_index                                                       \n",
       "3587          detached        ZAMS  0.000000e+00    2.493602e+01   \n",
       "3587           contact  oDoubleCE1  3.631450e+06    6.304073e+01   \n",
       "3587          detached         NaN  3.631450e+06    2.371597e-01   \n",
       "3587          detached         CC1  4.007490e+06    1.226986e+00   \n",
       "3587          detached         NaN  4.007490e+06    1.358968e+00   \n",
       "3587          detached    redirect  4.007490e+06    1.358968e+00   \n",
       "3587          detached         CC2  4.027170e+06    1.377894e+00   \n",
       "3587          detached         NaN  4.027170e+06    1.611464e+00   \n",
       "3587           contact  CO_contact  2.917891e+09    2.638756e-08   \n",
       "3587           contact         END  2.917891e+09    2.638756e-08   \n",
       "\n",
       "              eccentricity  lg_mtransfer_rate     step_names  step_times  \\\n",
       "binary_index                                                               \n",
       "3587              0.000000                NaN   initial_cond    0.000000   \n",
       "3587              0.000000          -2.989131   step_HMS_HMS    0.037464   \n",
       "3587              0.000000                NaN        step_CE    0.000137   \n",
       "3587              0.000000                NaN  step_detached    0.777758   \n",
       "3587              0.101109                NaN        step_SN    0.152370   \n",
       "3587              0.101109                NaN   step_CO_HeMS    0.000102   \n",
       "3587              0.101108                NaN  step_detached    0.452186   \n",
       "3587              0.048133                NaN        step_SN    0.149304   \n",
       "3587              0.000000                NaN       step_dco    1.252216   \n",
       "3587              0.000000                NaN       step_end    0.000048   \n",
       "\n",
       "                                     S1_state    S1_mass  ...  \\\n",
       "binary_index                                              ...   \n",
       "3587                    H-rich_Core_H_burning  70.069756  ...   \n",
       "3587                   H-rich_Core_He_burning  44.118926  ...   \n",
       "3587              stripped_He_Core_He_burning  35.566786  ...   \n",
       "3587          stripped_He_Central_C_depletion  13.620462  ...   \n",
       "3587                                       BH  13.120462  ...   \n",
       "3587                                       BH  13.120462  ...   \n",
       "3587                                       BH  13.120462  ...   \n",
       "3587                                       BH  13.120462  ...   \n",
       "3587                                       BH  13.120462  ...   \n",
       "3587                                       BH  13.120462  ...   \n",
       "\n",
       "              S2_co_core_radius  S2_center_h1  S2_center_he4  S2_surface_h1  \\\n",
       "binary_index                                                                  \n",
       "3587                        NaN  7.155000e-01   2.703000e-01            NaN   \n",
       "3587                   0.000000  0.000000e+00   9.828315e-01   4.246537e-01   \n",
       "3587                   0.000000  0.000000e+00   9.828315e-01   1.000000e-02   \n",
       "3587                   0.401483  1.917729e-34   1.605147e-02  9.893273e-100   \n",
       "3587                   0.401483  1.917729e-34   1.605147e-02  9.893273e-100   \n",
       "3587                   0.401483  1.917729e-34   1.605147e-02  9.893273e-100   \n",
       "3587                   0.130995  0.000000e+00   7.706932e-13   1.000000e-99   \n",
       "3587                        NaN           NaN            NaN            NaN   \n",
       "3587                        NaN           NaN            NaN            NaN   \n",
       "3587                        NaN           NaN            NaN            NaN   \n",
       "\n",
       "              S2_surface_he4  S2_surf_avg_omega_div_omega_crit   S2_spin  \\\n",
       "binary_index                                                               \n",
       "3587                     NaN                               NaN       NaN   \n",
       "3587                0.561493                          0.577444  0.760854   \n",
       "3587                0.975800                               NaN       NaN   \n",
       "3587                0.247607                          0.006843  0.077976   \n",
       "3587                0.247607                          0.006843  0.077976   \n",
       "3587                0.247607                          0.006843  0.077976   \n",
       "3587                0.226684                          0.015362  0.060340   \n",
       "3587                     NaN                               NaN  0.064849   \n",
       "3587                     NaN                               NaN  0.064849   \n",
       "3587                     NaN                               NaN  0.064849   \n",
       "\n",
       "              metallicity  simulated_mass_for_met  underlying_mass_for_met  \n",
       "binary_index                                                                \n",
       "3587               0.0142            2.913438e+07             1.447893e+08  \n",
       "3587               0.0142            2.913438e+07             1.447893e+08  \n",
       "3587               0.0142            2.913438e+07             1.447893e+08  \n",
       "3587               0.0142            2.913438e+07             1.447893e+08  \n",
       "3587               0.0142            2.913438e+07             1.447893e+08  \n",
       "3587               0.0142            2.913438e+07             1.447893e+08  \n",
       "3587               0.0142            2.913438e+07             1.447893e+08  \n",
       "3587               0.0142            2.913438e+07             1.447893e+08  \n",
       "3587               0.0142            2.913438e+07             1.447893e+08  \n",
       "3587               0.0142            2.913438e+07             1.447893e+08  \n",
       "\n",
       "[10 rows x 41 columns]"
      ]
     },
     "execution_count": 12,
     "metadata": {},
     "output_type": "execute_result"
    }
   ],
   "source": [
    "from posydon.popsyn.synthetic_population import SyntheticPopulation\n",
    "\n",
    "pop = SyntheticPopulation(path_to_ini='./population_params.ini', verbose=True)\n",
    "\n",
    "pop.parse(path_to_data=path_to_data, S1_state='BH', S2_state='BH', binary_state='contact', invert_S1S2=False)\n",
    "pop.save_pop(os.path.join(path,'BBH_population.h5'))\n",
    "\n",
    "pop.df.head(10)"
   ]
  },
  {
   "cell_type": "markdown",
   "metadata": {},
   "source": [
    "You can now do the same for the other subpopulations of interest. Try sorting black hole-neutron star systems (BHNS; remember to set `invert_S1S2 = True` to find BHNS systems where the NS is formed first) and binary neutron star systems (BNS)."
   ]
  },
  {
   "cell_type": "code",
   "execution_count": null,
   "metadata": {},
   "outputs": [],
   "source": []
  }
 ],
 "metadata": {
  "kernelspec": {
   "display_name": "Python 3 (ipykernel)",
   "language": "python",
   "name": "python3"
  },
  "language_info": {
   "codemirror_mode": {
    "name": "ipython",
    "version": 3
   },
   "file_extension": ".py",
   "mimetype": "text/x-python",
   "name": "python",
   "nbconvert_exporter": "python",
   "pygments_lexer": "ipython3",
   "version": "3.11.5"
  }
 },
 "nbformat": 4,
 "nbformat_minor": 4
}
