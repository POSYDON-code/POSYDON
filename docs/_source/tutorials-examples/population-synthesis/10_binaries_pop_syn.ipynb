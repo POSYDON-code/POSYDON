{
 "cells": [
  {
   "cell_type": "markdown",
   "metadata": {},
   "source": [
    "# Your First Binary Simulations with POSYDON 🌠"
   ]
  },
  {
   "cell_type": "markdown",
   "metadata": {},
   "source": [
    "**Tutorial goal:**\n",
    "\n",
    "In this tutorial, we will run a small population of 10 binaries locally, and explore how to manipulate the output data from your population.\n",
    "\n",
    "**New concepts:**\n",
    "\n",
    "- Population ini file"
   ]
  },
  {
   "cell_type": "markdown",
   "metadata": {},
   "source": [
    "If you haven't done so yet, export the path POSYDON environment variables.\n",
    "Set these parameters in your `.bash_profile` or `.zshrc` if you use POSYDON regularly."
   ]
  },
  {
   "cell_type": "code",
   "execution_count": null,
   "metadata": {},
   "outputs": [],
   "source": [
    "%env PATH_TO_POSYDON=/YOUR/POSYDON/PATH/\n",
    "%env PATH_TO_POSYDON_DATA=/YOUR/POSYDON_DATA/PATH/"
   ]
  },
  {
   "cell_type": "markdown",
   "metadata": {},
   "source": [
    "## Creating the Initialisation File"
   ]
  },
  {
   "cell_type": "markdown",
   "metadata": {},
   "source": [
    "----\n",
    "To run population synthesis with POSYDON, a `population_params.ini` file is required.\n",
    "This file described how the stellar population is created and what prescriptions and parameters are implemented in specific steps.\n",
    "\n",
    "POSYDON comes with a default `population_params_default.ini` file found at `PATH_TO_POSYDON/posydon/popsyn` or have a look [here](population_params.ini).\n",
    "\n",
    "The file is split in three main parts. You can find more details about their properties by clicking on their links.\n",
    "1. **[SimulationProperties]():**\n",
    "   - these describe the properties and parameters of different steps in the evolution of a binary systems.\n",
    "2. **[BinaryPopulation]():** \n",
    "   - parameters of the initial sampling of the binary population, such as initial mass function, period distribution, and metallicity.\n",
    "   - Also contains parameters on how the population is ran, such as how many binaries are kept in memory.\n",
    "3. **[SavingOutput]()**\n",
    "   - Describes the data from the binary and each individual star to the output files.\n",
    "\n",
    "We will copy the default population run parameter file to the current folder."
   ]
  },
  {
   "cell_type": "code",
   "execution_count": null,
   "metadata": {},
   "outputs": [],
   "source": [
    "import os\n",
    "import shutil\n",
    "from posydon.config import PATH_TO_POSYDON\n",
    "\n",
    "path_to_params = os.path.join(PATH_TO_POSYDON, \"posydon/popsyn/population_params_default.ini\")\n",
    "shutil.copyfile(path_to_params, './population_params.ini')"
   ]
  },
  {
   "cell_type": "markdown",
   "metadata": {},
   "source": [
    "\n",
    "<div class=\"alert alert-block alert-warning\"><b>Reprocessed POSYDON v1 data</b> \n",
    "\n",
    "If you're using the reprocessed POSYDON v1 dataset, you will only have solar metallicity available!\n",
    "This means you will only be able to run populations with `metallicity = [1]`!\n",
    "\n",
    "You should be able to follow along with this tutorial and can follow along with the \"One metallicity notebook\", but the multi-metallicity component is not yet available.\n",
    "<div>"
   ]
  },
  {
   "cell_type": "markdown",
   "metadata": {},
   "source": [
    "# Creating and running a binary population\n",
    "\n",
    "The copied `population_params.ini` contains the parameters to run 10 binaries at a metallicity of $Z=1 Z_\\odot$.\n",
    "\n",
    "If you open the file and scroll down to the **BinaryPopulation** section, you will see how they're defined:\n",
    "\n",
    "```\n",
    "metallicity = [1] # [2., 1., 0.45, 0.2, 0.1, 0.01, 0.001, 0.0001]\n",
    "# In units of solar metallicity\n",
    "...\n",
    "number_of_binaries = 10\n",
    "# int\n",
    "```\n",
    "\n",
    "If you like to run a small population in a notebook, you can use the `PopulationRunner` to do this. If you want to run a specific binary instead, have a look at the [Binary Tutorial]().\n",
    "\n",
    "The `PopulationRunner` class takes the `.ini` file and sets-up a population run.\n",
    "\n",
    "This will create [BinaryPopulations]() for each metallicity defined in the `.ini` file.\n",
    "In this case, we can check and see that a single BinaryPopulation is created and contains 10 binaries."
   ]
  },
  {
   "cell_type": "code",
   "execution_count": null,
   "metadata": {},
   "outputs": [],
   "source": [
    "from posydon.popsyn.synthetic_population import PopulationRunner\n",
    "poprun = PopulationRunner('./population_params.ini', verbose=True)"
   ]
  },
  {
   "cell_type": "code",
   "execution_count": null,
   "metadata": {},
   "outputs": [],
   "source": [
    "print('Number of binary populations:',len(poprun.binary_populations))\n",
    "print('Metallicity:', poprun.binary_populations[0].metallicity)\n",
    "print('Number of binaries:', poprun.binary_populations[0].number_of_binaries)"
   ]
  },
  {
   "cell_type": "markdown",
   "metadata": {},
   "source": [
    "For this tutorial, we set `verbose=True`, which shows you the progress of the population run.\n",
    "This overwrites the population verbose set inside the `population_params.ini` file.\n",
    "\n",
    "Now we are ready to evolve the binary population. This should take about 30 seconds, but depends on your machine."
   ]
  },
  {
   "cell_type": "code",
   "execution_count": null,
   "metadata": {},
   "outputs": [],
   "source": [
    "poprun.evolve()"
   ]
  },
  {
   "cell_type": "markdown",
   "metadata": {},
   "source": [
    "# Inspecting the population: Population class\n",
    "\n",
    "When you ran the population, you might have seen that a temporary folder with the name `1e+00_Zsun_batches` was created while the binaries were evolved.\n",
    "This is a temporary folder in which populations are temporarly saved.\n",
    "After the binary evolution has finished, the binaries in the folder are moved to a single file named `1e+00_Zsun_popululation.h5`. This is done automatically, when you run a population using the `PopulationRunner` class.\n",
    "\n",
    "The created file contains 3 main components:\n",
    "\n",
    "1. **history:** the evolution of an individual binary in a pandas DataFrame\n",
    "2. **oneline:** a single line to describe the initial and final conditions and some one-of parameters, such as the metallicity.\n",
    "3. **mass_per_metallicity:** some metadata on the population, such as the total simulated mass, the actual underlying mass of the population, and the number of binaries in the file.\n",
    "\n",
    "The `Population` provides an interface with these components in the file, such that you're able to share the populations runs and can work with large population that do not fit in memory.\n",
    "\n",
    "\n",
    "<div class=\"alert alert-block alert-warning\"><b>Older Population Files</b> \n",
    "\n",
    "If you're using older population files, you can make them compatible with the `Population` class by calling `Population(pop_file, metallicity,ini_file)`, where the `metallicity` is in solar units. You will only need to do this once; afterwards you can initialise the class like normal.<div>"
   ]
  },
  {
   "cell_type": "code",
   "execution_count": null,
   "metadata": {},
   "outputs": [],
   "source": [
    "from posydon.popsyn.synthetic_population import Population"
   ]
  },
  {
   "cell_type": "code",
   "execution_count": null,
   "metadata": {},
   "outputs": [],
   "source": [
    "pop = Population('1e+00_Zsun_population.h5', verbose=True)"
   ]
  },
  {
   "cell_type": "markdown",
   "metadata": {},
   "source": [
    "The `pop.mas_per_met` shows some basic information about the population you've just created.\n",
    "\n",
    "\n",
    "1. The index (**metallicity**) is the metallicity of your population in solar units.\n",
    "2. **simulated mass** is the total ZAMS mass that has been evolved in the population.\n",
    "3. **underlying mass** is the actual mass of the population if one integrates the IMF and period distribution fully.\n",
    "4. **number_of_systems** shows the 10 systems in the file."
   ]
  },
  {
   "cell_type": "code",
   "execution_count": null,
   "metadata": {},
   "outputs": [],
   "source": [
    "pop.mass_per_metallicity"
   ]
  },
  {
   "cell_type": "markdown",
   "metadata": {},
   "source": [
    "There are some additional metadata properties available, such as:\n",
    "- `metallicities`: the metallicity in absolute metallicity\n",
    "- `solar_metallicities`: the metallicities in the file in solar metallicity\n",
    "- `number_of_systems`: the total number of systems in the Population file\n",
    "- `indices`: the indices of the binaries in the file\n",
    "- `columns`: the columns available in the `history` and `oneline` dataframes"
   ]
  },
  {
   "cell_type": "code",
   "execution_count": null,
   "metadata": {},
   "outputs": [],
   "source": [
    "# you can also access the total number of systems in the file with\n",
    "print(pop.number_of_systems)"
   ]
  },
  {
   "cell_type": "markdown",
   "metadata": {},
   "source": [
    "## Population.history"
   ]
  },
  {
   "cell_type": "code",
   "execution_count": null,
   "metadata": {},
   "outputs": [],
   "source": [
    "pop.history.lengths"
   ]
  },
  {
   "cell_type": "markdown",
   "metadata": {},
   "source": [
    "`pop.history` loads in the full history of all the binaries into memory.\n",
    "You can access individual or a selections of the population using several methods:\n",
    "\n",
    "\n",
    "1. pop.history[5]\n",
    "2. pop.history[[0,4]]\n",
    "3. pop.history['time]\n",
    "4. pop.history.select()\n",
    "\n",
    "The `select` function is the most powerfull way to access the binaries, because it allows you to perform selections based on the specific columns available in the history dataframe.\n",
    "For example, below we can select on `state == 'RLO1'`, which gives us all the rows with RLO1 occuring.\n",
    "\n",
    "The available identifiers are limited to string columns (`state`, `event`, `step_names`, `S1_state`, `S2_state`), index, and columns names."
   ]
  },
  {
   "cell_type": "code",
   "execution_count": null,
   "metadata": {},
   "outputs": [],
   "source": [
    "# select only binary_index 5\n",
    "pop.history[5]"
   ]
  },
  {
   "cell_type": "code",
   "execution_count": null,
   "metadata": {},
   "outputs": [],
   "source": [
    "# select binary 0 and 4\n",
    "pop.history[[0,4]]"
   ]
  },
  {
   "cell_type": "code",
   "execution_count": null,
   "metadata": {},
   "outputs": [],
   "source": [
    "pop.history['time'].head()"
   ]
  },
  {
   "cell_type": "markdown",
   "metadata": {},
   "source": [
    "You can also check what columns are available in the history file:"
   ]
  },
  {
   "cell_type": "code",
   "execution_count": null,
   "metadata": {},
   "outputs": [],
   "source": [
    "pop.history.columns"
   ]
  },
  {
   "cell_type": "code",
   "execution_count": null,
   "metadata": {},
   "outputs": [],
   "source": [
    "# using the select function\n",
    "pop.history.select(where='index == 9')"
   ]
  },
  {
   "cell_type": "code",
   "execution_count": null,
   "metadata": {},
   "outputs": [],
   "source": [
    "# selecting all RLO1 states and only time and state columns\n",
    "pop.history.select(where='state == RLO2', columns=['time', 'state'])"
   ]
  },
  {
   "cell_type": "code",
   "execution_count": null,
   "metadata": {},
   "outputs": [],
   "source": [
    "# selecting rows 10 to 16\n",
    "pop.history.select(start=10, stop=16)"
   ]
  },
  {
   "cell_type": "markdown",
   "metadata": {},
   "source": [
    "You might have notices while using the above functions that not all the binaries will have the same length in the history.\n",
    "You can access these with `pop.history_lengths`. This information is also stored in the population file."
   ]
  },
  {
   "cell_type": "code",
   "execution_count": null,
   "metadata": {},
   "outputs": [],
   "source": [
    "pop.history_lengths"
   ]
  },
  {
   "cell_type": "markdown",
   "metadata": {},
   "source": [
    "## Population.oneline\n",
    "\n",
    "`Population.oneline` provides a similar interface to accessing the DataFrame in the population file as `Population.history`, with similar functionality being available.\n",
    "\n",
    "The `select` function only has acces to:\n",
    "- `index`\n",
    "- column names \n",
    "- string columns: `state_i`, `state_f`, `event_i`, `event_f`, `step_names_i`, `step_names_f`, `S1_state_i`, `S1_state_f`, `S2_state_i`, `S2_state_f`, `S1_SN_type`, `S2_SN_type`, `interp_class_HMS_HMS`, `interp_class_CO_HeMS`, `interp_class_CO_HMS_RLO`, `interp_class_CO_HeMS_RLO`, `mt_history_HMS_HMS`, `mt_history_CO_HeMS`, `mt_history_CO_HMS_RLO`, `mt_history_CO_HeMS_RLO`"
   ]
  },
  {
   "cell_type": "code",
   "execution_count": null,
   "metadata": {},
   "outputs": [],
   "source": [
    "pop.oneline[5]\n",
    "pop.oneline[[0,4]]\n",
    "pop.oneline.select(where='index == 9')\n",
    "pop.oneline.select(where='index == [0,9]')"
   ]
  },
  {
   "cell_type": "code",
   "execution_count": null,
   "metadata": {},
   "outputs": [],
   "source": [
    "pop.oneline.columns"
   ]
  },
  {
   "cell_type": "markdown",
   "metadata": {},
   "source": [
    "## Population.formation_channels\n",
    "\n",
    "You might be interested in figuring out what sort of formation pathways/channels a binary has followed through its evolution.\n",
    "\n",
    "This is not a standard output of the population synthesis, but you can include it into the population file by calculating it. \n",
    "If you would like more detail on the initial mass transfer, you can set `mt_history=True`.\n",
    "\n",
    "This will write the formation channels to the Population file, which can be accessed by `Population.formation_channels`.\n"
   ]
  },
  {
   "cell_type": "code",
   "execution_count": null,
   "metadata": {},
   "outputs": [],
   "source": [
    "pop.calculate_formation_channels(mt_history=True)"
   ]
  },
  {
   "cell_type": "code",
   "execution_count": null,
   "metadata": {},
   "outputs": [],
   "source": [
    "# the formation channels are loaded in with pop.formation_channels\n",
    "pop.formation_channels"
   ]
  },
  {
   "cell_type": "markdown",
   "metadata": {},
   "source": [
    "Next time you open this population file, the `formation_channels` will be available without having to be recalculated."
   ]
  },
  {
   "cell_type": "code",
   "execution_count": null,
   "metadata": {},
   "outputs": [],
   "source": [
    "pop = Population('1e+00_Zsun_population.h5')\n",
    "pop.formation_channels"
   ]
  },
  {
   "cell_type": "markdown",
   "metadata": {},
   "source": [
    "## Selecting a sub-population\n",
    "\n",
    "You might just want a small sub-selection of the full population, especially if you're working with large population and multi-metallicity runs.\n",
    "\n",
    "The `Population.export_selection()` function will export just the indices of the binaries you're interested in into a new file.\n",
    "The simulated and underlying mass will remain the same, since they are dependent on the population run.\n",
    "\n",
    "If we select just 2 binaries and export them, we create a new population of just the binaries you're interested in.\n",
    "In the [BBH analysis]() and [GRB analysis]() tutorials, we show how to perform a selection with multiple criteria and metallicities.\n",
    "\n"
   ]
  },
  {
   "cell_type": "code",
   "execution_count": null,
   "metadata": {},
   "outputs": [],
   "source": [
    "indices = [0,9]\n",
    "pop.export_selection(indices, 'selected.h5')"
   ]
  },
  {
   "cell_type": "code",
   "execution_count": null,
   "metadata": {},
   "outputs": [],
   "source": [
    "selected = Population('selected.h5')\n",
    "selected.mass_per_metallicity"
   ]
  },
  {
   "cell_type": "markdown",
   "metadata": {},
   "source": [
    "If you would like to know the simulated mass of just your population, you can calulate this using the online ZAMS values."
   ]
  },
  {
   "cell_type": "code",
   "execution_count": null,
   "metadata": {},
   "outputs": [],
   "source": [
    "import numpy as np\n",
    "\n",
    "print('selected simulated mass: ', np.sum(selected.oneline[['S1_mass_i', 'S2_mass_i']].to_numpy()))"
   ]
  },
  {
   "cell_type": "markdown",
   "metadata": {},
   "source": [
    "By default this export-selection will not overwrite nor append if the output file is already present.\n",
    "You have to explicitly state what you would like to append to or overwrite the population file.\n",
    "\n",
    "\n",
    "With the `append=True` you are able to combine multiple stellar populations into a single file. \n",
    "This is especially useful when creating multi-metallicity populations."
   ]
  },
  {
   "cell_type": "code",
   "execution_count": null,
   "metadata": {},
   "outputs": [],
   "source": [
    "# this will overwrite the existing file\n",
    "pop.export_selection(indices, 'selected.h5', overwrite=True)\n",
    "\n",
    "selected = Population('selected.h5')\n",
    "selected.mass_per_metallicity\n"
   ]
  },
  {
   "cell_type": "code",
   "execution_count": null,
   "metadata": {},
   "outputs": [],
   "source": [
    "# This will add to the file and add the extra simulated mass\n",
    "pop.export_selection(indices, 'selected.h5', append=True)\n",
    "selected = Population('selected.h5')\n",
    "selected.mass_per_metallicity"
   ]
  },
  {
   "cell_type": "markdown",
   "metadata": {},
   "source": [
    "<br/><br/>\n",
    "\n",
    "Feel free to explore the small binary population you've just created!\n",
    "\n",
    "If you want to learn more about population synthesis and how to build more complex models it is advised to continue with the remaining tutorials and consult the POSYDON documentation."
   ]
  },
  {
   "cell_type": "markdown",
   "metadata": {},
   "source": [
    "### Local MPI runs\n",
    "\n",
    "To speed up population synthesis runs, you can run on a computing cluster, as described in [HPC Facilities](pop_syn), or you can distribute the population synthesis across multiple cores on your local machine using MPI.\n",
    "\n",
    "To enable local MPI runs, go into the `population_params.ini`  and change `use_MPI` to `True`.\n",
    "\n",
    "It's important to note that you cannot run have this option enabled for cluster runs!\n",
    "\n",
    "We create a binary population simulation script to run the population:"
   ]
  },
  {
   "cell_type": "code",
   "execution_count": null,
   "metadata": {},
   "outputs": [],
   "source": [
    "%%writefile script.py\n",
    "from posydon.popsyn.synthetic_population import PopulationRunner\n",
    "\n",
    "if __name__ == \"__main__\":\n",
    "    synth_pop = PopulationRunner(\"./population_params.ini\")\n",
    "    synth_pop.evolve()"
   ]
  },
  {
   "cell_type": "markdown",
   "metadata": {},
   "source": [
    "This script can be initiated using a local where `NR_processors` is the number of processors you would like to us."
   ]
  },
  {
   "cell_type": "code",
   "execution_count": null,
   "metadata": {},
   "outputs": [],
   "source": [
    "mpiexec -n ${NR_processors} python script.py"
   ]
  },
  {
   "cell_type": "markdown",
   "metadata": {},
   "source": [
    "This will create a folder for each metallicity in the population and store output of the parallel runs in it.\n",
    "\n",
    "You will have to concatenate these runs manually into a single population file per metallicity, which can be achieved using the following code:"
   ]
  },
  {
   "cell_type": "code",
   "execution_count": null,
   "metadata": {},
   "outputs": [],
   "source": [
    "from posydon.popsyn.synthetic_population import PopulationRunner\n",
    "\n",
    "synth_pop = PopulationRunner(\"./population_params.ini\")\n",
    "for pop in synth_pop.binary_populations:\n",
    "    synth_pop.merge_parallel_runs(pop)"
   ]
  }
 ],
 "metadata": {
  "kernelspec": {
   "display_name": "development311",
   "language": "python",
   "name": "python3"
  },
  "language_info": {
   "codemirror_mode": {
    "name": "ipython",
    "version": 3
   },
   "file_extension": ".py",
   "mimetype": "text/x-python",
   "name": "python",
   "nbconvert_exporter": "python",
   "pygments_lexer": "ipython3",
   "version": "3.11.5"
  },
  "orig_nbformat": 4
 },
 "nbformat": 4,
 "nbformat_minor": 2
}
