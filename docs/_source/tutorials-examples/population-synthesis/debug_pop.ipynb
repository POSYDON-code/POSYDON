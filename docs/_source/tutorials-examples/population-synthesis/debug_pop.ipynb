{
 "cells": [
  {
   "cell_type": "markdown",
   "metadata": {},
   "source": [
    "# Debugging POSYDON Binary Population Synthesis 🐞"
   ]
  },
  {
   "cell_type": "markdown",
   "metadata": {},
   "source": [
    "If you haven't done so yet, export the path POSYDON environment variables.\n",
    "Set these parameters in your `.bash_profile` or `.zshrc` if you use POSYDON regularly."
   ]
  },
  {
   "cell_type": "code",
   "execution_count": null,
   "metadata": {},
   "outputs": [],
   "source": [
    "%env PATH_TO_POSYDON=/Users/simone/Google Drive/github/POSYDON-public/\n",
    "%env PATH_TO_POSYDON_DATA=/Volumes/T7/"
   ]
  },
  {
   "cell_type": "markdown",
   "metadata": {},
   "source": [
    "To debug the evolution of a binary systems you should load the POSYDON BinaryPopulation object in memory and then call the `restore` and `evolve`. This will run the evolution of the binary system and display any error traceback. You can debug the code by setting breakpoints in the POSYDON code until you devug the specific binary evolution.\n",
    "\n",
    "The trick is to do this is not dump the binary population to disk but to keep them in memory. This is done by setting the `optimize_ram=False`."
   ]
  },
  {
   "cell_type": "code",
   "execution_count": null,
   "metadata": {},
   "outputs": [],
   "source": [
    "from posydon.popsyn.binarypopulation import BinaryPopulation\n",
    "from posydon.binary_evol.simulationproperties import SimulationProperties\n",
    "from posydon.binary_evol.flow_chart import flow_chart\n",
    "from posydon.binary_evol.MESA.step_mesa import CO_HeMS_step, MS_MS_step, CO_HMS_RLO_step, CO_HeMS_RLO_step\n",
    "from posydon.binary_evol.DT.step_detached import detached_step\n",
    "from posydon.binary_evol.DT.step_disrupted import DisruptedStep\n",
    "from posydon.binary_evol.DT.step_merged import MergedStep\n",
    "from posydon.binary_evol.CE.step_CEE import StepCEE\n",
    "from posydon.binary_evol.SN.step_SN import StepSN\n",
    "from posydon.binary_evol.DT.double_CO import DoubleCO\n",
    "from posydon.binary_evol.step_end import step_end\n",
    "from posydon.binary_evol.simulationproperties import StepNamesHooks\n",
    "\n",
    "# STEP CUSTOMISATION\n",
    "MESA_STEP = dict(\n",
    "    interpolation_path = None, # found by default\n",
    "    interpolation_filename = None, # found by default\n",
    "    interpolation_method = 'nearest_neighbour', # 'nearest_neighbour' 'linear3c_kNN' '1NN_1NN'\n",
    "    save_initial_conditions = True, # only for interpolation_method='nearest_neighbour'\n",
    "    track_interpolation = False, # True False\n",
    "    stop_method = 'stop_at_max_time', # 'stop_at_end' 'stop_at_max_time' 'stop_at_condition'\n",
    "    stop_star = 'star_1', # only for stop_method='stop_at_condition' 'star_1' 'star_2'\n",
    "    stop_var_name = None, # only for stop_method='stop_at_condition' str\n",
    "    stop_value = None, # only for stop_method='stop_at_condition' float\n",
    "    stop_interpolate = True, # True False\n",
    "    verbose = False, # True False\n",
    ")\n",
    "\n",
    "DETACHED_STEP = dict(\n",
    "    matching_method = 'minimize', #'minimize' 'root'\n",
    "    do_wind_loss = True, # True False\n",
    "    do_tides = True,  # True False\n",
    "    do_gravitational_radiation = True,  # True False\n",
    "    do_magnetic_braking = True,  # True False\n",
    "    do_stellar_evolution_and_spin_from_winds = True,  # True False\n",
    "    RLO_orbit_at_orbit_with_same_am = False,  # True False\n",
    "    verbose = False,  # True False\n",
    ")\n",
    "\n",
    "DISRUPTED_STEP = dict(\n",
    "    grid_name_Hrich=None,\n",
    "    grid_name_strippedHe=None,\n",
    "    metallicity=None,\n",
    "    dt=None,\n",
    "    n_o_steps_history=None,\n",
    "    matching_method=\"minimize\",\n",
    "    initial_mass=None,\n",
    "    rootm=None,\n",
    "    verbose=False,\n",
    "    do_wind_loss=True,\n",
    "    do_tides=True,\n",
    "    do_gravitational_radiation=True,\n",
    "    do_magnetic_braking=True,\n",
    "    magnetic_braking_mode=\"RVJ83\",\n",
    "    do_stellar_evolution_and_spin_from_winds=True,\n",
    "    RLO_orbit_at_orbit_with_same_am=False,\n",
    "    list_for_matching_HMS=None,\n",
    "    list_for_matching_postMS=None,\n",
    "    list_for_matching_HeStar=None\n",
    ")\n",
    "\n",
    "CE_STEP = dict(\n",
    "    prescription='alpha-lambda', # 'alpha-lambda'\n",
    "    common_envelope_efficiency=1.0, # float in (0, inf)\n",
    "    common_envelope_option_for_lambda='lambda_from_grid_final_values', # (1) 'default_lambda', (2) 'lambda_from_grid_final_values',\n",
    "                                                  # (3) 'lambda_from_profile_gravitational',\n",
    "                                                  # (4) 'lambda_from_profile_gravitational_plus_internal',\n",
    "                                                  # (5) 'lambda_from_profile_gravitational_plus_internal_minus_recombination'\n",
    "    common_envelope_lambda_default=0.5, # float in (0, inf) used only for option (1)\n",
    "    common_envelope_option_for_HG_star=\"optimistic\", # 'optimistic', 'pessimistic'\n",
    "    common_envelope_alpha_thermal=1.0, # float in (0, inf) used only for option for (4), (5)\n",
    "    core_definition_H_fraction=0.1, # 0.01, 0.1, 0.3\n",
    "    core_definition_He_fraction=0.1, # 0.1\n",
    "    CEE_tolerance_err=0.001, # float (0, inf)\n",
    "    common_envelope_option_after_succ_CEE = 'core_not_replaced_noMT', # 'core_not_replaced_noMT' 'core_replaced_noMT' 'core_not_replaced_stableMT' 'core_not_replaced_windloss'\n",
    "    verbose = False, # True False\n",
    ")\n",
    "\n",
    "SN_STEP = dict(\n",
    "    mechanism='Patton&Sukhbold20-engine', # 'direct', Fryer+12-rapid', 'Fryer+12-delayed', 'Sukhbold+16-engine', 'Patton&Sukhbold20-engine'\n",
    "    engine='N20', # 'N20' for 'Sukhbold+16-engine', 'Patton&Sukhbold20-engine' or None for the others\n",
    "    PISN=\"Marchant+19\", # None, \"Marchant+19\"\n",
    "    ECSN=\"Podsiadlowksi+04\", # \"Tauris+15\", \"Podsiadlowksi+04\"\n",
    "    conserve_hydrogen_envelope=True,\n",
    "    max_neutrino_mass_loss=0.5, # float (0,inf)\n",
    "    kick=True, # True, False\n",
    "    kick_normalisation='one_over_mass', # \"one_minus_fallback\", \"one_over_mass\", \"NS_one_minus_fallback_BH_one\", \"one\", \"zero\"\n",
    "    sigma_kick_CCSN_NS=265.0, # float (0,inf)\n",
    "    sigma_kick_CCSN_BH=265.0, # float (0,inf)\n",
    "    sigma_kick_ECSN=20.0, # float (0,inf)\n",
    "    max_NS_mass=2.5,  # float (0,inf)\n",
    "    use_interp_values=True,  # True, False\n",
    "    use_profiles=True,  # True, False\n",
    "    use_core_masses=True,  # True, False\n",
    "    approx_at_he_depletion=False, # True, False\n",
    "    verbose = False,  # True False\n",
    ")\n",
    "\n",
    "DCO_STEP = dict(\n",
    "    n_o_steps_interval = None,\n",
    ")\n",
    "\n",
    "END_STEP = {}\n",
    "\n",
    "# FLOW CHART CONFIGURATION\n",
    "sim_kwargs = dict(\n",
    "    flow = (flow_chart, {}),\n",
    "    step_HMS_HMS = (MS_MS_step, MESA_STEP),\n",
    "    step_CO_HeMS = (CO_HeMS_step, MESA_STEP),\n",
    "    step_CO_HMS_RLO = (CO_HMS_RLO_step, MESA_STEP),\n",
    "    step_CO_HeMS_RLO = (CO_HeMS_RLO_step, MESA_STEP),\n",
    "    step_detached = (detached_step, DETACHED_STEP),\n",
    "    step_disrupted = (DisruptedStep, DISRUPTED_STEP),\n",
    "    step_merged = (MergedStep, {}),\n",
    "    step_CE = (StepCEE, CE_STEP),\n",
    "    step_SN = (StepSN, SN_STEP),\n",
    "    step_dco = (DoubleCO, DCO_STEP),\n",
    "    step_end = (step_end, END_STEP),\n",
    "    extra_hooks = [(StepNamesHooks, {})]\n",
    ")\n",
    "\n",
    "sim_prop = SimulationProperties(**sim_kwargs)\n",
    "\n",
    "# SIMULATION CONFIGURATION\n",
    "kwargs = dict(\n",
    "    file_path='./batches/',\n",
    "    optimize_ram=False,\n",
    "    ram_per_cpu=3., # limit ram usage at 3GB\n",
    "    dump_rate=1000, # limit batch size\n",
    "\n",
    "    metallicity = 0.0001, # 1e+00, 1e-01, 1e-02, 1e-03, 1e-04\n",
    "    number_of_binaries=10, # int\n",
    "    star_formation='burst', # 'constant' 'burst' 'custom_linear' 'custom_log10' 'custom_linear_histogram' 'custom_log10_histogram'\n",
    "    max_simulation_time=13.8e9, # float (0,inf)\n",
    "\n",
    "    primary_mass_scheme='Kroupa2001', # 'Salpeter', 'Kroupa1993', 'Kroupa2001'\n",
    "    primary_mass_min=6.5, # float (0,130)\n",
    "    primary_mass_max=250., # float (0,130)\n",
    "    secondary_mass_scheme='flat_mass_ratio', # 'flat_mass_ratio', 'q=1'\n",
    "    secondary_mass_min=0.35, # float (0,130)\n",
    "    secondary_mass_max=250., # float (0,130)\n",
    "    orbital_scheme = 'period', # 'separation', 'period'\n",
    "    orbital_period_scheme = 'Sana+12_period_extended', # used only for orbital_scheme = 'period'\n",
    "    orbital_period_min = 1., # float (0,inf)\n",
    "    orbital_period_max = 1000., # float (0,inf)\n",
    "    #orbital_separation_scheme='log_uniform', # used only for orbital_scheme = 'separation', 'log_uniform', 'log_normal'\n",
    "    #orbital_separation_min=5., # float (0,inf)\n",
    "    #orbital_separation_max=1e5, # float (0,inf)\n",
    "    #log_orbital_separation_mean=None, # float (0,inf) used only for orbital_separation_scheme ='log_normal'\n",
    "    #log_orbital_separation_sigma=None, # float (0,inf) used only for orbital_separation_scheme ='log_normal'\n",
    "    eccentricity_sche='zero', # 'zero' 'thermal' 'uniform'\n",
    "\n",
    "    # IMPORT CUSTOM HOOKS\n",
    "    extra_columns={'step_names':'string'}, # 'step_times' with from posydon.binary_evol.simulationproperties import TimingHooks\n",
    "\n",
    "    # LIST BINARY PROPERTIES TO SAVE\n",
    "    only_select_columns=[\n",
    "                        'state',\n",
    "                        'event',\n",
    "                        'time',\n",
    "                        #'separation',\n",
    "                        'orbital_period',\n",
    "                        'eccentricity',\n",
    "                        #'V_sys',\n",
    "                        #'rl_relative_overflow_1',\n",
    "                        #'rl_relative_overflow_2',\n",
    "                        'lg_mtransfer_rate',\n",
    "                        #'mass_transfer_case',\n",
    "                        #'trap_radius',\n",
    "                        #'acc_radius',\n",
    "                        #'t_sync_rad_1',\n",
    "                        #'t_sync_conv_1',\n",
    "                        #'t_sync_rad_2',\n",
    "                        #'t_sync_conv_2',\n",
    "                        #'nearest_neighbour_distance',\n",
    "                        ],\n",
    "    scalar_names=[\n",
    "                'interp_class_HMS_HMS',\n",
    "                'interp_class_CO_HMS_RLO',\n",
    "                'interp_class_CO_HeMS',\n",
    "                'interp_class_CO_HeMS_RLO'\n",
    "                ],\n",
    "\n",
    "    # LIST STAR PROPERTIES TO SAVE\n",
    "    include_S1=True , # True, False\n",
    "    S1_kwargs=dict(only_select_columns=[\n",
    "                                        'state',\n",
    "                                        'metallicity',\n",
    "                                        'mass',\n",
    "                                        'log_R',\n",
    "                                        'log_L',\n",
    "                                        'lg_mdot',\n",
    "                                        #'lg_system_mdot',\n",
    "                                        #'lg_wind_mdot',\n",
    "                                        'he_core_mass',\n",
    "                                        'he_core_radius',\n",
    "                                        #'c_core_mass',\n",
    "                                        #'c_core_radius',\n",
    "                                        #'o_core_mass',\n",
    "                                        #'o_core_radius',\n",
    "                                        'co_core_mass',\n",
    "                                        'co_core_radius',\n",
    "                                        'center_h1',\n",
    "                                        'center_he4',\n",
    "                                        #'center_c12',\n",
    "                                        #'center_n14',\n",
    "                                        #'center_o16',\n",
    "                                        'surface_h1',\n",
    "                                        'surface_he4',\n",
    "                                        #'surface_c12',\n",
    "                                        #'surface_n14',\n",
    "                                        #'surface_o16',\n",
    "                                        #'log_LH',\n",
    "                                        #'log_LHe',\n",
    "                                        #'log_LZ',\n",
    "                                        #'log_Lnuc',\n",
    "                                        #'c12_c12',\n",
    "                                        #'center_gamma',\n",
    "                                        #'avg_c_in_c_core',\n",
    "                                        #'surf_avg_omega',\n",
    "                                        'surf_avg_omega_div_omega_crit',\n",
    "                                        #'total_moment_of_inertia',\n",
    "                                        #'log_total_angular_momentum',\n",
    "                                        'spin',\n",
    "                                        #'conv_env_top_mass',\n",
    "                                        #'conv_env_bot_mass',\n",
    "                                        #'conv_env_top_radius',\n",
    "                                        #'conv_env_bot_radius',\n",
    "                                        #'conv_env_turnover_time_g',\n",
    "                                        #'conv_env_turnover_time_l_b',\n",
    "                                        #'conv_env_turnover_time_l_t',\n",
    "                                        #'envelope_binding_energy',\n",
    "                                        #'mass_conv_reg_fortides',\n",
    "                                        #'thickness_conv_reg_fortides',\n",
    "                                        #'radius_conv_reg_fortides',\n",
    "                                        #'lambda_CE_1cent',\n",
    "                                        #'lambda_CE_10cent',\n",
    "                                        #'lambda_CE_30cent',\n",
    "                                        #'lambda_CE_pure_He_star_10cent',\n",
    "                                        #'profile',\n",
    "                                        ],\n",
    "                   scalar_names=['natal_kick_array',\n",
    "                                 'SN_type',\n",
    "                                 #'f_fb',\n",
    "                                 #'spin_orbit_tilt',\n",
    "                                ]),\n",
    "\n",
    "    # LIST STAR PROPERTIES TO SAVE\n",
    "    include_S2=True, # True, False\n",
    "    S2_kwargs=dict(only_select_columns=[\n",
    "                                        'state',\n",
    "                                        'metallicity',\n",
    "                                        'mass',\n",
    "                                        'log_R',\n",
    "                                        'log_L',\n",
    "                                        'lg_mdot',\n",
    "                                        #'lg_system_mdot',\n",
    "                                        #'lg_wind_mdot',\n",
    "                                        'he_core_mass',\n",
    "                                        'he_core_radius',\n",
    "                                        #'c_core_mass',\n",
    "                                        #'c_core_radius',\n",
    "                                        #'o_core_mass',\n",
    "                                        #'o_core_radius',\n",
    "                                        'co_core_mass',\n",
    "                                        'co_core_radius',\n",
    "                                        'center_h1',\n",
    "                                        'center_he4',\n",
    "                                        #'center_c12',\n",
    "                                        #'center_n14',\n",
    "                                        #'center_o16',\n",
    "                                        'surface_h1',\n",
    "                                        'surface_he4',\n",
    "                                        #'surface_c12',\n",
    "                                        #'surface_n14',\n",
    "                                        #'surface_o16',\n",
    "                                        #'log_LH',\n",
    "                                        #'log_LHe',\n",
    "                                        #'log_LZ',\n",
    "                                        #'log_Lnuc',\n",
    "                                        #'c12_c12',\n",
    "                                        #'center_gamma',\n",
    "                                        #'avg_c_in_c_core',\n",
    "                                        #'surf_avg_omega',\n",
    "                                        'surf_avg_omega_div_omega_crit',\n",
    "                                        #'total_moment_of_inertia',\n",
    "                                        #'log_total_angular_momentum',\n",
    "                                        'spin',\n",
    "                                        #'conv_env_top_mass',\n",
    "                                        #'conv_env_bot_mass',\n",
    "                                        #'conv_env_top_radius',\n",
    "                                        #'conv_env_bot_radius',\n",
    "                                        #'conv_env_turnover_time_g',\n",
    "                                        #'conv_env_turnover_time_l_b',\n",
    "                                        #'conv_env_turnover_time_l_t',\n",
    "                                        #'envelope_binding_energy',\n",
    "                                        #'mass_conv_reg_fortides',\n",
    "                                        #'thickness_conv_reg_fortides',\n",
    "                                        #'radius_conv_reg_fortides',\n",
    "                                        #'lambda_CE_1cent',\n",
    "                                        #'lambda_CE_10cent',\n",
    "                                        #'lambda_CE_30cent',\n",
    "                                        #'lambda_CE_pure_He_star_10cent',\n",
    "                                        #'profile',\n",
    "                                        ],\n",
    "                   scalar_names=['natal_kick_array',\n",
    "                                 'SN_type',\n",
    "                                 #'f_fb',\n",
    "                                 #'spin_orbit_tilt',\n",
    "                                ]),\n",
    ")\n",
    "\n",
    "\n",
    "def run_simulation(sim_prop, kwargs, file=None, indices=None):\n",
    "\n",
    "\n",
    "    # create binaries\n",
    "    pop = BinaryPopulation(entropy=None,\n",
    "                            population_properties=sim_prop,\n",
    "                            file_name=file,\n",
    "                            **kwargs)\n",
    "    \n",
    "    sim_prop.load_steps(verbose=True)\n",
    "\n",
    "    # evolve binaries\n",
    "    if file is not None:\n",
    "        kwargs['from_hdf'] = True\n",
    "        kwargs['indices'] = indices\n",
    "\n",
    "    pop.evolve(breakdown_to_df=False, tqdm=True, **kwargs)\n",
    "\n",
    "    # save binaries\n",
    "    try:\n",
    "        pop.save('./population.h5', **kwargs)\n",
    "    except:\n",
    "        pass\n",
    "\n",
    "    return pop\n",
    "\n",
    "if __name__ == '__main__' :\n",
    "    pop = run_simulation(sim_prop, kwargs)"
   ]
  },
  {
   "cell_type": "markdown",
   "metadata": {},
   "source": [
    "Let's say we want to debug binary_index that follows."
   ]
  },
  {
   "cell_type": "code",
   "execution_count": null,
   "metadata": {},
   "outputs": [],
   "source": [
    "i = 0"
   ]
  },
  {
   "cell_type": "markdown",
   "metadata": {},
   "source": [
    "## Re-evolving a Binary Star"
   ]
  },
  {
   "cell_type": "code",
   "execution_count": null,
   "metadata": {},
   "outputs": [],
   "source": [
    "col = ['time', 'step_names', 'state', 'event', 'orbital_period', 'eccentricity', 'S1_state', 'S2_state', 'S1_mass', 'S2_mass']\n",
    "pop[i].to_df(extra_columns={'step_names':'string'})[col]"
   ]
  },
  {
   "cell_type": "code",
   "execution_count": null,
   "metadata": {},
   "outputs": [],
   "source": [
    "pop[i].restore()"
   ]
  },
  {
   "cell_type": "code",
   "execution_count": null,
   "metadata": {},
   "outputs": [],
   "source": [
    "pop[i].to_df()"
   ]
  },
  {
   "cell_type": "markdown",
   "metadata": {},
   "source": [
    "Even thought we reset the binary, the natal kick properties stored in the natal kick array are not reset. This is because we want to be able to re-evolve the binary to the same final state. In case you want to reset the natal kick array values, then set the list to `None` values."
   ]
  },
  {
   "cell_type": "code",
   "execution_count": null,
   "metadata": {},
   "outputs": [],
   "source": [
    "# kick magnitude km/s, azimuthal angle rad, polar angle rad and mean anomaly rad (TODO check documentation)\n",
    "print(pop[i].star_1.natal_kick_array)\n",
    "print(pop[i].star_2.natal_kick_array)"
   ]
  },
  {
   "cell_type": "code",
   "execution_count": null,
   "metadata": {},
   "outputs": [],
   "source": [
    "pop[i].evolve()"
   ]
  },
  {
   "cell_type": "code",
   "execution_count": null,
   "metadata": {},
   "outputs": [],
   "source": [
    "pop[i].to_df(extra_columns={'step_names':'string'})[col]"
   ]
  },
  {
   "cell_type": "markdown",
   "metadata": {},
   "source": [
    "## Re-evolving a Binary Star with a different kick"
   ]
  },
  {
   "cell_type": "code",
   "execution_count": null,
   "metadata": {},
   "outputs": [],
   "source": [
    "pop[i].restore()\n",
    "pop[i].to_df()"
   ]
  },
  {
   "cell_type": "code",
   "execution_count": null,
   "metadata": {},
   "outputs": [],
   "source": [
    "pop[i].star_1.natal_kick_array = [1000., 0.858129274334538, 1.9157148786534735, 1.8675467897282945]\n",
    "pop[i].star_2.natal_kick_array = [None, None, None, None] # default\n",
    "print(pop[i].star_1.natal_kick_array)\n",
    "print(pop[i].star_2.natal_kick_array)"
   ]
  },
  {
   "cell_type": "code",
   "execution_count": null,
   "metadata": {},
   "outputs": [],
   "source": [
    "pop[i].evolve()\n",
    "pop[i].to_df(extra_columns={'step_names':'string'})[col]"
   ]
  },
  {
   "cell_type": "markdown",
   "metadata": {},
   "source": [
    "## Debugging a Binary Star from a population h5 file"
   ]
  },
  {
   "cell_type": "markdown",
   "metadata": {},
   "source": [
    "Assume we run the population somewhere else and you have the h5 file associated with it and you want to load the population in memory and re-evolve a binary. Here is how you do it."
   ]
  },
  {
   "cell_type": "code",
   "execution_count": null,
   "metadata": {},
   "outputs": [],
   "source": [
    "del pop # delete the above population"
   ]
  },
  {
   "cell_type": "code",
   "execution_count": null,
   "metadata": {},
   "outputs": [],
   "source": [
    "# let's load up and rerun the binary index i\n",
    "pop = run_simulation(sim_prop, kwargs, file='./population.h5', indices=[i])"
   ]
  },
  {
   "cell_type": "code",
   "execution_count": null,
   "metadata": {},
   "outputs": [],
   "source": [
    "pop[0].to_df(extra_columns={'step_names':'string'})[col]"
   ]
  },
  {
   "cell_type": "code",
   "execution_count": null,
   "metadata": {},
   "outputs": [],
   "source": [
    "# do the same thing as above\n",
    "pop[0].restore()\n",
    "print(pop[i].star_1.natal_kick_array)\n",
    "print(pop[i].star_2.natal_kick_array)\n",
    "pop[i].star_1.natal_kick_array = [1000., 0.858129274334538, 1.9157148786534735, 1.8675467897282945]\n",
    "pop[i].star_2.natal_kick_array = [None, None, None, None] # default\n",
    "print(pop[i].star_1.natal_kick_array)\n",
    "print(pop[i].star_2.natal_kick_array)\n",
    "pop[i].evolve()\n",
    "pop[i].to_df(extra_columns={'step_names':'string'})[col]"
   ]
  },
  {
   "cell_type": "markdown",
   "metadata": {},
   "source": [
    "## Evolving a Binary Star starting from an arbitrary state"
   ]
  },
  {
   "cell_type": "markdown",
   "metadata": {},
   "source": [
    "If you want to evolve a custom binary star, you can do so by crafting yourself the `BinaryStar` object and providing the `SimulationProperties` object. For example, let's evolve a neutron star with a low mass helium star in roche lobe overflow.\n",
    "\n",
    "<civ class=\"alert alert-block alert-warning\"><b>Caution!</b> \n",
    "\n",
    "While you can evolve a binary from an arbitrary state, you will need to provide data on the internal structure of the star, if you're starting in the detached step.\n",
    "Otherwise the matching to a single star model will not work!\n",
    "<div>"
   ]
  },
  {
   "cell_type": "code",
   "execution_count": null,
   "metadata": {},
   "outputs": [],
   "source": [
    "from posydon.binary_evol.singlestar import SingleStar\n",
    "from posydon.binary_evol.binarystar import BinaryStar\n",
    "sim_prop.load_steps(verbose=True)  # load steps"
   ]
  },
  {
   "cell_type": "code",
   "execution_count": null,
   "metadata": {},
   "outputs": [],
   "source": [
    "binary = BinaryStar(star_1 = SingleStar(**{'state' : 'NS',\n",
    "                                           'mass' : 1.1,\n",
    "                                           'spin' : 0.,}),\n",
    "                    star_2 = SingleStar(**{'state' : 'stripped_He_Core_He_burning',\n",
    "                                           'mass' : 2.5,\n",
    "                                           'natal_kick_array' : [10., 0., 0., 0.]}),\n",
    "                    **{'time' : 0.,\n",
    "                       'state' : 'RLO2',\n",
    "                       'event' : 'oRLO2',\n",
    "                       'orbital_period' : 1.,\n",
    "                       'eccentricity' : 0.},\n",
    "                    properties = sim_prop,\n",
    "                    )\n",
    "binary.evolve()\n",
    "binary.to_df(extra_columns={'step_names':'string'})[col]"
   ]
  },
  {
   "cell_type": "markdown",
   "metadata": {},
   "source": [
    "## Mapping a MESA step to the `detached_step`"
   ]
  },
  {
   "cell_type": "markdown",
   "metadata": {},
   "source": [
    "You might want to use the `detached_step` instetad of a MESA step. Here is how you do it. As an example we replace the HMS-HMS MESA step with the detached step. Notice that the `detached_step` does not evolve the binary system post onset of RLO1. Hence, unless the `flow_chart` support such binary event, binary state and stellar states, else these systems will not be furthter evovlved."
   ]
  },
  {
   "cell_type": "code",
   "execution_count": null,
   "metadata": {},
   "outputs": [],
   "source": [
    "# MODIFIED FLOW CHART CONFIGURATION\n",
    "sim_kwargs = dict(\n",
    "    flow = (flow_chart, {}),\n",
    "    step_HMS_HMS = (detached_step, DETACHED_STEP), # <-- map this step to detached\n",
    "    step_CO_HeMS = (CO_HeMS_step, MESA_STEP),\n",
    "    step_CO_HMS_RLO = (CO_HMS_RLO_step, MESA_STEP),\n",
    "    step_CO_HeMS_RLO = (CO_HeMS_RLO_step, MESA_STEP),\n",
    "    step_detached = (detached_step, DETACHED_STEP),\n",
    "    step_disrupted = (DisruptedStep, DISRUPTED_STEP),\n",
    "    step_merged = (MergedStep, {}),\n",
    "    step_CE = (StepCEE, CE_STEP),\n",
    "    step_SN = (StepSN, SN_STEP),\n",
    "    step_dco = (DoubleCO, DCO_STEP),\n",
    "    step_end = (step_end, END_STEP),\n",
    "    extra_hooks = [(StepNamesHooks, {})]\n",
    ")\n",
    "\n",
    "sim_prop = SimulationProperties(**sim_kwargs)\n",
    "\n",
    "kwargs['from_hdf'] = False\n",
    "\n",
    "if __name__ == '__main__' :\n",
    "    pop = run_simulation(sim_prop, kwargs)"
   ]
  },
  {
   "cell_type": "code",
   "execution_count": null,
   "metadata": {},
   "outputs": [],
   "source": [
    "i = 0\n",
    "pop[i].to_df(extra_columns={'step_names':'string'})[col]"
   ]
  },
  {
   "cell_type": "markdown",
   "metadata": {},
   "source": [
    "## Crating your own step"
   ]
  },
  {
   "cell_type": "markdown",
   "metadata": {},
   "source": [
    "Here, you learn how to create your own step. As an example we create a step that does a fake common envelope by taking half the orbital period."
   ]
  },
  {
   "cell_type": "code",
   "execution_count": null,
   "metadata": {},
   "outputs": [],
   "source": [
    "class my_CE_step(object):\n",
    "    \"\"\"Compute a fake CE event.\"\"\"\n",
    "\n",
    "    def __init__(self, verbose=False):\n",
    "        self.verbose = verbose\n",
    "\n",
    "    def __call__(self, binary):\n",
    "\n",
    "        if self.verbose:\n",
    "            print('The orbital separation post CE is half the pre CE orbital separation!')\n",
    "\n",
    "        # Determine which star is the donor and which is the companion\n",
    "        if binary.event in [\"oCE1\", \"oDoubleCE1\"]:\n",
    "            donor_star = binary.star_1\n",
    "            comp_star = binary.star_2\n",
    "        elif binary.event in [\"oCE2\", \"oDoubleCE2\"]:\n",
    "            donor_star = binary.star_2\n",
    "            comp_star = binary.star_1\n",
    "        else:\n",
    "            raise ValueError(\"CEE does not apply if `event` is not \"\n",
    "                            \"`oCE1`, 'oDoubleCE1' or `oCE2`, 'oDoubleCE1'\")\n",
    "\n",
    "        binary.orbital_period /= 2.\n",
    "        donor_star.mass = donor_star.he_core_mass # lose envelope\n",
    "        donor_star.state = donor_star.state.replace('H-rich', 'stripped_He')\n",
    "        binary.state = 'detached'\n",
    "        binary.event = None\n",
    "        \n",
    "        \n",
    "# MODIFIED FLOW CHART CONFIGURATION\n",
    "sim_kwargs = dict(\n",
    "    flow = (flow_chart, {}),\n",
    "    step_HMS_HMS = (MS_MS_step, MESA_STEP),\n",
    "    step_CO_HeMS = (CO_HeMS_step, MESA_STEP),\n",
    "    step_CO_HMS_RLO = (CO_HMS_RLO_step, MESA_STEP),\n",
    "    step_CO_HeMS_RLO = (CO_HeMS_RLO_step, MESA_STEP),\n",
    "    step_detached = (detached_step, DETACHED_STEP),\n",
    "    step_disrupted = (DisruptedStep, DISRUPTED_STEP),\n",
    "    step_merged = (MergedStep, {}),\n",
    "    step_CE = (my_CE_step, {}),  # <-- map this step to my fake CE step\n",
    "    step_SN = (StepSN, SN_STEP),\n",
    "    step_dco = (DoubleCO, DCO_STEP),\n",
    "    step_end = (step_end, END_STEP),\n",
    "    extra_hooks = [(StepNamesHooks, {})]\n",
    ")\n",
    "\n",
    "sim_prop = SimulationProperties(**sim_kwargs)\n",
    "\n",
    "\n",
    "pop = run_simulation(sim_prop, kwargs)"
   ]
  },
  {
   "cell_type": "code",
   "execution_count": null,
   "metadata": {},
   "outputs": [],
   "source": [
    "i = 0\n",
    "pop[i].to_df(extra_columns={'step_names':'string'})[col]"
   ]
  }
 ],
 "metadata": {
  "kernelspec": {
   "display_name": "posydon_env",
   "language": "python",
   "name": "python3"
  },
  "language_info": {
   "codemirror_mode": {
    "name": "ipython",
    "version": 3
   },
   "file_extension": ".py",
   "mimetype": "text/x-python",
   "name": "python",
   "nbconvert_exporter": "python",
   "pygments_lexer": "ipython3",
   "version": "3.11.5"
  }
 },
 "nbformat": 4,
 "nbformat_minor": 2
}
