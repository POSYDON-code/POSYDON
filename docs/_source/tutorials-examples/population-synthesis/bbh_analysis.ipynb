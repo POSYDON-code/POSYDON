{
 "cells": [
  {
   "cell_type": "markdown",
   "metadata": {},
   "source": [
    "# Stellar Transient Populations 🔍"
   ]
  },
  {
   "cell_type": "markdown",
   "metadata": {},
   "source": [
    "In this notebook, we will cover:\n",
    "1. Selecting binaries and combining metallicities\n",
    "2. Exploring the `TransientPopulation` class\n",
    "\n",
    "We will do this in the context of the merging binary black hole population."
   ]
  },
  {
   "cell_type": "markdown",
   "metadata": {
    "vscode": {
     "languageId": "plaintext"
    }
   },
   "source": [
    "If you haven't done so yet, export the path POSYDON environment variables. For example:"
   ]
  },
  {
   "cell_type": "code",
   "execution_count": null,
   "metadata": {},
   "outputs": [],
   "source": [
    "%env PATH_TO_POSYDON=/Users/simone/Google Drive/github/POSYDON-public/\n",
    "%env PATH_TO_POSYDON_DATA=/Volumes/T7/"
   ]
  },
  {
   "cell_type": "markdown",
   "metadata": {},
   "source": [
    "## Creating multi-metallicity Populations\n",
    "\n",
    "\n",
    "<div class=\"alert alert-block alert-warning\"><b>Reprocessed POSYDON v1 dataset</b> \n",
    "\n",
    "Please note that with the reprocessed POSYDON v1 data, only solar metallicity is available.\n",
    "You will not be able to follow along with the full tutorial!\n",
    "If you would still like to explore a population at solar metallicity, you can follow the \"One metallicity\" tutorial.</div>"
   ]
  },
  {
   "cell_type": "markdown",
   "metadata": {
    "vscode": {
     "languageId": "plaintext"
    }
   },
   "source": [
    "In the previous tutorial, you generated 8 population files with 1000 binaries.\n",
    "Since this is a small population of only 8.000 binaries, you could explore the complete population.\n",
    "But the larger your populations get, the better it is to select specific binaries.\n",
    "\n",
    "For each population file, we can export the binaries we're interested in into a new file.\n",
    "For this, we need to find the indices of the merging binaries. The relevant properties are that both S1_state and S2_state equal 'BH', while the binary has the `event == 'CO_contact`.\n",
    "\n",
    "We will load one of the population files to build our merging binaries selection.\n",
    "\n",
    "\n",
    "\n",
    "<div class=\"alert alert-block alert-warning\"><b>No indices?</b> \n",
    "\n",
    "It might be that the population you generated does not contain any merging BBHs, they're rare after all.\n",
    "\n",
    "As such, we have provided an example population run at `$PATH_TO_POSYDON_DATA/population-synthesis/example/`, this simulation contains 10.000 binaries at the 8 metallicity. </div>\n"
   ]
  },
  {
   "cell_type": "code",
   "execution_count": 9,
   "metadata": {},
   "outputs": [],
   "source": [
    "from posydon.popsyn.synthetic_population import Population\n",
    "\n",
    "pop = Population('1e+00_Zsun_population.h5') \n",
    "tmp_data = pop.history.select(columns=['S1_state', 'S2_state', 'event'])\n"
   ]
  },
  {
   "cell_type": "markdown",
   "metadata": {},
   "source": [
    "`pop.history.select` is a read operation on the population file and can take quite a lot of time if the population is large.\n",
    "\n",
    "If you have sufficient memory, it is more efficient to select several columns at the same time, as done here, instead of selecting a single column each time."
   ]
  },
  {
   "cell_type": "code",
   "execution_count": 10,
   "metadata": {},
   "outputs": [],
   "source": [
    "# Selection of S1 being a BH\n",
    "S1_state = tmp_data['S1_state'] == 'BH'\n",
    "# Selection of S2 being a BH\n",
    "S2_state = tmp_data['S2_state'] == 'BH'\n",
    "# Selection of the binary system being in contact during the double CO phase.\n",
    "state = tmp_data['event'] == 'CO_contact'\n",
    "\n",
    "# get the indices of all systems\n",
    "indices = tmp_data.index\n",
    "\n",
    "# delete the temporary data\n",
    "del tmp_data\n",
    "\n",
    "# get a mask for the indices that satisfy all the conditions\n",
    "mask = S1_state & S2_state & state\n",
    "\n",
    "# get the indices that satisfy all the conditions\n",
    "selected_indices = indices[mask].to_list()"
   ]
  },
  {
   "cell_type": "markdown",
   "metadata": {},
   "source": [
    "The `selected_indices` has to be a list for the selection to work correctly.\n",
    "\n",
    "You can test you selection by doing the following:"
   ]
  },
  {
   "cell_type": "code",
   "execution_count": 11,
   "metadata": {},
   "outputs": [
    {
     "name": "stdout",
     "output_type": "stream",
     "text": [
      "[]\n"
     ]
    },
    {
     "data": {
      "text/html": [
       "<div>\n",
       "<style scoped>\n",
       "    .dataframe tbody tr th:only-of-type {\n",
       "        vertical-align: middle;\n",
       "    }\n",
       "\n",
       "    .dataframe tbody tr th {\n",
       "        vertical-align: top;\n",
       "    }\n",
       "\n",
       "    .dataframe thead th {\n",
       "        text-align: right;\n",
       "    }\n",
       "</style>\n",
       "<table border=\"1\" class=\"dataframe\">\n",
       "  <thead>\n",
       "    <tr style=\"text-align: right;\">\n",
       "      <th></th>\n",
       "    </tr>\n",
       "  </thead>\n",
       "  <tbody>\n",
       "  </tbody>\n",
       "</table>\n",
       "</div>"
      ],
      "text/plain": [
       "Empty DataFrame\n",
       "Columns: []\n",
       "Index: []"
      ]
     },
     "execution_count": 11,
     "metadata": {},
     "output_type": "execute_result"
    }
   ],
   "source": [
    "print(selected_indices)\n",
    "pop.history[selected_indices]"
   ]
  },
  {
   "cell_type": "markdown",
   "metadata": {},
   "source": [
    "If your selected indices is empty, no BBH mergers were in your population.\n",
    "\n",
    "Lets use an example set of populations to make sure there will be BBH in your population.\n",
    "\n",
    "**This can only be used with the multi-metallicity populations**"
   ]
  },
  {
   "cell_type": "code",
   "execution_count": 4,
   "metadata": {},
   "outputs": [],
   "source": [
    "from posydon.popsyn.synthetic_population import Population\n",
    "\n",
    "PATH_TO_POSYDON_DATA = '/Users/max/Documents/POSYDON_data/240305/POSYDON_data/tutorials/population-synthesis/example/'\n",
    "\n",
    "files = ['1e-01_Zsun_population.h5',\n",
    "         '1e-02_Zsun_population.h5',\n",
    "         '1e-03_Zsun_population.h5',\n",
    "         '1e-04_Zsun_population.h5',\n",
    "         '1e+00_Zsun_population.h5',\n",
    "         '2e-01_Zsun_population.h5',\n",
    "         '2e+00_Zsun_population.h5',\n",
    "         '4.5e-01_Zsun_population.h5']\n",
    "\n",
    "\n",
    "pop = Population(PATH_TO_POSYDON_DATA+files[0])"
   ]
  },
  {
   "cell_type": "code",
   "execution_count": 5,
   "metadata": {},
   "outputs": [
    {
     "data": {
      "text/html": [
       "<div>\n",
       "<style scoped>\n",
       "    .dataframe tbody tr th:only-of-type {\n",
       "        vertical-align: middle;\n",
       "    }\n",
       "\n",
       "    .dataframe tbody tr th {\n",
       "        vertical-align: top;\n",
       "    }\n",
       "\n",
       "    .dataframe thead th {\n",
       "        text-align: right;\n",
       "    }\n",
       "</style>\n",
       "<table border=\"1\" class=\"dataframe\">\n",
       "  <thead>\n",
       "    <tr style=\"text-align: right;\">\n",
       "      <th></th>\n",
       "      <th>state</th>\n",
       "      <th>event</th>\n",
       "      <th>time</th>\n",
       "      <th>orbital_period</th>\n",
       "      <th>eccentricity</th>\n",
       "      <th>lg_mtransfer_rate</th>\n",
       "      <th>step_names</th>\n",
       "      <th>step_times</th>\n",
       "      <th>S1_state</th>\n",
       "      <th>S1_mass</th>\n",
       "      <th>...</th>\n",
       "      <th>S2_he_core_mass</th>\n",
       "      <th>S2_he_core_radius</th>\n",
       "      <th>S2_co_core_mass</th>\n",
       "      <th>S2_co_core_radius</th>\n",
       "      <th>S2_center_h1</th>\n",
       "      <th>S2_center_he4</th>\n",
       "      <th>S2_surface_h1</th>\n",
       "      <th>S2_surface_he4</th>\n",
       "      <th>S2_surf_avg_omega_div_omega_crit</th>\n",
       "      <th>S2_spin</th>\n",
       "    </tr>\n",
       "    <tr>\n",
       "      <th>binary_index</th>\n",
       "      <th></th>\n",
       "      <th></th>\n",
       "      <th></th>\n",
       "      <th></th>\n",
       "      <th></th>\n",
       "      <th></th>\n",
       "      <th></th>\n",
       "      <th></th>\n",
       "      <th></th>\n",
       "      <th></th>\n",
       "      <th></th>\n",
       "      <th></th>\n",
       "      <th></th>\n",
       "      <th></th>\n",
       "      <th></th>\n",
       "      <th></th>\n",
       "      <th></th>\n",
       "      <th></th>\n",
       "      <th></th>\n",
       "      <th></th>\n",
       "      <th></th>\n",
       "    </tr>\n",
       "  </thead>\n",
       "  <tbody>\n",
       "    <tr>\n",
       "      <th>600</th>\n",
       "      <td>detached</td>\n",
       "      <td>ZAMS</td>\n",
       "      <td>0.000000e+00</td>\n",
       "      <td>1.055730</td>\n",
       "      <td>0.0</td>\n",
       "      <td>NaN</td>\n",
       "      <td>initial_cond</td>\n",
       "      <td>0.000000</td>\n",
       "      <td>H-rich_Core_H_burning</td>\n",
       "      <td>51.658001</td>\n",
       "      <td>...</td>\n",
       "      <td>NaN</td>\n",
       "      <td>NaN</td>\n",
       "      <td>NaN</td>\n",
       "      <td>NaN</td>\n",
       "      <td>0.747480</td>\n",
       "      <td>0.251100</td>\n",
       "      <td>NaN</td>\n",
       "      <td>NaN</td>\n",
       "      <td>NaN</td>\n",
       "      <td>NaN</td>\n",
       "    </tr>\n",
       "    <tr>\n",
       "      <th>600</th>\n",
       "      <td>contact</td>\n",
       "      <td>oCE1</td>\n",
       "      <td>4.236171e+05</td>\n",
       "      <td>0.827391</td>\n",
       "      <td>0.0</td>\n",
       "      <td>-2.792667</td>\n",
       "      <td>step_HMS_HMS</td>\n",
       "      <td>0.153432</td>\n",
       "      <td>H-rich_Core_H_burning</td>\n",
       "      <td>50.343884</td>\n",
       "      <td>...</td>\n",
       "      <td>0.0</td>\n",
       "      <td>0.0</td>\n",
       "      <td>0.0</td>\n",
       "      <td>0.0</td>\n",
       "      <td>0.732523</td>\n",
       "      <td>0.266098</td>\n",
       "      <td>0.744122</td>\n",
       "      <td>0.254440</td>\n",
       "      <td>0.807113</td>\n",
       "      <td>11.503428</td>\n",
       "    </tr>\n",
       "    <tr>\n",
       "      <th>600</th>\n",
       "      <td>merged</td>\n",
       "      <td>oMerging1</td>\n",
       "      <td>4.236171e+05</td>\n",
       "      <td>0.827391</td>\n",
       "      <td>0.0</td>\n",
       "      <td>-2.792667</td>\n",
       "      <td>step_CE</td>\n",
       "      <td>0.000055</td>\n",
       "      <td>H-rich_Core_H_burning</td>\n",
       "      <td>50.343884</td>\n",
       "      <td>...</td>\n",
       "      <td>0.0</td>\n",
       "      <td>0.0</td>\n",
       "      <td>0.0</td>\n",
       "      <td>0.0</td>\n",
       "      <td>0.732523</td>\n",
       "      <td>0.266098</td>\n",
       "      <td>0.744122</td>\n",
       "      <td>0.254440</td>\n",
       "      <td>0.807113</td>\n",
       "      <td>11.503428</td>\n",
       "    </tr>\n",
       "    <tr>\n",
       "      <th>600</th>\n",
       "      <td>merged</td>\n",
       "      <td>CC1</td>\n",
       "      <td>4.344205e+06</td>\n",
       "      <td>NaN</td>\n",
       "      <td>NaN</td>\n",
       "      <td>NaN</td>\n",
       "      <td>step_merged</td>\n",
       "      <td>2.824777</td>\n",
       "      <td>H-rich_Central_C_depletion</td>\n",
       "      <td>37.918712</td>\n",
       "      <td>...</td>\n",
       "      <td>NaN</td>\n",
       "      <td>NaN</td>\n",
       "      <td>NaN</td>\n",
       "      <td>NaN</td>\n",
       "      <td>NaN</td>\n",
       "      <td>NaN</td>\n",
       "      <td>NaN</td>\n",
       "      <td>NaN</td>\n",
       "      <td>NaN</td>\n",
       "      <td>NaN</td>\n",
       "    </tr>\n",
       "    <tr>\n",
       "      <th>600</th>\n",
       "      <td>merged</td>\n",
       "      <td>NaN</td>\n",
       "      <td>4.344205e+06</td>\n",
       "      <td>NaN</td>\n",
       "      <td>NaN</td>\n",
       "      <td>NaN</td>\n",
       "      <td>step_SN</td>\n",
       "      <td>0.074564</td>\n",
       "      <td>BH</td>\n",
       "      <td>33.785929</td>\n",
       "      <td>...</td>\n",
       "      <td>NaN</td>\n",
       "      <td>NaN</td>\n",
       "      <td>NaN</td>\n",
       "      <td>NaN</td>\n",
       "      <td>NaN</td>\n",
       "      <td>NaN</td>\n",
       "      <td>NaN</td>\n",
       "      <td>NaN</td>\n",
       "      <td>NaN</td>\n",
       "      <td>NaN</td>\n",
       "    </tr>\n",
       "    <tr>\n",
       "      <th>...</th>\n",
       "      <td>...</td>\n",
       "      <td>...</td>\n",
       "      <td>...</td>\n",
       "      <td>...</td>\n",
       "      <td>...</td>\n",
       "      <td>...</td>\n",
       "      <td>...</td>\n",
       "      <td>...</td>\n",
       "      <td>...</td>\n",
       "      <td>...</td>\n",
       "      <td>...</td>\n",
       "      <td>...</td>\n",
       "      <td>...</td>\n",
       "      <td>...</td>\n",
       "      <td>...</td>\n",
       "      <td>...</td>\n",
       "      <td>...</td>\n",
       "      <td>...</td>\n",
       "      <td>...</td>\n",
       "      <td>...</td>\n",
       "      <td>...</td>\n",
       "    </tr>\n",
       "    <tr>\n",
       "      <th>1799</th>\n",
       "      <td>contact</td>\n",
       "      <td>oCE1</td>\n",
       "      <td>1.352121e+06</td>\n",
       "      <td>0.474735</td>\n",
       "      <td>0.0</td>\n",
       "      <td>-4.587793</td>\n",
       "      <td>step_HMS_HMS</td>\n",
       "      <td>0.032689</td>\n",
       "      <td>H-rich_Core_H_burning</td>\n",
       "      <td>15.878279</td>\n",
       "      <td>...</td>\n",
       "      <td>0.0</td>\n",
       "      <td>0.0</td>\n",
       "      <td>0.0</td>\n",
       "      <td>0.0</td>\n",
       "      <td>0.746750</td>\n",
       "      <td>0.251716</td>\n",
       "      <td>0.747438</td>\n",
       "      <td>0.251114</td>\n",
       "      <td>0.543626</td>\n",
       "      <td>8.703293</td>\n",
       "    </tr>\n",
       "    <tr>\n",
       "      <th>1799</th>\n",
       "      <td>merged</td>\n",
       "      <td>oMerging1</td>\n",
       "      <td>1.352121e+06</td>\n",
       "      <td>0.474735</td>\n",
       "      <td>0.0</td>\n",
       "      <td>-4.587793</td>\n",
       "      <td>step_CE</td>\n",
       "      <td>0.000059</td>\n",
       "      <td>H-rich_Core_H_burning</td>\n",
       "      <td>15.878279</td>\n",
       "      <td>...</td>\n",
       "      <td>0.0</td>\n",
       "      <td>0.0</td>\n",
       "      <td>0.0</td>\n",
       "      <td>0.0</td>\n",
       "      <td>0.746750</td>\n",
       "      <td>0.251716</td>\n",
       "      <td>0.747438</td>\n",
       "      <td>0.251114</td>\n",
       "      <td>0.543626</td>\n",
       "      <td>8.703293</td>\n",
       "    </tr>\n",
       "    <tr>\n",
       "      <th>1799</th>\n",
       "      <td>merged</td>\n",
       "      <td>CC1</td>\n",
       "      <td>1.475450e+07</td>\n",
       "      <td>NaN</td>\n",
       "      <td>NaN</td>\n",
       "      <td>NaN</td>\n",
       "      <td>step_merged</td>\n",
       "      <td>0.585972</td>\n",
       "      <td>H-rich_Central_C_depletion</td>\n",
       "      <td>10.997112</td>\n",
       "      <td>...</td>\n",
       "      <td>NaN</td>\n",
       "      <td>NaN</td>\n",
       "      <td>NaN</td>\n",
       "      <td>NaN</td>\n",
       "      <td>NaN</td>\n",
       "      <td>NaN</td>\n",
       "      <td>NaN</td>\n",
       "      <td>NaN</td>\n",
       "      <td>NaN</td>\n",
       "      <td>NaN</td>\n",
       "    </tr>\n",
       "    <tr>\n",
       "      <th>1799</th>\n",
       "      <td>merged</td>\n",
       "      <td>NaN</td>\n",
       "      <td>1.475450e+07</td>\n",
       "      <td>NaN</td>\n",
       "      <td>NaN</td>\n",
       "      <td>NaN</td>\n",
       "      <td>step_SN</td>\n",
       "      <td>0.055462</td>\n",
       "      <td>BH</td>\n",
       "      <td>6.055511</td>\n",
       "      <td>...</td>\n",
       "      <td>NaN</td>\n",
       "      <td>NaN</td>\n",
       "      <td>NaN</td>\n",
       "      <td>NaN</td>\n",
       "      <td>NaN</td>\n",
       "      <td>NaN</td>\n",
       "      <td>NaN</td>\n",
       "      <td>NaN</td>\n",
       "      <td>NaN</td>\n",
       "      <td>NaN</td>\n",
       "    </tr>\n",
       "    <tr>\n",
       "      <th>1799</th>\n",
       "      <td>merged</td>\n",
       "      <td>END</td>\n",
       "      <td>1.475450e+07</td>\n",
       "      <td>NaN</td>\n",
       "      <td>NaN</td>\n",
       "      <td>NaN</td>\n",
       "      <td>step_end</td>\n",
       "      <td>0.000044</td>\n",
       "      <td>BH</td>\n",
       "      <td>6.055511</td>\n",
       "      <td>...</td>\n",
       "      <td>NaN</td>\n",
       "      <td>NaN</td>\n",
       "      <td>NaN</td>\n",
       "      <td>NaN</td>\n",
       "      <td>NaN</td>\n",
       "      <td>NaN</td>\n",
       "      <td>NaN</td>\n",
       "      <td>NaN</td>\n",
       "      <td>NaN</td>\n",
       "      <td>NaN</td>\n",
       "    </tr>\n",
       "  </tbody>\n",
       "</table>\n",
       "<p>61647 rows × 38 columns</p>\n",
       "</div>"
      ],
      "text/plain": [
       "                 state      event          time  orbital_period  eccentricity  \\\n",
       "binary_index                                                                    \n",
       "600           detached       ZAMS  0.000000e+00        1.055730           0.0   \n",
       "600            contact       oCE1  4.236171e+05        0.827391           0.0   \n",
       "600             merged  oMerging1  4.236171e+05        0.827391           0.0   \n",
       "600             merged        CC1  4.344205e+06             NaN           NaN   \n",
       "600             merged        NaN  4.344205e+06             NaN           NaN   \n",
       "...                ...        ...           ...             ...           ...   \n",
       "1799           contact       oCE1  1.352121e+06        0.474735           0.0   \n",
       "1799            merged  oMerging1  1.352121e+06        0.474735           0.0   \n",
       "1799            merged        CC1  1.475450e+07             NaN           NaN   \n",
       "1799            merged        NaN  1.475450e+07             NaN           NaN   \n",
       "1799            merged        END  1.475450e+07             NaN           NaN   \n",
       "\n",
       "              lg_mtransfer_rate    step_names  step_times  \\\n",
       "binary_index                                                \n",
       "600                         NaN  initial_cond    0.000000   \n",
       "600                   -2.792667  step_HMS_HMS    0.153432   \n",
       "600                   -2.792667       step_CE    0.000055   \n",
       "600                         NaN   step_merged    2.824777   \n",
       "600                         NaN       step_SN    0.074564   \n",
       "...                         ...           ...         ...   \n",
       "1799                  -4.587793  step_HMS_HMS    0.032689   \n",
       "1799                  -4.587793       step_CE    0.000059   \n",
       "1799                        NaN   step_merged    0.585972   \n",
       "1799                        NaN       step_SN    0.055462   \n",
       "1799                        NaN      step_end    0.000044   \n",
       "\n",
       "                                S1_state    S1_mass  ...  S2_he_core_mass  \\\n",
       "binary_index                                         ...                    \n",
       "600                H-rich_Core_H_burning  51.658001  ...              NaN   \n",
       "600                H-rich_Core_H_burning  50.343884  ...              0.0   \n",
       "600                H-rich_Core_H_burning  50.343884  ...              0.0   \n",
       "600           H-rich_Central_C_depletion  37.918712  ...              NaN   \n",
       "600                                   BH  33.785929  ...              NaN   \n",
       "...                                  ...        ...  ...              ...   \n",
       "1799               H-rich_Core_H_burning  15.878279  ...              0.0   \n",
       "1799               H-rich_Core_H_burning  15.878279  ...              0.0   \n",
       "1799          H-rich_Central_C_depletion  10.997112  ...              NaN   \n",
       "1799                                  BH   6.055511  ...              NaN   \n",
       "1799                                  BH   6.055511  ...              NaN   \n",
       "\n",
       "              S2_he_core_radius  S2_co_core_mass  S2_co_core_radius  \\\n",
       "binary_index                                                          \n",
       "600                         NaN              NaN                NaN   \n",
       "600                         0.0              0.0                0.0   \n",
       "600                         0.0              0.0                0.0   \n",
       "600                         NaN              NaN                NaN   \n",
       "600                         NaN              NaN                NaN   \n",
       "...                         ...              ...                ...   \n",
       "1799                        0.0              0.0                0.0   \n",
       "1799                        0.0              0.0                0.0   \n",
       "1799                        NaN              NaN                NaN   \n",
       "1799                        NaN              NaN                NaN   \n",
       "1799                        NaN              NaN                NaN   \n",
       "\n",
       "              S2_center_h1  S2_center_he4  S2_surface_h1  S2_surface_he4  \\\n",
       "binary_index                                                               \n",
       "600               0.747480       0.251100            NaN             NaN   \n",
       "600               0.732523       0.266098       0.744122        0.254440   \n",
       "600               0.732523       0.266098       0.744122        0.254440   \n",
       "600                    NaN            NaN            NaN             NaN   \n",
       "600                    NaN            NaN            NaN             NaN   \n",
       "...                    ...            ...            ...             ...   \n",
       "1799              0.746750       0.251716       0.747438        0.251114   \n",
       "1799              0.746750       0.251716       0.747438        0.251114   \n",
       "1799                   NaN            NaN            NaN             NaN   \n",
       "1799                   NaN            NaN            NaN             NaN   \n",
       "1799                   NaN            NaN            NaN             NaN   \n",
       "\n",
       "              S2_surf_avg_omega_div_omega_crit    S2_spin  \n",
       "binary_index                                               \n",
       "600                                        NaN        NaN  \n",
       "600                                   0.807113  11.503428  \n",
       "600                                   0.807113  11.503428  \n",
       "600                                        NaN        NaN  \n",
       "600                                        NaN        NaN  \n",
       "...                                        ...        ...  \n",
       "1799                                  0.543626   8.703293  \n",
       "1799                                  0.543626   8.703293  \n",
       "1799                                       NaN        NaN  \n",
       "1799                                       NaN        NaN  \n",
       "1799                                       NaN        NaN  \n",
       "\n",
       "[61647 rows x 38 columns]"
      ]
     },
     "execution_count": 5,
     "metadata": {},
     "output_type": "execute_result"
    }
   ],
   "source": [
    "pop.history"
   ]
  },
  {
   "cell_type": "markdown",
   "metadata": {},
   "source": [
    "We don't just want to write these binaries for a single metallicity. We want to export them for each metallicity file.\n",
    "As such, we loop over each Population file and export the binaries to the same file. It's important to have the same columns in the populations, otherwise it's not possible to add them together.\n",
    "\n",
    "The indices of the binaries will be reset, when being exported, such that the new file contains unique indices for each binary."
   ]
  },
  {
   "cell_type": "code",
   "execution_count": 6,
   "metadata": {},
   "outputs": [
    {
     "name": "stdout",
     "output_type": "stream",
     "text": [
      "File: 1e-01_Zsun_population.h5, Number of systems: 21\n",
      "File: 1e-02_Zsun_population.h5, Number of systems: 52\n",
      "File: 1e-03_Zsun_population.h5, Number of systems: 115\n",
      "File: 1e-04_Zsun_population.h5, Number of systems: 109\n",
      "File: 1e+00_Zsun_population.h5, Number of systems: 1\n",
      "File: 2e-01_Zsun_population.h5, Number of systems: 17\n",
      "File: 2e+00_Zsun_population.h5, Number of systems: 0\n",
      "File: 4.5e-01_Zsun_population.h5, Number of systems: 3\n"
     ]
    }
   ],
   "source": [
    "from posydon.popsyn.synthetic_population import Population\n",
    "# The names of the populations, if you followed along.\n",
    "files = ['1e-01_Zsun_population.h5',\n",
    "         '1e-02_Zsun_population.h5',\n",
    "         '1e-03_Zsun_population.h5',\n",
    "         '1e-04_Zsun_population.h5',\n",
    "         '1e+00_Zsun_population.h5',\n",
    "         '2e-01_Zsun_population.h5',\n",
    "         '2e+00_Zsun_population.h5',\n",
    "         '4.5e-01_Zsun_population.h5']\n",
    "\n",
    "\n",
    "for file in files:\n",
    "    pop = Population(PATH_TO_POSYDON_DATA+file)\n",
    "    # read the relevant data in one go\n",
    "    # (faster than reading it in chunks, but requires more memory)\n",
    "    tmp_data = pop.history.select(columns=['S1_state', 'S2_state', 'event'])\n",
    "    # Selection of S1 being a BH\n",
    "    S1_state = tmp_data['S1_state'] == 'BH'\n",
    "    # Selection of S2 being a BH\n",
    "    S2_state = tmp_data['S2_state'] == 'BH'\n",
    "    # Selection of the binary system being in contact during the double CO phase.\n",
    "    state = tmp_data['event'] == 'CO_contact'\n",
    "    indices = tmp_data.index\n",
    "    del tmp_data\n",
    "    mask = S1_state & S2_state & state\n",
    "    selected_indices = indices[mask].to_list()\n",
    "    print(f'File: {file}, Number of systems: {len(selected_indices)}')\n",
    "    \n",
    "    # set overwrite to False to add to the file\n",
    "    pop.export_selection(selected_indices, 'BBH_contact.h5', append=True)"
   ]
  },
  {
   "cell_type": "markdown",
   "metadata": {},
   "source": [
    "If you population did not contain any BBH mergers, all the \"Number of Systems\" will be 0 and you won't be able to open the file in the next cell.\n",
    "\n",
    "If you ran the population with the tutorial populations, you should have a total of .. merging BBHs.\n",
    "\n",
    "We can confirm this by adding up the values above or by opening the new file. `Population.number_of_systems` gives us the total number of binaries in the file. \n",
    "\n",
    "You now see that the `mass_per_met` property contains information about all the metallicities in the file.\n",
    "\n",
    "You can even combined multiple runs at the same metallicity together, if you like. This will combine their simualted and underlying masses."
   ]
  },
  {
   "cell_type": "code",
   "execution_count": 12,
   "metadata": {},
   "outputs": [
    {
     "name": "stdout",
     "output_type": "stream",
     "text": [
      "318\n"
     ]
    },
    {
     "data": {
      "text/html": [
       "<div>\n",
       "<style scoped>\n",
       "    .dataframe tbody tr th:only-of-type {\n",
       "        vertical-align: middle;\n",
       "    }\n",
       "\n",
       "    .dataframe tbody tr th {\n",
       "        vertical-align: top;\n",
       "    }\n",
       "\n",
       "    .dataframe thead th {\n",
       "        text-align: right;\n",
       "    }\n",
       "</style>\n",
       "<table border=\"1\" class=\"dataframe\">\n",
       "  <thead>\n",
       "    <tr style=\"text-align: right;\">\n",
       "      <th></th>\n",
       "      <th>simulated_mass</th>\n",
       "      <th>underlying_mass</th>\n",
       "      <th>number_of_systems</th>\n",
       "    </tr>\n",
       "  </thead>\n",
       "  <tbody>\n",
       "    <tr>\n",
       "      <th>0.0001</th>\n",
       "      <td>281214.994899</td>\n",
       "      <td>1.581504e+06</td>\n",
       "      <td>109</td>\n",
       "    </tr>\n",
       "    <tr>\n",
       "      <th>0.0010</th>\n",
       "      <td>283144.932934</td>\n",
       "      <td>1.592358e+06</td>\n",
       "      <td>115</td>\n",
       "    </tr>\n",
       "    <tr>\n",
       "      <th>0.0100</th>\n",
       "      <td>283106.869652</td>\n",
       "      <td>1.592144e+06</td>\n",
       "      <td>52</td>\n",
       "    </tr>\n",
       "    <tr>\n",
       "      <th>0.1000</th>\n",
       "      <td>281919.571423</td>\n",
       "      <td>1.585467e+06</td>\n",
       "      <td>21</td>\n",
       "    </tr>\n",
       "    <tr>\n",
       "      <th>0.2000</th>\n",
       "      <td>282060.402245</td>\n",
       "      <td>1.586259e+06</td>\n",
       "      <td>17</td>\n",
       "    </tr>\n",
       "    <tr>\n",
       "      <th>0.4500</th>\n",
       "      <td>282321.240555</td>\n",
       "      <td>1.587726e+06</td>\n",
       "      <td>3</td>\n",
       "    </tr>\n",
       "    <tr>\n",
       "      <th>1.0000</th>\n",
       "      <td>282713.611577</td>\n",
       "      <td>1.589932e+06</td>\n",
       "      <td>1</td>\n",
       "    </tr>\n",
       "    <tr>\n",
       "      <th>2.0000</th>\n",
       "      <td>284132.228693</td>\n",
       "      <td>1.597910e+06</td>\n",
       "      <td>0</td>\n",
       "    </tr>\n",
       "  </tbody>\n",
       "</table>\n",
       "</div>"
      ],
      "text/plain": [
       "        simulated_mass  underlying_mass  number_of_systems\n",
       "0.0001   281214.994899     1.581504e+06                109\n",
       "0.0010   283144.932934     1.592358e+06                115\n",
       "0.0100   283106.869652     1.592144e+06                 52\n",
       "0.1000   281919.571423     1.585467e+06                 21\n",
       "0.2000   282060.402245     1.586259e+06                 17\n",
       "0.4500   282321.240555     1.587726e+06                  3\n",
       "1.0000   282713.611577     1.589932e+06                  1\n",
       "2.0000   284132.228693     1.597910e+06                  0"
      ]
     },
     "execution_count": 12,
     "metadata": {},
     "output_type": "execute_result"
    }
   ],
   "source": [
    "from posydon.popsyn.synthetic_population import Population\n",
    "BBH_pop = Population('BBH_contact.h5', chunksize=10000)\n",
    "print(BBH_pop.number_of_systems)\n",
    "\n",
    "BBH_pop.mass_per_metallicity"
   ]
  },
  {
   "cell_type": "markdown",
   "metadata": {},
   "source": [
    "# Transient population\n",
    "\n",
    "Although we now have selected all binaries with a BBH merger, we don't have the extact moment of the merger yet.\n",
    "\n",
    "For this we will create a `TransientPopulation`.\n",
    "This class is used to hold information about a specific event/moment in time.\n",
    "\n",
    "In our case, this is the moment of \"CO_contact\". However, we might want to store \n",
    "and calculate some additional values, such as the $M_\\mathrm{chirp}$ or $\\chi_\\mathrm{eff}$.\n",
    "\n",
    "The `Population` class has a function `create_transient_population` (see [here for more details]()).\n",
    "\n",
    "In short, it takes a `selection_function` and a `transient_name`.\n",
    "\n",
    "The `transient_name` is a string identifying the transient population in the file,\n",
    "while `selection_function` extracts the `TransientPopulation` for us.\n",
    "This can be any custom function you want it to be, as long it outputs a pandas DataFrame with a 'time' and 'metallicity' column.\n",
    "\n",
    "Several selection functions are provided in `posydon.popsyn.transient_select_funcs`:\n",
    "1. BBH_selection_function\n",
    "2. GRB_selection_function\n",
    "\n",
    "We have copied part of the BBH_selection_function below to explain how a `selections_function` works."
   ]
  },
  {
   "cell_type": "code",
   "execution_count": null,
   "metadata": {},
   "outputs": [],
   "source": [
    "import pandas as pd\n",
    "def BBH_selection_function(history_chunk, oneline_chunk, formation_channels_chunk):\n",
    "    '''A BBH selection function to create a transient population of BBHs mergers.'''\n",
    "    \n",
    "    indices = oneline_chunk.index.to_numpy()\n",
    "    df_transients = pd.DataFrame(index = indices)\n",
    "    \n",
    "    df_transients['time'] = history_chunk[history_chunk['event'] == 'CO_contact']['time'] * 1e-6 #Myr\n",
    "    df_transients['metallicity'] = oneline_chunk['metallicity']\n",
    "\n",
    "    return df_transients"
   ]
  },
  {
   "cell_type": "markdown",
   "metadata": {},
   "source": [
    "A `selection_function` always has as an input a chunk of the history, oneline, and formation_pathways (optional).\n",
    "For example, you set your `chunksize=10` when you initialise the `Population`, like we've done above for `BBH_pop`, each chunk will contain 10 binaries.\n",
    "This means that the complete history, oneline and formation_pathways of those 10 binaries are passed to this function.\n",
    "\n",
    "\n",
    "The `BBH_selection_function` selects the moment the binary reaches CO_contact as the moment of merger, and stores it in the `time` columns in Myr.\n",
    "The metallicity is also outputted.\n",
    "\n",
    "We can test this function by inputting a single binary into it, as done below.\n",
    "If you've used the example populations, you might not have calculated the formation_channels yet. We will set that input to None."
   ]
  },
  {
   "cell_type": "code",
   "execution_count": null,
   "metadata": {},
   "outputs": [],
   "source": [
    "BBH_selection_function(BBH_pop.history[0], BBH_pop.oneline[0], None)"
   ]
  },
  {
   "cell_type": "markdown",
   "metadata": {},
   "source": [
    "This gives us a dataframe containing our 1 binary, its index (0), the moment of merger, and its metallicity.\n",
    "Of course, we could like to know a bit more about our merger than just when it occurs.\n",
    "\n",
    "Lets expand our output with the BH masses, their spin, their tilt, and the orbital period at DCO formation."
   ]
  },
  {
   "cell_type": "code",
   "execution_count": null,
   "metadata": {},
   "outputs": [],
   "source": [
    "def BBH_selection_function(history_chunk, oneline_chunk, formation_channels_chunk):\n",
    "    '''A BBH selection function to create a transient population of BBHs mergers.'''\n",
    "    \n",
    "    indices = oneline_chunk.index.to_numpy()\n",
    "    df_transients = pd.DataFrame(index = indices)\n",
    "    \n",
    "    df_transients['time'] = history_chunk[history_chunk['event'] == 'CO_contact']['time'] * 1e-6 #Myr\n",
    "    df_transients['metallicity'] = oneline_chunk['metallicity']\n",
    "    \n",
    "    # Added properties\n",
    "    mask = (history_chunk['S1_state'] == 'BH') & (history_chunk['S2_state'] == 'BH') & (history_chunk['step_names'] == 'step_SN') & (history_chunk['state'] == 'detached')\n",
    "    df_transients['t_inspiral'] = df_transients['time'] - history_chunk[mask]['time']*1e-6\n",
    "    df_transients['S1_state']  = history_chunk[mask]['S1_state']\n",
    "    df_transients['S2_state']  = history_chunk[mask]['S2_state']\n",
    "    df_transients['S1_mass'] = history_chunk[mask]['S1_mass']\n",
    "    df_transients['S2_mass'] = history_chunk[mask]['S2_mass']\n",
    "    df_transients['S1_spin'] = history_chunk[mask]['S1_spin']\n",
    "    df_transients['S2_spin'] = history_chunk[mask]['S2_spin']\n",
    "    df_transients['S1_spin_orbit_tilt'] = oneline_chunk['S1_spin_orbit_tilt']\n",
    "    df_transients['S2_spin_orbit_tilt'] = oneline_chunk['S2_spin_orbit_tilt']\n",
    "    df_transients['orbital_period'] = history_chunk[mask]['orbital_period']\n",
    "    \n",
    "    return df_transients"
   ]
  },
  {
   "cell_type": "code",
   "execution_count": null,
   "metadata": {},
   "outputs": [],
   "source": [
    "BBH_selection_function(BBH_pop.history[0], BBH_pop.oneline[0], None)"
   ]
  },
  {
   "cell_type": "markdown",
   "metadata": {},
   "source": [
    "With this new function, we have a lot more information available in the TransientPopulation.\n",
    "\n",
    "You can further customise this to your liking, if you want to store specific information.\n",
    "It's also possible to calculate additional infomration based on any value in the history, oneline or formation_channels.\n",
    "\n",
    "We will import some functions to calculate $\\chi_\\mathrm{eff}$, $q$ and $\\mathcal{M}_\\mathrm{chirp}$ and also add them to the dataframe.\n"
   ]
  },
  {
   "cell_type": "code",
   "execution_count": null,
   "metadata": {},
   "outputs": [],
   "source": [
    "from posydon.popsyn.transient_select_funcs import chi_eff, mass_ratio, m_chirp\n",
    "import pandas as pd\n",
    "\n",
    "def BBH_selection_function(history_chunk, oneline_chunk, formation_channels_chunk):\n",
    "    '''A BBH selection function to create a transient population of BBHs mergers.'''\n",
    "    \n",
    "    indices = oneline_chunk.index.to_numpy()\n",
    "    df_transients = pd.DataFrame(index = indices)\n",
    "    \n",
    "    df_transients['time'] = history_chunk[history_chunk['event'] == 'CO_contact']['time'] * 1e-6 #Myr\n",
    "    mask = (history_chunk['S1_state'] == 'BH') & (history_chunk['S2_state'] == 'BH') & (history_chunk['step_names'] == 'step_SN') & (history_chunk['state'] == 'detached')\n",
    "    df_transients['metallicity'] = oneline_chunk['metallicity']\n",
    "    df_transients['t_inspiral'] = df_transients['time'] - history_chunk[mask]['time']*1e-6\n",
    "    \n",
    "    df_transients['S1_state']  = history_chunk[mask]['S1_state']\n",
    "    df_transients['S2_state']  = history_chunk[mask]['S2_state']\n",
    "    df_transients['S1_mass'] = history_chunk[mask]['S1_mass']\n",
    "    df_transients['S2_mass'] = history_chunk[mask]['S2_mass']\n",
    "    df_transients['S1_spin'] = history_chunk[mask]['S1_spin']\n",
    "    df_transients['S2_spin'] = history_chunk[mask]['S2_spin']\n",
    "    df_transients['S1_spin_orbit_tilt'] = oneline_chunk['S1_spin_orbit_tilt']\n",
    "    df_transients['S2_spin_orbit_tilt'] = oneline_chunk['S2_spin_orbit_tilt']\n",
    "    df_transients['orbital_period'] = history_chunk[mask]['orbital_period']\n",
    "    df_transients['eccentricity'] = history_chunk[mask]['eccentricity']\n",
    "    \n",
    "    # Added\n",
    "    df_transients['chirp_mass'] = m_chirp(history_chunk[mask]['S1_mass'], history_chunk[mask]['S2_mass'])\n",
    "    df_transients['mass_ratio'] = mass_ratio(history_chunk[mask]['S1_mass'], history_chunk[mask]['S2_mass'])\n",
    "    df_transients['chi_eff'] = chi_eff(history_chunk[mask]['S1_mass'], history_chunk[mask]['S2_mass'], history_chunk[mask]['S1_spin'], history_chunk[mask]['S2_spin'], oneline_chunk['S1_spin_orbit_tilt'], oneline_chunk['S2_spin_orbit_tilt'])\n",
    "    \n",
    "    return df_transients"
   ]
  },
  {
   "cell_type": "code",
   "execution_count": null,
   "metadata": {},
   "outputs": [],
   "source": [
    "BBH_selection_function(BBH_pop.history[0], BBH_pop.oneline[0], None)"
   ]
  },
  {
   "cell_type": "markdown",
   "metadata": {},
   "source": [
    "Before running this selection on the whole population, we would like to include the formation_channels too.\n",
    "First, we calculate them for the population:"
   ]
  },
  {
   "cell_type": "code",
   "execution_count": null,
   "metadata": {},
   "outputs": [],
   "source": [
    "BBH_pop.calculate_formation_channels(mt_history=True)"
   ]
  },
  {
   "cell_type": "markdown",
   "metadata": {},
   "source": [
    "Now we can include the formation_channels in `df_transients`"
   ]
  },
  {
   "cell_type": "code",
   "execution_count": null,
   "metadata": {},
   "outputs": [],
   "source": [
    "def BBH_selection_function(history_chunk, oneline_chunk, formation_channels_chunk):\n",
    "    '''A BBH selection function to create a transient population of BBHs mergers.'''\n",
    "    \n",
    "    indices = oneline_chunk.index.to_numpy()\n",
    "    df_transients = pd.DataFrame(index = indices)\n",
    "    \n",
    "    df_transients['time'] = history_chunk[history_chunk['event'] == 'CO_contact']['time'] * 1e-6 #Myr\n",
    "    mask = (history_chunk['S1_state'] == 'BH') & (history_chunk['S2_state'] == 'BH') & (history_chunk['step_names'] == 'step_SN') & (history_chunk['state'] == 'detached')\n",
    "    df_transients['metallicity'] = oneline_chunk['metallicity']\n",
    "    df_transients['t_inspiral'] = df_transients['time'] - history_chunk[mask]['time']*1e-6\n",
    "    \n",
    "    df_transients['S1_state']  = history_chunk[mask]['S1_state']\n",
    "    df_transients['S2_state']  = history_chunk[mask]['S2_state']\n",
    "    df_transients['S1_mass'] = history_chunk[mask]['S1_mass']\n",
    "    df_transients['S2_mass'] = history_chunk[mask]['S2_mass']\n",
    "    df_transients['S1_spin'] = history_chunk[mask]['S1_spin']\n",
    "    df_transients['S2_spin'] = history_chunk[mask]['S2_spin']\n",
    "    df_transients['S1_spin_orbit_tilt'] = oneline_chunk['S1_spin_orbit_tilt']\n",
    "    df_transients['S2_spin_orbit_tilt'] = oneline_chunk['S2_spin_orbit_tilt']\n",
    "    df_transients['orbital_period'] = history_chunk[mask]['orbital_period']\n",
    "    df_transients['eccentricity'] = history_chunk[mask]['eccentricity']\n",
    "    \n",
    "    df_transients['chirp_mass'] = m_chirp(history_chunk[mask]['S1_mass'], history_chunk[mask]['S2_mass'])\n",
    "    df_transients['mass_ratio'] = mass_ratio(history_chunk[mask]['S1_mass'], history_chunk[mask]['S2_mass'])\n",
    "    df_transients['chi_eff'] = chi_eff(history_chunk[mask]['S1_mass'], history_chunk[mask]['S2_mass'], history_chunk[mask]['S1_spin'], history_chunk[mask]['S2_spin'], oneline_chunk['S1_spin_orbit_tilt'], oneline_chunk['S2_spin_orbit_tilt'])\n",
    "    \n",
    "    # added\n",
    "    df_transients = pd.concat([df_transients, formation_channels_chunk[['channel']]], axis=1)    \n",
    "    \n",
    "    return df_transients\n"
   ]
  },
  {
   "cell_type": "code",
   "execution_count": null,
   "metadata": {},
   "outputs": [],
   "source": [
    "# NOTE: the formation channels have to be given as a dataframe, as such we call it with loc[[0]] for testing\n",
    "BBH_selection_function(BBH_pop.history[0], BBH_pop.oneline[0], BBH_pop.formation_channels.loc[[0]])"
   ]
  },
  {
   "cell_type": "markdown",
   "metadata": {},
   "source": [
    "The example binary gives us a dataframe with all the information we're interested in. But if somehting is missing feel free to customize the selection further!\n",
    "\n",
    "We now create the transient population with the `BBH_selection_function`, we've created and `create_transient_population`.\n",
    "\n",
    "This will create a `TransientPopulation` instance and write the transient population to the current file.\n",
    "\n",
    "`BBH_mergers.population` will load the complete dataframe we've just created. Each of the indices in this population refer back to the original binaries, which are still accessible through `BBH_mergers.history` or `BBH_mergers.oneline`."
   ]
  },
  {
   "cell_type": "code",
   "execution_count": null,
   "metadata": {},
   "outputs": [],
   "source": [
    "BBH_mergers = BBH_pop.create_transient_population(BBH_selection_function, 'BBH')"
   ]
  },
  {
   "cell_type": "code",
   "execution_count": null,
   "metadata": {},
   "outputs": [],
   "source": [
    "BBH_mergers.population"
   ]
  },
  {
   "cell_type": "markdown",
   "metadata": {},
   "source": [
    "Since the TransienPopulation is stored in file, you can continue your analysis by opening the file using the `TransientPopulation` class.\n",
    "You only need to do your selection once."
   ]
  },
  {
   "cell_type": "code",
   "execution_count": null,
   "metadata": {},
   "outputs": [],
   "source": [
    "from posydon.popsyn.synthetic_population import TransientPopulation\n",
    "\n",
    "BBH_mergers = TransientPopulation(filename='BBH_contact.h5', transient_name='BBH')"
   ]
  },
  {
   "cell_type": "code",
   "execution_count": null,
   "metadata": {},
   "outputs": [],
   "source": [
    "BBH_mergers.mass_per_metallicity"
   ]
  },
  {
   "cell_type": "markdown",
   "metadata": {},
   "source": [
    "With `TransientPopulation` class you can compute the efficiency of the transient population at a given metallicity, i.e. the number of merging DCO per unit star formation and visualize the results."
   ]
  },
  {
   "cell_type": "code",
   "execution_count": null,
   "metadata": {},
   "outputs": [],
   "source": [
    "BBH_mergers.get_efficiency_over_metallicity()"
   ]
  },
  {
   "cell_type": "code",
   "execution_count": null,
   "metadata": {},
   "outputs": [],
   "source": [
    "# if you want to plot the channels, you can set channels=True\n",
    "BBH_mergers.plot_efficiency_over_metallicity(channels=True)"
   ]
  },
  {
   "cell_type": "markdown",
   "metadata": {},
   "source": [
    "You can also plot the delay time distribution based on the time columns in the TransientPopulation.\n"
   ]
  },
  {
   "cell_type": "code",
   "execution_count": null,
   "metadata": {},
   "outputs": [],
   "source": [
    "import matplotlib.pyplot as plt \n",
    "import numpy as np\n",
    "bins = np.logspace(6.5,10.5)\n",
    "BBH_mergers.plot_delay_time_distribution(bins=bins)\n",
    "# you can also set a specific metallicity. However, this normalises the rate with only the mass of the selected metallicity.\n",
    "BBH_mergers.plot_delay_time_distribution(metallicity=0.1, bins=bins)"
   ]
  },
  {
   "cell_type": "markdown",
   "metadata": {},
   "source": [
    "You  might also be interested in seeing the evolution of the binary in more detail.\n",
    "\n",
    "Therefore, you can plot the TransientPopulation over a grid slice.\n",
    "For example, below we plot binaries over the $q=0.7$ slice at $Z=10^{-4} Z_\\odot$ on the HMS-HMS grid.\n",
    "\n",
    "If no slice is give, all mass ratios are plotted.\n",
    "\n",
    "You can also plot a property from the TransientPopulation DataFrame as a colourmap.\n",
    "And specific formation_channels if they're in the DataFrame."
   ]
  },
  {
   "cell_type": "code",
   "execution_count": null,
   "metadata": {},
   "outputs": [],
   "source": [
    "BBH_mergers.plot_popsyn_over_grid_slice('HMS-HMS', 1e-4, slices=[0.7], save_fig=False)"
   ]
  },
  {
   "cell_type": "code",
   "execution_count": null,
   "metadata": {},
   "outputs": [],
   "source": [
    "BBH_mergers.plot_popsyn_over_grid_slice('HMS-HMS', 1e-4, slices=[0.7], prop='S1_spin', prop_range=[0,0.3], save_fig=False, channel='ZAMS_oRLO1_CC1_oRLO2_CC2_END') # SMT channel"
   ]
  },
  {
   "cell_type": "markdown",
   "metadata": {},
   "source": [
    "## Cosmic Rate\n",
    "\n",
    "So far these events do not consider the metallicity or star formation rate evolution of the Universe.\n",
    "\n",
    "POSYDON comes with several built-in star formation histories and metallicity evolutions, a few examples are:\n",
    "- IllustrisTNG\n",
    "- Neijssel2019\n",
    "- Madau+Fragos2017\n",
    "\n",
    "We can apply these to our population with the `calculate_cosmic_weights` function.\n",
    "Here, we will the metallicity and SFR evolution of the IllustrisTNG, which is the default model used, if no `MODEL_in` is given.\n",
    "\n",
    "The function returns an instance of the `Rates` class, which gives us access to some new variables:\n",
    "- `z_birth`: the redshift and age of the universe at which we probe the star formation\n",
    "- `z_events`: the redshift at which an event takes place\n",
    "- `weights`: the weight of the event based on the SFR, its metallicity, and its weight in the population."
   ]
  },
  {
   "cell_type": "code",
   "execution_count": null,
   "metadata": {},
   "outputs": [],
   "source": [
    "MODEL = {\n",
    "    'delta_t' : 100, # Myr\n",
    "    'SFR' : 'IllustrisTNG', # Neijssel2019, Madau+Fragos2017\n",
    "    'sigma_SFR' : None,\n",
    "    'Z_max' : 2.,\n",
    "}\n",
    "\n",
    "rates = BBH_mergers.calculate_cosmic_weights('IllustrisTNG', MODEL_in=MODEL)"
   ]
  },
  {
   "cell_type": "code",
   "execution_count": null,
   "metadata": {},
   "outputs": [],
   "source": [
    "rates.z_birth.head(2)"
   ]
  },
  {
   "cell_type": "code",
   "execution_count": null,
   "metadata": {},
   "outputs": [],
   "source": [
    "rates.z_events.head(2)"
   ]
  },
  {
   "cell_type": "code",
   "execution_count": null,
   "metadata": {},
   "outputs": [],
   "source": [
    "rates.weights.head(2)"
   ]
  },
  {
   "cell_type": "markdown",
   "metadata": {},
   "source": [
    "The rates can also be accessed using the `Rates` class. You will need to provide your transient_name and SFH_identifier.\n",
    "You can keep as many transients and SFHs in your file as you like."
   ]
  },
  {
   "cell_type": "code",
   "execution_count": null,
   "metadata": {},
   "outputs": [],
   "source": [
    "from posydon.popsyn.synthetic_population import Rates\n",
    "\n",
    "rates = Rates(filename='BBH_contact.h5', transient_name='BBH', SFH_identifier='IllustrisTNG')"
   ]
  },
  {
   "cell_type": "markdown",
   "metadata": {},
   "source": [
    "You can directly work with the weights and the z_events to get events at specific redshifts.\n",
    "\n",
    "Or you can calculate the rate density over redshift using the `calculate_intrinsic_rate_density` function.\n",
    "This will calculate the rate over redshift for you.\n",
    "\n",
    "You can use the output of the function immediately, or get them from `rates.intrinsic_rate_density`."
   ]
  },
  {
   "cell_type": "code",
   "execution_count": null,
   "metadata": {},
   "outputs": [],
   "source": [
    "out = rates.calculate_intrinsic_rate_density(mt_channels=True)"
   ]
  },
  {
   "cell_type": "code",
   "execution_count": null,
   "metadata": {},
   "outputs": [],
   "source": [
    "rates.intrinsic_rate_density"
   ]
  },
  {
   "cell_type": "code",
   "execution_count": null,
   "metadata": {},
   "outputs": [],
   "source": [
    "import matplotlib.pyplot as plt\n",
    "redshifts = out.index.to_numpy()\n",
    "plt.plot(redshifts, out['total'], label='total')\n",
    "for i in out.keys():\n",
    "    if i != 'total':\n",
    "        plt.plot(redshifts, out[i], label=i)\n",
    "plt.yscale('log')\n",
    "plt.xlim(0,10)\n",
    "plt.legend(bbox_to_anchor=(1.05, 0.5), loc='center left', borderaxespad=0.)\n",
    "plt.xlabel('Redshift')\n",
    "plt.ylabel('Rate density [Gpc$^-3$ yr$^-1$]')\n",
    "plt.ylim(1e-2, 1e3)\n",
    "plt.show()"
   ]
  },
  {
   "cell_type": "markdown",
   "metadata": {},
   "source": [
    "### Properties of the systems\n",
    "\n",
    "Sometime syou mgiht want some more details about the actual population, ant its properties.\n",
    "\n",
    "`plot_hist_properties()` allows you to plot these. "
   ]
  },
  {
   "cell_type": "code",
   "execution_count": null,
   "metadata": {},
   "outputs": [],
   "source": [
    "bins = np.linspace(0,100,101)\n",
    "fig, ax = plt.subplots(1,1)\n",
    "\n",
    "rates.plot_hist_properties('S1_mass', intrinsice=True, bins=bins, color='red', ax =ax, label='S1')\n",
    "rates.plot_hist_properties('S2_mass', intrinsice=True, bins=bins, ax=ax, label='S2')\n",
    "\n",
    "plt.ylabel('Rate density [Gpc$^-3$ yr$^-1$]')\n",
    "plt.xlabel('Mass [Msun]')\n",
    "plt.legend()\n",
    "plt.show()"
   ]
  },
  {
   "cell_type": "markdown",
   "metadata": {},
   "source": [
    "### observable population\n",
    "\n",
    "Sometimes, however, you're not just interested in the intrinsic population, and want an observable population.\n",
    "This could be SNe detection fraction for a telescope survey, or the LVK detection efficiency for GW mergers.\n",
    "\n",
    "You can apply these using the `calculate_observable_population`. Similar to the `create_transient_population`, this function takes a `observable_func`, which described the observability of a transient.\n",
    "\n",
    "An `observable_func` takes chunks of\n",
    "1. TransientPopulation\n",
    "2. The z_events\n",
    "3. The weights\n",
    "\n",
    "Using these, new weights are calculated.\n",
    "The BBH analysis comes with a detection function for several different detector sensitivities and configurations."
   ]
  },
  {
   "cell_type": "code",
   "execution_count": null,
   "metadata": {},
   "outputs": [],
   "source": [
    "from posydon.popsyn.transient_select_funcs import DCO_detactability"
   ]
  },
  {
   "cell_type": "code",
   "execution_count": null,
   "metadata": {},
   "outputs": [],
   "source": [
    "def DCO_wrapper(transient_chunk, z_events_chunk, weights_chunk):\n",
    "    sensitivity = 'design_H1L1V1'\n",
    "    return DCO_detactability(sensitivity, transient_chunk, z_events_chunk, weights_chunk, verbose=False)"
   ]
  },
  {
   "cell_type": "code",
   "execution_count": null,
   "metadata": {},
   "outputs": [],
   "source": [
    "# We also give it a name, which is used as an identifier in the file\n",
    "rates.calculate_observable_population(DCO_wrapper, 'design_H1L1V1')"
   ]
  },
  {
   "cell_type": "code",
   "execution_count": null,
   "metadata": {},
   "outputs": [],
   "source": [
    "# We can now access this observable population\n",
    "rates.observable_population('design_H1L1V1')"
   ]
  },
  {
   "cell_type": "markdown",
   "metadata": {},
   "source": [
    "You can also plot the intrinsic and observable population together."
   ]
  },
  {
   "cell_type": "code",
   "execution_count": null,
   "metadata": {},
   "outputs": [],
   "source": [
    "bins = np.linspace(0,100,101)\n",
    "fig, ax = plt.subplots(1,1)\n",
    "\n",
    "rates.plot_hist_properties('S1_mass', intrinsice=True, observable='design_H1L1V1', bins=bins, ax =ax, label='S1')\n",
    "plt.ylabel('Rate density [Gpc$^-3$ yr$^-1$]')\n",
    "plt.xlabel('Mass [Msun]') \n",
    "plt.legend()\n",
    "plt.show()"
   ]
  },
  {
   "cell_type": "markdown",
   "metadata": {},
   "source": [
    "Cogratulations, you are now ready to analyze any DCO population data you generated with POSYDON. Feel free to further explore the BBH model or to use this tutorial to study other populations.\n",
    "The next tutorials show you how to [select GRBs](), perform a [SFH calculation at a single metallicity](), and [how to run an individual binary]()."
   ]
  },
  {
   "cell_type": "markdown",
   "metadata": {},
   "source": []
  }
 ],
 "metadata": {
  "kernelspec": {
   "display_name": "posydon_env",
   "language": "python",
   "name": "python3"
  },
  "language_info": {
   "codemirror_mode": {
    "name": "ipython",
    "version": 3
   },
   "file_extension": ".py",
   "mimetype": "text/x-python",
   "name": "python",
   "nbconvert_exporter": "python",
   "pygments_lexer": "ipython3",
   "version": "3.11.5"
  },
  "orig_nbformat": 4
 },
 "nbformat": 4,
 "nbformat_minor": 2
}
