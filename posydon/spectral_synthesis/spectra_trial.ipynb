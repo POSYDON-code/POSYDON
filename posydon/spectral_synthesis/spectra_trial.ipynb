{
 "cells": [
  {
   "cell_type": "code",
   "execution_count": 1,
   "metadata": {},
   "outputs": [
    {
     "name": "stdout",
     "output_type": "stream",
     "text": [
      "19\n",
      "/home/kasdaglie/blue/kasdaglie/msg-1.2\n"
     ]
    }
   ],
   "source": [
    "import sys\n",
    "import sys\n",
    "import posydon\n",
    "import os\n",
    "import numpy as np\n",
    "import astropy.constants as con\n",
    "import astropy.units as unt\n",
    "import matplotlib.pyplot as plt\n",
    "import h5py\n",
    "from astropy.io import fits\n",
    "import pandas as pd\n",
    "import math\n",
    "import datetime\n",
    "import matplotlib.patches as mpatches\n",
    "import traceback\n",
    "import copy\n",
    "from generate_spectra import population_spectra\n",
    "# Set paths & import pymsg\n",
    "##########################################################\n",
    "#MSG_DIR = '/home/kasdaglie/blue/kasdaglie/msg-1.2'\n",
    "os.environ['MSG_DIR'] = '/home/kasdaglie/blue/kasdaglie/msg-1.2'\n",
    "\n",
    "##########################################################\n",
    "MSG_DIR = os.environ['MSG_DIR']\n",
    "print(MSG_DIR)\n",
    "sys.path.insert(0, os.path.join(MSG_DIR, 'python'))\n",
    "import pymsg\n",
    "\n",
    "# Set plot parameters\n",
    "\n",
    "%matplotlib inline\n",
    "plt.rcParams.update({'font.size': 16})\n",
    "#\n",
    "original_stdout = sys.stdout"
   ]
  },
  {
   "cell_type": "code",
   "execution_count": 3,
   "metadata": {},
   "outputs": [],
   "source": [
    "history01 = pd.read_hdf(\"/home/kasdaglie/blue/kasdaglie/populations_data/metallicity_0.1.h5\", key='history')\n",
    "online01 = pd.read_hdf(\"/home/kasdaglie/blue/kasdaglie/populations_data/metallicity_0.1.h5\", key='history')\n",
    "last_binary_line01 = history01[history01.event == 'END']\n",
    "first_binary_line01 = history01[history01.event == 'ZAMS']"
   ]
  },
  {
   "cell_type": "code",
   "execution_count": 2,
   "metadata": {},
   "outputs": [],
   "source": [
    "history1 = pd.read_hdf(\"/home/kasdaglie/blue/kasdaglie/populations_data/metallicity_1.h5\", key='history')\n",
    "online1 = pd.read_hdf(\"/home/kasdaglie/blue/kasdaglie/populations_data/metallicity_1.h5\", key='history')\n",
    "last_binary_line1 = history1[history1.event == 'END']\n",
    "first_binary_line1 = history1[history1.event == 'ZAMS']"
   ]
  },
  {
   "cell_type": "code",
   "execution_count": 4,
   "metadata": {},
   "outputs": [],
   "source": [
    "history001 = pd.read_hdf(\"/home/kasdaglie/blue/kasdaglie/populations_data/metallicity_0.01.h5\", key='history')\n",
    "online001 = pd.read_hdf(\"/home/kasdaglie/blue/kasdaglie/populations_data/metallicity_0.01.h5\", key='history')\n",
    "last_binary_line001 = history001[history001.event == 'END']\n",
    "first_binary_line001 = history001[history001.event == 'ZAMS']"
   ]
  },
  {
   "cell_type": "code",
   "execution_count": 14,
   "metadata": {},
   "outputs": [],
   "source": [
    "oneline50 = pd.read_hdf(\"/home/kasdaglie/blue/kasdaglie/populations_data/population_steps_time_50.h5\", key='oneline')\n",
    "history50 = pd.read_hdf(\"/home/kasdaglie/blue/kasdaglie/populations_data/population_steps_time_50.h5\", key='history')\n",
    "first_binary_line50 = history50[history50.event == 'ZAMS']\n",
    "last_binary_line50 = history50[history50.event == 'END']\n"
   ]
  },
  {
   "cell_type": "code",
   "execution_count": 5,
   "metadata": {},
   "outputs": [
    {
     "name": "stdout",
     "output_type": "stream",
     "text": [
      "C3K Grid parameters:\n",
      "  Teff [3500.0 -> 30000.0]\n",
      "  [Fe/H] [-5.0 -> 0.5]\n",
      "  log(g) [0.0 -> 5.0]\n",
      "  lam [1299.9747946207876 -> 65002.50442467493]\n",
      "Bstar Grid parameters:\n",
      "  Teff [15000.0 -> 30000.0]\n",
      "  Z/Zo [0.0 -> 2.0]\n",
      "  log(g) [1.75 -> 4.75]\n",
      "  lam [879.9999999999998 -> 50012.182637023885]\n",
      "Stripped Grid parameters:\n",
      "  M_init [2.0 -> 18.17]\n",
      "  Z [0.002 -> 0.14]\n",
      "  lam [60.9851150264 -> 1695816.96256]\n",
      "Ostar Grid parameters:\n",
      "  Teff [27500.0 -> 55000.0]\n",
      "  Z/Zo [0.0 -> 2.0]\n",
      "  log(g) [3.0 -> 4.75]\n",
      "  lam [879.9999999999998 -> 50012.182637023885]\n"
     ]
    }
   ],
   "source": [
    "# Load the SpecGrid\n",
    "GRID_DIR = os.path.join(MSG_DIR, 'data', 'grids')\n",
    "\n",
    "def spec_grid(name):\n",
    "    specgrid_file_normal = os.path.join(GRID_DIR, name)\n",
    "    return pymsg.SpecGrid(specgrid_file_normal)\n",
    "\n",
    "\n",
    "specgrid = spec_grid('sg-CAP18-coarse.h5')\n",
    "specgrid1 = spec_grid('sg-BSTAR2006-medium.h5')\n",
    "specgrid2 = spec_grid('sg-Gotberg18.h5')\n",
    "specgrid3 = spec_grid('sg-OSTAR2002-medium.h5')\n",
    "#specgrid0 = spec_grid('sg-C3K-coarse.h5')\n",
    "# Inspect grid parameters and setting min and max for each\n",
    "#Normal stars grid \n",
    "print('C3K Grid parameters:')\n",
    "\"\"\"\n",
    "for label in specgrid_0.axis_labels:\n",
    "    print(f'  {label} [{specgrid_0.axis_x_min[label]} -> {specgrid_0.axis_x_max[label]}]')\n",
    "print(f'  lam [{specgrid_0.lam_min} -> {specgrid_0.lam_max}]')\n",
    "print('CAP Normal Grid parameters:')\n",
    "\"\"\"\n",
    "\n",
    "for label in specgrid.axis_labels:\n",
    "    print(f'  {label} [{specgrid.axis_x_min[label]} -> {specgrid.axis_x_max[label]}]')\n",
    "print(f'  lam [{specgrid.lam_min} -> {specgrid.lam_max}]')\n",
    "print('Bstar Grid parameters:')\n",
    "\n",
    "for label in specgrid1.axis_labels:\n",
    "    print(f'  {label} [{specgrid1.axis_x_min[label]} -> {specgrid1.axis_x_max[label]}]')\n",
    "print(f'  lam [{specgrid1.lam_min} -> {specgrid1.lam_max}]')\n",
    "#Stripped stars grid\n",
    "print('Stripped Grid parameters:')\n",
    "for label in specgrid2.axis_labels:\n",
    "    print(f'  {label} [{specgrid2.axis_x_min[label]} -> {specgrid2.axis_x_max[label]}]')\n",
    "print(f'  lam [{specgrid2.lam_min} -> {specgrid2.lam_max}]')\n",
    "print('Ostar Grid parameters:')\n",
    "for label in specgrid3.axis_labels:\n",
    "    print(f'  {label} [{specgrid3.axis_x_min[label]} -> {specgrid3.axis_x_max[label]}]')\n",
    "print(f'  lam [{specgrid3.lam_min} -> {specgrid3.lam_max}]')\n",
    "\n",
    "min_Teff = specgrid.axis_x_min['Teff']\n",
    "max_Teff = specgrid3.axis_x_max['Teff']\n",
    "\n",
    "min_Fe_H = specgrid.axis_x_min['[Fe/H]']\n",
    "max_Fe_H = specgrid.axis_x_max['[Fe/H]']\n",
    "\n",
    "min_logg = specgrid.axis_x_min['log(g)']\n",
    "max_logg = specgrid.axis_x_max['log(g)']\n",
    "\n",
    "#Setting up the wavelength parameters\n",
    "lam_min = 3000.\n",
    "lam_max = 7000.\n",
    "\n",
    "lam = np.linspace(lam_min, lam_max, 2000)\n",
    "\n",
    "lam_c = 0.5*(lam[1:] + lam[:-1])\n",
    "\n",
    "F_empty = np.zeros((len(lam_c)))*unt.m/unt.m*0\n",
    "kpc = 3.08e19*unt.m"
   ]
  },
  {
   "cell_type": "code",
   "execution_count": 6,
   "metadata": {},
   "outputs": [],
   "source": [
    "#Creating arrays for the failed binaries that give rise to failed binaries\n",
    "#Could make this a function that takes a file or table as data and then creating my arrays \n",
    "def array_data(N,last_binary_line,first_binary_line):\n",
    "    total_binaries = N\n",
    "    mass_arr = np.zeros((total_binaries,2))\n",
    "    radius_arr = np.zeros((total_binaries,2))\n",
    "    L_arr = np.zeros((total_binaries,2))\n",
    "    state_arr = np.zeros((total_binaries,2),dtype=object)\n",
    "\n",
    "    for i in range(N):\n",
    "        try:\n",
    "            mass_arr[i][:] = np.array([ last_binary_line.S1_mass[i], last_binary_line.S2_mass[i]])\n",
    "            radius_arr[i][:] = np.array([ 10**last_binary_line.S1_log_R[i], 10**last_binary_line.S2_log_R[i]])\n",
    "            L_arr[i][:] = np.array([ 10**last_binary_line.S1_log_L[i], 10**last_binary_line.S2_log_L[i]])\n",
    "            state_arr[i][:] = np.array([ str(last_binary_line.S1_state[i]), str(last_binary_line.S2_state[i])])\n",
    "        except:\n",
    "            mass_arr[i][:] = np.array(None,None)\n",
    "            radius_arr[i][:] = np.array(None,None)\n",
    "            L_arr[i][:] =  np.array(None,None)\n",
    "            state_arr[i][:] = np.array([\"Failed\",\"Failed\"])\n",
    "        finally:\n",
    "            if \"stripped\" in state_arr[i][0]:\n",
    "                mass_arr[i][0] = first_binary_line.S1_mass[i]\n",
    "            elif \"stripped\" in state_arr[i][1]:\n",
    "                mass_arr[i][1] = first_binary_line.S2_mass[i]\n",
    "    return mass_arr,radius_arr,L_arr,state_arr\n",
    "\n",
    "\n"
   ]
  },
  {
   "cell_type": "code",
   "execution_count": 7,
   "metadata": {},
   "outputs": [],
   "source": [
    "#Function for getting the mass,radius and luminosity of stars in binaries \n",
    "#Binary star refers to the binary in the population and is a float\n",
    "#Star_number is a string and takes the arguments: \"star_1\" and \"star_2\" refers to the different stars in a binary\n",
    "\n",
    "def star_mass(binary_number,star_number):\n",
    "    star_mass = 0 \n",
    "    #star_mass = grid[binary_number].final_values[\"star_\"+ star_number +\"_mass\"]\n",
    "    if star_number == 1:\n",
    "        star_mass = mass_arr[binary_number,0]\n",
    "    elif star_number == 2:\n",
    "        star_mass = mass_arr[binary_number,1]\n",
    "    return star_mass\n",
    "    \n",
    "\n",
    "def star_radius(binary_number,star_number):\n",
    "    star_radius = 0\n",
    "    #star_radius = 10**(grid[binary_number].final_values[\"S\"+star_number+\"_log_R\"])\n",
    "    if star_number == 1:\n",
    "        star_radius = radius_arr[binary_number,0]\n",
    "    elif star_number == 2:\n",
    "        star_radius = radius_arr[binary_number,1]\n",
    "    return star_radius\n",
    "\n",
    "\n",
    "def star_L(binary_number,star_number):\n",
    "    star_L = 0 \n",
    "    if star_number == 1:\n",
    "        star_L = L_arr[binary_number,0]\n",
    "    elif star_number == 2:\n",
    "        star_L = L_arr[binary_number,1]\n",
    "    return star_L\n",
    "    #star_L= 10**(grid[binary_number].final_values[\"S\"+star_number+\"_log_L\"])\n",
    "\n",
    "def star_state(binary_number,star_number):\n",
    "    star_state = None \n",
    "    if star_number == 1:\n",
    "        star_state = state_arr[binary_number,0]\n",
    "    elif star_number == 2:\n",
    "        star_state = state_arr[binary_number,1]\n",
    "            #star_state = grid[binary_number].final_values[\"S\"+star_number+\"_state\"]\n",
    "    return star_state\n",
    "\n",
    "def create_Teff(binary_number,star_number):\n",
    "    M = star_mass(binary_number,star_number) *con.M_sun\n",
    "    R = star_radius(binary_number,star_number) * con.R_sun\n",
    "    L = star_L(binary_number,star_number) * con.L_sun\n",
    "    Teff = (L/(4*np.pi*R**2*con.sigma_sb))**0.25/unt.K\n",
    "    return Teff\n",
    "\n",
    "def create_logg(binary_number,star_number):\n",
    "    M = star_mass(binary_number,star_number) *con.M_sun\n",
    "    R = star_radius(binary_number,star_number) * con.R_sun\n",
    "    L = star_L(binary_number,star_number) * con.L_sun\n",
    "    logg = np.log10(con.G*M/R**2/(unt.cm/unt.s**2))\n",
    "    return logg"
   ]
  },
  {
   "cell_type": "code",
   "execution_count": 8,
   "metadata": {},
   "outputs": [],
   "source": [
    "###Creating the star class/object\n",
    "class star():\n",
    "    \n",
    "    def __init__(self,binary_number,number):\n",
    "        self.binary_number = binary_number\n",
    "        self.number = number\n",
    "        self.mass = star_mass(binary_number,number)*con.M_sun\n",
    "        self.state = star_state(binary_number,number)\n",
    "        self.R = star_radius(binary_number,number)*con.R_sun\n",
    "        self.L = star_L(binary_number,number)*con.L_sun\n",
    "        self.logg = None\n",
    "        self.Teff = None\n",
    "        self.Fe_H = None\n",
    "    \n",
    "    \n",
    "    def get_mass(self):\n",
    "        return self.mass\n",
    "    \n",
    "    def get_logg(self): \n",
    "        self.logg = np.log10(con.G*self.mass/self.R**2/(unt.cm/unt.s**2))\n",
    "        if self.logg < max_logg and self.logg > min_logg:\n",
    "            return self.logg\n",
    "        else:\n",
    "            return None\n",
    "    \n",
    "    def get_Teff(self):\n",
    "        self.Teff = (self.L/(4*np.pi*self.R**2*con.sigma_sb))**0.25/unt.K\n",
    "        if self.Teff < max_Teff and self.Teff > min_Teff:\n",
    "            return self.Teff\n",
    "        else:\n",
    "            return None\n",
    "        \n",
    "    def set_metallicity(self,new_Fe_H):\n",
    "        if new_Fe_H < max_Fe_H and new_Fe_H > min_Fe_H:\n",
    "            self.Fe_H = new_Fe_H\n",
    "        else: \n",
    "            raise TypeError\n",
    "    #This is for the stars that we can't calculate their spectra so we change their logg and thus we need a new radius for them and we set and return. \n",
    "    def new_radius(self,new_logg):\n",
    "\n",
    "        R = np.sqrt(con.G*self.mass/10**(new_logg)/unt.cm *unt.s**2).decompose()\n",
    "        return R\n",
    "\n",
    "        "
   ]
  },
  {
   "cell_type": "code",
   "execution_count": 26,
   "metadata": {},
   "outputs": [],
   "source": [
    "last_binary_line = last_binary_line01\n",
    "first_binary_line = last_binary_line01\n",
    "mass_arr,radius_arr,L_arr,state_arr = array_data(100000,last_binary_line,first_binary_line)"
   ]
  },
  {
   "cell_type": "code",
   "execution_count": 9,
   "metadata": {},
   "outputs": [],
   "source": [
    "def CAP18_grid(Teff,logg,star):\n",
    "    x = {'Teff':Teff ,'log(g)': logg,'[Fe/H]': 0}\n",
    "    F_not = specgrid.flux(x, lam)\n",
    "    F_lam = np.asarray(F_not)\n",
    "    return F_lam*star.R**2*kpc**-2 \n",
    "\n",
    "def C3K_grid(Teff,logg,star):\n",
    "    x = {'Teff':Teff ,'log(g)': logg,'[Fe/H]': 0,'[alpha/Fe]': 0}\n",
    "    F_not = specgrid0.flux(x, lam)\n",
    "    F_lam = np.asarray(F_not)\n",
    "    return F_lam*star.R**2*kpc**-2 \n",
    "\n",
    "def BSTAR2006(Teff,logg,star,Z_Zo = 1):\n",
    "    x = {'Teff':Teff ,'log(g)': logg,'Z/Zo':Z_Zo}\n",
    "    F_not = specgrid1.flux(x, lam)\n",
    "    F_lam = np.asarray(F_not)\n",
    "    stars_run.append(star.get_logg(),star.get_Teff())\n",
    "    return F_lam*star.R**2*kpc**-2 "
   ]
  },
  {
   "cell_type": "code",
   "execution_count": 10,
   "metadata": {},
   "outputs": [],
   "source": [
    "def create_stripped_spectrum_single(star, **kwargs):\n",
    "    global failedstar\n",
    "    create_stripped_spectrum_single = F_empty*0\n",
    "    star.set_metallicity(0.0142)\n",
    "    Z = star.Fe_H\n",
    "    M = star.mass/con.M_sun\n",
    "    if M>2.0 and M<18.17:\n",
    "        stripped_stars_run_logg.append(star.get_logg())\n",
    "        stripped_stars_run_Teff.append(star.get_Teff())\n",
    "        x = {'M_init':M,'Z': Z}\n",
    "        F_not = specgrid2.flux(x, lam)\n",
    "        F_lam = np.asarray(F_not)\n",
    "        return F_lam\n",
    "    stripped_stars_failed_run_logg.append(star.get_logg())\n",
    "    stripped_stars_failed_run_Teff.append(star.get_Teff())\n",
    "    failedstar +=1\n",
    "    return F_empty*0\n",
    "    \n",
    "def create_ostar_spectra(star, **kwargs):\n",
    "    global failedstar\n",
    "    global stars_run_logg,stars_run_Teff,stars_fails_logg, stars_fails_Teff,stars_fail_grids_logg,stars_fail_grids_Teff\n",
    "    Z_Zo = 1\n",
    "    Teff = star.get_Teff()\n",
    "    logg = star.get_logg()\n",
    "    if logg > 3 and logg < 4.75:\n",
    "        try:\n",
    "            x = {'Teff':Teff ,'log(g)': logg,'Z/Zo':Z_Zo}\n",
    "            F_not = specgrid3.flux(x, lam)\n",
    "            F_lam = np.asarray(F_not)\n",
    "            #stars_run.append(star.get_logg(),star.get_Teff())\n",
    "            stars_run_logg.append(star.get_logg())\n",
    "            stars_run_Teff.append(star.get_Teff())\n",
    "            return F_lam*star.R**2*kpc**-2 \n",
    "        except  Exception as e:\n",
    "            if Teff <30000:\n",
    "                try:\n",
    "                    F = CAP18_grid(Teff,logg,star)\n",
    "                    return F\n",
    "                except:\n",
    "                    stars_fail_grids_logg.append(star.get_logg())\n",
    "                    stars_fail_grids_Teff.append(star.get_Teff()) \n",
    "                    failedstar +=1 \n",
    "            #stars_grid_fail.append(star.get_logg(),star.get_Teff())\n",
    "            return F_empty*0  \n",
    "        #stars_fail.append(star.get_logg(),star.get_Teff())  \n",
    "    stars_fails_logg.append(star.get_logg())\n",
    "    stars_fails_Teff.append(star.get_Teff())  \n",
    "    failedstar +=1\n",
    "    return F_empty*0  \n",
    "\n"
   ]
  },
  {
   "cell_type": "code",
   "execution_count": 11,
   "metadata": {},
   "outputs": [],
   "source": [
    "F_empty = F_empty*0\n",
    "kpc = 3.08e19*unt.m\n",
    "failstarnan = 0 \n",
    "failedstar=0\n",
    "stars_run_logg = []\n",
    "stars_run_Teff = []\n",
    "stars_fails_logg = []\n",
    "stars_fail_grids_Teff = []\n",
    "stars_fail_grids_logg = []\n",
    "stars_fails_Teff = []\n",
    "stars_grid_fail = []\n",
    "stripped_stars_run_logg = []\n",
    "stripped_stars_run_Teff = []\n",
    "stripped_stars_failed_run_logg = []\n",
    "stripped_stars_failed_run_Teff = []\n",
    "def new_create_spectrum_single(star,binary_number,**kwargs):\n",
    "    global failedstar, failstarnan, stripped_stars_failed_run_logg, stripped_stars_failed_run_Teff, stripped_stars_run_logg, stripped_stars_run_Teff \n",
    "\n",
    "    #stripped_stars_failed_run = []\n",
    "    #Creating a function that will give the stripped stars \n",
    "    #global bin_num\n",
    "    #bin_num = binary_number\n",
    "    new_create_spectrum_single = F_empty\n",
    "    \n",
    "    if \"stripped\" in star.state:\n",
    "        return create_stripped_spectrum_single(star)\n",
    "    \n",
    "    star.set_metallicity(0)\n",
    "    Fe_H = star.Fe_H\n",
    "    Teff = star.get_Teff()\n",
    "    logg = copy.copy(star.get_logg())\n",
    "    \n",
    "    #Checking if the stars have the required parameters. \n",
    "    if Teff == None or logg == None:\n",
    "        if create_logg(binary_number,1) > 5 or create_Teff(binary_number,1) > max_Teff or create_Teff(binary_number,1)<min_Teff:\n",
    "            failedstar+=1\n",
    "            #stars_fail.append(create_logg(binary_number,1),create_Teff(binary_number,1))\n",
    "            stars_fails_logg.append(create_logg(binary_number,1))\n",
    "            stars_fails_Teff.append(create_Teff(binary_number,1))\n",
    "        elif create_logg(binary_number,2) > 5 or create_Teff(binary_number,2) > max_Teff or create_Teff(binary_number,2) < min_Teff:\n",
    "            failedstar+=1\n",
    "            #stars_fail.append(create_logg(binary_number,2),create_Teff(binary_number,2))\n",
    "            stars_fails_logg.append(create_logg(binary_number,2))\n",
    "            stars_fails_Teff.append(create_Teff(binary_number,2))\n",
    "        else:\n",
    "            failstarnan +=1\n",
    "        return F_empty*0\n",
    "    \n",
    "    \n",
    "    if Teff > 30000:\n",
    "        return create_ostar_spectra(star)\n",
    "    try:\n",
    "        Flux = CAP18_grid(Teff,logg,star)\n",
    "        stars_run_logg.append(star.get_logg())\n",
    "        stars_run_Teff.append(star.get_Teff())              \n",
    "        return Flux\n",
    "    except Exception as e:\n",
    "        try:\n",
    "            if Teff>15000.0 and logg > 1.75:\n",
    "                F=  BSTAR2006(Teff,logg,star)\n",
    "                stars_run_logg.append(star.get_logg())\n",
    "                stars_run_Teff.append(star.get_Teff())\n",
    "                return F\n",
    "        finally:\n",
    "        # If and else statements that fix the grid voids.         \n",
    "            if Teff > 20000:\n",
    "                logg = max(logg, 4.0)\n",
    "            elif Teff > 12000:\n",
    "                logg = max(logg, 3.0)\n",
    "            elif Teff > 8000:\n",
    "                logg = max(logg, 2.0)\n",
    "            elif Teff > 6000:\n",
    "                logg = max(logg, 1.0)\n",
    "            try:\n",
    "                F = CAP18_grid(Teff,logg,star)\n",
    "                #stars_run.append(star.get_logg(),star.get_Teff())\n",
    "                stars_run_logg.append(star.get_logg())\n",
    "                stars_run_Teff.append(star.get_Teff())\n",
    "                return F \n",
    "                #return F*np.exp(logg/star.get_logg())\n",
    "            except Exception as e: \n",
    "                try:\n",
    "                    F = CAP18_grid(Teff,logg,star)\n",
    "                    stars_run_logg.append(star.get_logg())\n",
    "                    stars_run_Teff.append(star.get_Teff())              \n",
    "                    return F\n",
    "                    #print('second CAP failed')\n",
    "                    #print(e)\n",
    "                except:\n",
    "                    stars_fail_grids_logg.append(star.get_logg())\n",
    "                    stars_fail_grids_Teff.append(star.get_Teff())\n",
    "                    #stars_grid_fail.append(star.get_logg(),star.get_Teff())\n",
    "                    failedstar +=1\n",
    "                    return F_empty*0  \n",
    "\n",
    "        \n",
    "def new_add_spectra(spectrum_1,spectrum_2):\n",
    "    return spectrum_1 + spectrum_2\n",
    "    \n",
    "def new_create_spectrum_binary(binary_number):\n",
    "    # check if binary has two non-degenerate stars\n",
    "    star1 = star(binary_number,1)\n",
    "    star2 = star(binary_number,2)\n",
    "    if star1.state not in ['NS','BH','Failed']:\n",
    "        spectrum_1 = new_create_spectrum_single(star1,binary_number)\n",
    "    else:\n",
    "        spectrum_1 = F_empty*0\n",
    "    \n",
    "    if star2.state not in ['NS','BH','Failed']:\n",
    "        spectrum_2 = new_create_spectrum_single(star2,binary_number)\n",
    "    else: \n",
    "        spectrum_2 =F_empty*0    \n",
    "    return new_add_spectra(spectrum_1, spectrum_2)\n",
    "\n",
    "        \n",
    "def new_create_spectrum_population(total_binary_number):\n",
    "    create_spectrum_population = F_empty*0\n",
    "    failed_binaries = 0\n",
    "    for binary_number in range(0,total_binary_number+1):\n",
    "        create_spectrum_population += new_create_spectrum_binary(binary_number)\n",
    "    print(failedstar)\n",
    "    return create_spectrum_population\n"
   ]
  },
  {
   "cell_type": "code",
   "execution_count": 12,
   "metadata": {},
   "outputs": [],
   "source": [
    "last_binary_line = last_binary_line1\n",
    "first_binary_line = first_binary_line1\n",
    "mass_arr,radius_arr,L_arr,state_arr = array_data(100000,last_binary_line,first_binary_line)"
   ]
  },
  {
   "cell_type": "code",
   "execution_count": 13,
   "metadata": {
    "scrolled": true
   },
   "outputs": [
    {
     "name": "stdout",
     "output_type": "stream",
     "text": [
      "2\n",
      "Execution time:  0:00:01.326508 seconds\n"
     ]
    }
   ],
   "source": [
    "####LookupError: unavailable data so make an Exception about that \n",
    "st = datetime.datetime.now()\n",
    "spectra1 = new_create_spectrum_population(100)\n",
    "et = datetime.datetime.now()\n",
    "elapsed_time = et - st \n",
    "print('Execution time: ', elapsed_time, 'seconds')"
   ]
  },
  {
   "cell_type": "code",
   "execution_count": 15,
   "metadata": {},
   "outputs": [
    {
     "data": {
      "text/plain": [
       "[<matplotlib.lines.Line2D at 0x2add548f5120>]"
      ]
     },
     "execution_count": 15,
     "metadata": {},
     "output_type": "execute_result"
    },
    {
     "data": {
      "image/png": "[encoded data removed]",
      "text/plain": [
       "<Figure size 640x480 with 1 Axes>"
      ]
     },
     "metadata": {},
     "output_type": "display_data"
    }
   ],
   "source": [
    "plt.plot(lam_c,spectra1)"
   ]
  },
  {
   "cell_type": "code",
   "execution_count": 16,
   "metadata": {
    "scrolled": true
   },
   "outputs": [
    {
     "data": {
      "image/png": "[encoded data removed]",
      "text/plain": [
       "<Figure size 600x600 with 1 Axes>"
      ]
     },
     "metadata": {},
     "output_type": "display_data"
    }
   ],
   "source": [
    "global failedstar, failstarnan, stripped_stars_failed_run_logg, stripped_stars_failed_run_Teff, stripped_stars_run_logg, stripped_stars_run_Teff \n",
    "global stars_run_logg,stars_run_Teff,stars_fails_logg, stars_fails_Teff,stars_fail_grids_logg,stars_fail_grids_Teff\n",
    "plt.rcParams[\"figure.figsize\"] = (6,6)\n",
    "plt.scatter(stripped_stars_run_logg,stripped_stars_run_Teff,label = 'Successful stripped')\n",
    "plt.scatter(stars_run_logg ,stars_run_Teff,label ='Successful',marker = '.')\n",
    "\n",
    "plt.scatter(stripped_stars_failed_run_logg,stripped_stars_failed_run_Teff,label= 'Failed stripped')\n",
    "plt.scatter(stars_fails_logg,stars_fails_Teff,label = 'Outside of grid')\n",
    "plt.scatter(stars_fail_grids_logg,stars_fail_grids_Teff,label = 'Void in grid fails',marker = \".\")\n",
    "\n",
    "plt.ylabel(\"Log(Teff)\",fontweight ='bold', size=14)\n",
    "plt.xlabel(\"Log(g)\", fontweight ='bold',size=14)\n",
    "left, bottom, width, height = (min_logg, min_Teff, 6.5, 46000-min_Teff)\n",
    "left1, bottom1, width1, height1 = (3.0, 27500.0, 4.75,27500.0 )\n",
    "rect=mpatches.Rectangle((left,bottom),width,height, \n",
    "                        fill=False,\n",
    "                        color=\"red\",\n",
    "                       linewidth=2,label =\"CAP18\" )\n",
    "rect1=mpatches.Rectangle((left1,bottom1),width1,height1, \n",
    "                        fill=False,\n",
    "                        color=\"blue\",\n",
    "                       linewidth=2,label='OSTAR2002')\n",
    "                       #facecolor=\"red\")\n",
    "plt.gca().add_patch(rect)\n",
    "plt.gca().add_patch(rect1)\n",
    "plt.legend(bbox_to_anchor=(1.04, 0.5), loc=\"center left\", borderaxespad=0)\n",
    "plt.yscale('log')\n",
    "plt.title('Metallicity:1')\n",
    "plt.show()"
   ]
  },
  {
   "cell_type": "code",
   "execution_count": 21,
   "metadata": {},
   "outputs": [
    {
     "data": {
      "image/png": "[encoded data removed]",
      "text/plain": [
       "<Figure size 600x600 with 1 Axes>"
      ]
     },
     "metadata": {},
     "output_type": "display_data"
    }
   ],
   "source": [
    "\n",
    "plt.scatter(stripped_stars_run_Teff,stripped_stars_run_logg,label = 'Successful stripped')\n",
    "plt.scatter(stars_run_Teff ,stars_run_logg,label ='Successful',marker = '.')\n",
    "#plt.scatter(stars_run1_Teff ,stars_run1_logg,label ='Successful',marker = '.')\n",
    "plt.scatter(stripped_stars_failed_run_Teff,stripped_stars_failed_run_logg,label= 'Failed stripped')\n",
    "plt.scatter(stars_fails_Teff,stars_fails_logg,label = 'Outside of the grid')\n",
    "plt.scatter(stars_fail_grids_Teff,stars_fail_grids_logg,label = 'Void in grid fails',marker = \".\")\n",
    "plt.ylabel(\"Log(g)\",fontweight ='bold', size=14)\n",
    "plt.xlabel(\"Teff\", fontweight ='bold',size=14)\n",
    "left, bottom, width, height = ( 3500.0,-1 , 26500.0,6.5)\n",
    "left1, bottom1, width1, height1 = (27500.0, 3.0,27500.0 ,4.75)\n",
    "rect=mpatches.Rectangle((left,bottom),width,height, \n",
    "                        fill=False,\n",
    "                        color=\"red\",\n",
    "                       linewidth=2,label=\"CAP18\")\n",
    "rect1=mpatches.Rectangle((left1,bottom1),width1,height1, \n",
    "                        fill=False,\n",
    "                        color=\"blue\",\n",
    "                       linewidth=2,label='OSTAR2002')\n",
    "plt.gca().add_patch(rect)\n",
    "plt.gca().add_patch(rect1)\n",
    "plt.legend(bbox_to_anchor=(1.04, 0.5), loc=\"center left\", borderaxespad=0)\n",
    "plt.show()\n"
   ]
  },
  {
   "cell_type": "code",
   "execution_count": 22,
   "metadata": {
    "scrolled": true
   },
   "outputs": [
    {
     "ename": "NameError",
     "evalue": "name 'spectra01' is not defined",
     "output_type": "error",
     "traceback": [
      "\u001b[0;31m---------------------------------------------------------------------------\u001b[0m",
      "\u001b[0;31mNameError\u001b[0m                                 Traceback (most recent call last)",
      "Cell \u001b[0;32mIn [22], line 5\u001b[0m\n\u001b[1;32m      1\u001b[0m \u001b[38;5;66;03m#plt.plot(lam_c,new_create_spelctrum_population(90))\u001b[39;00m\n\u001b[1;32m      2\u001b[0m \n\u001b[1;32m      3\u001b[0m \u001b[38;5;66;03m#plt.plot(lam_c,spectra10,label = '10')\u001b[39;00m\n\u001b[1;32m      4\u001b[0m \u001b[38;5;66;03m#plt.plot(lam_c, spectra15, label = '15')\u001b[39;00m\n\u001b[0;32m----> 5\u001b[0m plt\u001b[38;5;241m.\u001b[39mplot(lam_c, \u001b[43mspectra01\u001b[49m, label \u001b[38;5;241m=\u001b[39m \u001b[38;5;124m'\u001b[39m\u001b[38;5;124mmetallicity = 0.1 \u001b[39m\u001b[38;5;124m'\u001b[39m)\n\u001b[1;32m      6\u001b[0m plt\u001b[38;5;241m.\u001b[39mplot(lam_c, spectra1, label \u001b[38;5;241m=\u001b[39m \u001b[38;5;124m'\u001b[39m\u001b[38;5;124mmetallicity = 1\u001b[39m\u001b[38;5;124m'\u001b[39m)\n\u001b[1;32m      7\u001b[0m plt\u001b[38;5;241m.\u001b[39mplot(lam_c, spectra001, label \u001b[38;5;241m=\u001b[39m \u001b[38;5;124m'\u001b[39m\u001b[38;5;124mmetallicity = 0.01 \u001b[39m\u001b[38;5;124m'\u001b[39m)\n",
      "\u001b[0;31mNameError\u001b[0m: name 'spectra01' is not defined"
     ]
    }
   ],
   "source": [
    "#plt.plot(lam_c,new_create_spelctrum_population(90))\n",
    "\n",
    "#plt.plot(lam_c,spectra10,label = '10')\n",
    "#plt.plot(lam_c, spectra15, label = '15')\n",
    "plt.plot(lam_c, spectra01, label = 'metallicity = 0.1 ')\n",
    "plt.plot(lam_c, spectra1, label = 'metallicity = 1')\n",
    "plt.plot(lam_c, spectra001, label = 'metallicity = 0.01 ')\n",
    "#plt.plot(lam_c, spectra40, label = '40')\n",
    "#plt.plot(lam_c, spectra45, label = '45')#14510\n",
    "#plt.plot(lam_c, spectra50, label = '50')#14539 failed due to spectral voids\n",
    "plt.ylabel(\"$ F [erg s^{-1} cm^{-2} \\AA  $ at 1 Mpc ]\")\n",
    "plt.xlabel(\"Wavelength [$ \\AA $]\")\n",
    "plt.title(\"Population of $ 10,000 $ stars at 1kpc with solar metallicity\")\n",
    "#plt.yscale('log')\n",
    "plt.legend()\n",
    "plt.show()"
   ]
  },
  {
   "cell_type": "code",
   "execution_count": null,
   "metadata": {},
   "outputs": [],
   "source": []
  },
  {
   "cell_type": "code",
   "execution_count": 23,
   "metadata": {
    "scrolled": true
   },
   "outputs": [
    {
     "ename": "NameError",
     "evalue": "name 'spectrum_50' is not defined",
     "output_type": "error",
     "traceback": [
      "\u001b[0;31m---------------------------------------------------------------------------\u001b[0m",
      "\u001b[0;31mNameError\u001b[0m                                 Traceback (most recent call last)",
      "Cell \u001b[0;32mIn [23], line 1\u001b[0m\n\u001b[0;32m----> 1\u001b[0m plt\u001b[38;5;241m.\u001b[39mplot(lam_c,\u001b[43mspectrum_50\u001b[49m\u001b[38;5;241m*\u001b[39m\u001b[38;5;241m0.85\u001b[39m\u001b[38;5;241m*\u001b[39m\u001b[38;5;241m1e9\u001b[39m\u001b[38;5;241m/\u001b[39m\u001b[38;5;241m2e5\u001b[39m\u001b[38;5;241m*\u001b[39m\u001b[38;5;241m1e-6\u001b[39m,label\u001b[38;5;241m=\u001b[39m\u001b[38;5;124m\"\u001b[39m\u001b[38;5;124m50Myr\u001b[39m\u001b[38;5;124m\"\u001b[39m)\n\u001b[1;32m      2\u001b[0m \u001b[38;5;66;03m#plt.plot(lam_c,spectrum_45,label=\"45Myr\")\u001b[39;00m\n\u001b[1;32m      3\u001b[0m plt\u001b[38;5;241m.\u001b[39mplot(lam_c,spectrum_40\u001b[38;5;241m*\u001b[39m\u001b[38;5;241m1e9\u001b[39m\u001b[38;5;241m/\u001b[39m\u001b[38;5;241m2e5\u001b[39m\u001b[38;5;241m*\u001b[39m\u001b[38;5;241m1e-6\u001b[39m,label\u001b[38;5;241m=\u001b[39m\u001b[38;5;124m\"\u001b[39m\u001b[38;5;124m40Myr\u001b[39m\u001b[38;5;124m\"\u001b[39m)\n",
      "\u001b[0;31mNameError\u001b[0m: name 'spectrum_50' is not defined"
     ]
    }
   ],
   "source": [
    "plt.plot(lam_c,spectrum_50*0.85*1e9/2e5*1e-6,label=\"50Myr\")\n",
    "#plt.plot(lam_c,spectrum_45,label=\"45Myr\")\n",
    "plt.plot(lam_c,spectrum_40*1e9/2e5*1e-6,label=\"40Myr\")\n",
    "plt.plot(lam_c,spectrum_30*1.24*1e9/2e5*1e-6,label=\"30Myr\")\n",
    "#plt.plot(lam_c,spectrum_25,label=\"25Myr\")\n",
    "#plt.plot(lam_c,spectrum_20,label=\"20Myr\")\n",
    "plt.plot(lam_c,spectrum_15*1e9/2e5*1e-6,label=\"15Myr\")\n",
    "plt.plot(lam_c,spectrum_10*1e9/2e5*1e-6,label='10Myr')\n",
    "plt.yscale(\"log\")\n",
    "plt.ylabel(\"$ F_\\lambda [erg s^{-1} cm^{-2} \\AA  $ at 1 Mpc ]\")\n",
    "plt.xlabel(\"Wavelength [$ \\AA $]\")\n",
    "plt.title(\"Populations of different times \")\n",
    "plt.legend()\n",
    "plt.show()"
   ]
  },
  {
   "cell_type": "code",
   "execution_count": 24,
   "metadata": {
    "scrolled": true
   },
   "outputs": [
    {
     "ename": "NameError",
     "evalue": "name 'spectrum_30' is not defined",
     "output_type": "error",
     "traceback": [
      "\u001b[0;31m---------------------------------------------------------------------------\u001b[0m",
      "\u001b[0;31mNameError\u001b[0m                                 Traceback (most recent call last)",
      "Cell \u001b[0;32mIn [24], line 1\u001b[0m\n\u001b[0;32m----> 1\u001b[0m plt\u001b[38;5;241m.\u001b[39mplot(lam_c,\u001b[43mspectrum_30\u001b[49m\u001b[38;5;241m*\u001b[39m\u001b[38;5;241m1e9\u001b[39m\u001b[38;5;241m/\u001b[39m\u001b[38;5;241m2e5\u001b[39m\u001b[38;5;241m*\u001b[39m\u001b[38;5;241m1e-6\u001b[39m,label\u001b[38;5;241m=\u001b[39m\u001b[38;5;124m\"\u001b[39m\u001b[38;5;124m30Myr\u001b[39m\u001b[38;5;124m\"\u001b[39m)\n\u001b[1;32m      2\u001b[0m \u001b[38;5;66;03m#plt.plot(lam_c,1e9/2e5*spectrum_25*1e-6,label=\"25Myr\")\u001b[39;00m\n\u001b[1;32m      3\u001b[0m plt\u001b[38;5;241m.\u001b[39mplot(lam_c,\u001b[38;5;241m1e9\u001b[39m\u001b[38;5;241m/\u001b[39m\u001b[38;5;241m2e5\u001b[39m\u001b[38;5;241m*\u001b[39mspectrum_15\u001b[38;5;241m*\u001b[39m\u001b[38;5;241m1e-6\u001b[39m,label\u001b[38;5;241m=\u001b[39m\u001b[38;5;124m\"\u001b[39m\u001b[38;5;124m15Myr\u001b[39m\u001b[38;5;124m\"\u001b[39m)\n",
      "\u001b[0;31mNameError\u001b[0m: name 'spectrum_30' is not defined"
     ]
    }
   ],
   "source": [
    "\n",
    "\n",
    "plt.plot(lam_c,spectrum_30*1e9/2e5*1e-6,label=\"30Myr\")\n",
    "#plt.plot(lam_c,1e9/2e5*spectrum_25*1e-6,label=\"25Myr\")\n",
    "plt.plot(lam_c,1e9/2e5*spectrum_15*1e-6,label=\"15Myr\")\n",
    "plt.plot(lam_c,spectrum_40*1e9/2e5*1e-6,label='40Myr')\n",
    "plt.plot(lam_c,spectrum_45*1e9/2e5*1e-6,label=\"45Myr\")\n",
    "#plt.plot(lam_c,spectrum_15*1e9/2e5*1e-6,label='15Myr')\n",
    "plt.yscale(\"log\")\n",
    "plt.ylabel(\"$ F [erg s^{-1} cm^{-2} \\AA  $ at 1 Mpc ]\")\n",
    "plt.xlabel(\"Wavelenght [$ \\AA $]\")\n",
    "plt.title(\"Population of $ 10^9$ stars at 1Mpc\")\n",
    "plt.legend()\n",
    "plt.show()"
   ]
  },
  {
   "cell_type": "markdown",
   "metadata": {},
   "source": [
    "## Investigating the data"
   ]
  },
  {
   "cell_type": "code",
   "execution_count": 25,
   "metadata": {},
   "outputs": [
    {
     "name": "stdout",
     "output_type": "stream",
     "text": [
      "Total_number_of_stripped_He_stars 139\n",
      "8079\n"
     ]
    }
   ],
   "source": [
    "binary = np.arange(100000)\n",
    "str1 = \"stripped\"\n",
    "index = 0 \n",
    "for i in binary:\n",
    "    if \"stripped\" in star_state(i,1):\n",
    "        #if star_mass(i,\"1\")>2:\n",
    "        #print(i,star_state(i,\"1\"),star_mass(i,\"1\"))\n",
    "        index +=1\n",
    "        #print(index,'binary_number:',i,star_state(i,1),star_mass(i,1)\n",
    "    if \"stripped\" in star_state(i,2):\n",
    "        #if star_mass(i,\"1\")>2:\n",
    "        #print(i,star_state(i,\"1\"),star_mass(i,\"1\"))\n",
    "        index +=1\n",
    "print(\"Total_number_of_stripped_He_stars\",index)\n",
    "none = 0 \n",
    "for i in binary:\n",
    "    if math.isnan(star_mass(i,1)):\n",
    "        none += 1\n",
    "    if math.isnan(star_mass(i,2)):\n",
    "        none += 1\n",
    "print(none)\n",
    "#Total number of stars is 200,000. \n"
   ]
  },
  {
   "cell_type": "code",
   "execution_count": 26,
   "metadata": {},
   "outputs": [
    {
     "ename": "NameError",
     "evalue": "name 'total_more' is not defined",
     "output_type": "error",
     "traceback": [
      "\u001b[0;31m---------------------------------------------------------------------------\u001b[0m",
      "\u001b[0;31mNameError\u001b[0m                                 Traceback (most recent call last)",
      "Cell \u001b[0;32mIn [26], line 29\u001b[0m\n\u001b[1;32m     26\u001b[0m                 \u001b[38;5;66;03m#print(total_less,i,'binary_2')\u001b[39;00m\n\u001b[1;32m     27\u001b[0m                 \u001b[38;5;66;03m#print(i,'less','binary_2',star_state(i,1),create_Teff(i,2))\u001b[39;00m\n\u001b[1;32m     28\u001b[0m             \u001b[38;5;28;01melif\u001b[39;00m create_Teff(i,\u001b[38;5;241m2\u001b[39m)\u001b[38;5;241m>\u001b[39m\u001b[38;5;241m30000\u001b[39m:\n\u001b[0;32m---> 29\u001b[0m                 total_more \u001b[38;5;241m+\u001b[39m\u001b[38;5;241m=\u001b[39m\u001b[38;5;241m1\u001b[39m\n\u001b[1;32m     30\u001b[0m         \u001b[38;5;66;03m#print(i,'more','binary_2',star_state(i,2),create_Teff(i,2))\u001b[39;00m\n\u001b[1;32m     32\u001b[0m \u001b[38;5;28mprint\u001b[39m(\u001b[38;5;124m'\u001b[39m\u001b[38;5;124mTotal_less: \u001b[39m\u001b[38;5;124m'\u001b[39m,total_less)\n",
      "\u001b[0;31mNameError\u001b[0m: name 'total_more' is not defined"
     ]
    }
   ],
   "source": [
    "iter= np.arange(0,100000,1)\n",
    "total_out_of_bounds = 0 \n",
    "\n",
    "total_failed = 0 \n",
    "broken = 0 \n",
    "for i in iter: \n",
    "    if star_state(i,1) == 'Failed': \n",
    "        broken +=1 \n",
    "    elif star_state(i,2) == 'Failed':\n",
    "         broken +=1 \n",
    "    else: \n",
    "        if math.isnan(create_Teff(i,2)):\n",
    "            #print(i,'less','binary_1',star_state(i,1),create_Teff(i,1))\n",
    "            #print(total_less,i,'binary_1')\n",
    "            total_failed +=1\n",
    "        elif math.isnan(create_Teff(i,1)):\n",
    "            total_failed +=1\n",
    "        else:\n",
    "            if create_Teff(i,1)<3500 or create_Teff(i,1)>30000:\n",
    "            #print(i,'less','binary_1',star_state(i,1),create_Teff(i,1))\n",
    "            #print(total_less,i,'binary_1')\n",
    "                total_out_of_bounds += 1\n",
    "        \n",
    "            if create_Teff(i,2)<3500:\n",
    "                total_less +=1\n",
    "                #print(total_less,i,'binary_2')\n",
    "                #print(i,'less','binary_2',star_state(i,1),create_Teff(i,2))\n",
    "            elif create_Teff(i,2)>30000:\n",
    "                total_more +=1\n",
    "        #print(i,'more','binary_2',star_state(i,2),create_Teff(i,2))\n",
    "\n",
    "print('Total_less: ',total_less)\n",
    "print('Total_more: ',total_more)\n",
    "print('Total_failed',total_failed)\n",
    "print('Total_broken',broken)\n",
    "print('Total_sum', total_less + total_more+total_failed+broken)\n"
   ]
  },
  {
   "cell_type": "code",
   "execution_count": 27,
   "metadata": {},
   "outputs": [],
   "source": [
    "class population_spectra():\n",
    "    \n",
    "    def __init__(self,total_binaries,first_binary_line,last_binary_line,data_file=None):\n",
    "        ######Initializing the parameters ##################\n",
    "        self.total_binaries = total_binaries\n",
    "        self.data_file = data_file\n",
    "        self.first_binary_line = first_binary_line\n",
    "        self.last_binary_line = last_binary_line\n",
    "        self.population = []\n",
    "        self.spectra_status = True \n",
    "        \n",
    "        \n",
    "        \n",
    "        mass,radius,L,state = array_data(self.total_binaries,self.last_binary_line,self.first_binary_line)\n",
    "        \n",
    "        for i in range(self.total_binaries):\n",
    "            star1 = newstar(i,0,mass[i,0],state[i,0],radius[i,0],L[i,0])\n",
    "            star2 = newstar(i,1,mass[i,1],state[i,1],radius[i,1],L[i,1])\n",
    "            self.population.append((star1,star2))\n",
    "        \n",
    "        \n",
    "    def create_spectrum_population(self):\n",
    "        create_spectrum_population = F_empty*0\n",
    "        failed_binaries = 0\n",
    "        for binary in self.population:\n",
    "            create_spectrum_population += self.create_spectrum_binary(binary)\n",
    "        print(failedstar)\n",
    "        return create_spectrum_population\n",
    "    \n",
    "    \n",
    "    def create_spectrum_binary(self,binary):\n",
    "    # check if binary has two non-degenerate stars\n",
    "        star1 = binary[0]\n",
    "        star2 = binary[1]\n",
    "        if star1.state not in ['NS','BH','Failed']:\n",
    "            spectrum_1 = new_create_spectrum_single(star1,star1.binary_number)\n",
    "        else:\n",
    "            spectrum_1 = F_empty*0\n",
    "\n",
    "        if star2.state not in ['NS','BH','Failed']:\n",
    "            spectrum_2 = new_create_spectrum_single(star2,star2.binary_number)\n",
    "        else: \n",
    "            spectrum_2 =F_empty*0\n",
    "\n",
    "        return new_add_spectra(spectrum_1, spectrum_2)\n",
    "\n",
    "    \n",
    "    \n",
    "    \n",
    "    def run_spectra():\n",
    "        pass \n"
   ]
  },
  {
   "cell_type": "code",
   "execution_count": 28,
   "metadata": {},
   "outputs": [
    {
     "ename": "NameError",
     "evalue": "name 'first_binary_line50' is not defined",
     "output_type": "error",
     "traceback": [
      "\u001b[0;31m---------------------------------------------------------------------------\u001b[0m",
      "\u001b[0;31mNameError\u001b[0m                                 Traceback (most recent call last)",
      "Cell \u001b[0;32mIn [28], line 1\u001b[0m\n\u001b[0;32m----> 1\u001b[0m newpop \u001b[38;5;241m=\u001b[39m population_spectra(\u001b[38;5;241m100000\u001b[39m,\u001b[43mfirst_binary_line50\u001b[49m,last_binary_line50)\n",
      "\u001b[0;31mNameError\u001b[0m: name 'first_binary_line50' is not defined"
     ]
    }
   ],
   "source": [
    "newpop = population_spectra(100000,first_binary_line50,last_binary_line50)"
   ]
  },
  {
   "cell_type": "code",
   "execution_count": 29,
   "metadata": {},
   "outputs": [
    {
     "ename": "NameError",
     "evalue": "name 'newpop' is not defined",
     "output_type": "error",
     "traceback": [
      "\u001b[0;31m---------------------------------------------------------------------------\u001b[0m",
      "\u001b[0;31mNameError\u001b[0m                                 Traceback (most recent call last)",
      "Cell \u001b[0;32mIn [29], line 2\u001b[0m\n\u001b[1;32m      1\u001b[0m st \u001b[38;5;241m=\u001b[39m datetime\u001b[38;5;241m.\u001b[39mdatetime\u001b[38;5;241m.\u001b[39mnow()\n\u001b[0;32m----> 2\u001b[0m new_spectra \u001b[38;5;241m=\u001b[39m \u001b[43mnewpop\u001b[49m\u001b[38;5;241m.\u001b[39mcreate_spectrum_population()\n\u001b[1;32m      3\u001b[0m et \u001b[38;5;241m=\u001b[39m datetime\u001b[38;5;241m.\u001b[39mdatetime\u001b[38;5;241m.\u001b[39mnow()\n\u001b[1;32m      4\u001b[0m elapsed_time \u001b[38;5;241m=\u001b[39m et \u001b[38;5;241m-\u001b[39m st \n",
      "\u001b[0;31mNameError\u001b[0m: name 'newpop' is not defined"
     ]
    }
   ],
   "source": [
    "st = datetime.datetime.now()\n",
    "new_spectra = newpop.create_spectrum_population()\n",
    "et = datetime.datetime.now()\n",
    "elapsed_time = et - st \n",
    "print('Execution time: ', elapsed_time, 'seconds')\n",
    "\n"
   ]
  },
  {
   "cell_type": "code",
   "execution_count": 33,
   "metadata": {},
   "outputs": [
    {
     "ename": "TypeError",
     "evalue": "population_spectra.__init__() takes from 4 to 5 positional arguments but 6 were given",
     "output_type": "error",
     "traceback": [
      "\u001b[0;31m---------------------------------------------------------------------------\u001b[0m",
      "\u001b[0;31mTypeError\u001b[0m                                 Traceback (most recent call last)",
      "Cell \u001b[0;32mIn [33], line 1\u001b[0m\n\u001b[0;32m----> 1\u001b[0m newpopulation \u001b[38;5;241m=\u001b[39m \u001b[43mpopulation_spectra\u001b[49m\u001b[43m(\u001b[49m\u001b[38;5;241;43m100\u001b[39;49m\u001b[43m,\u001b[49m\u001b[43mfirst_binary_line1\u001b[49m\u001b[43m,\u001b[49m\u001b[43mlast_binary_line1\u001b[49m\u001b[43m,\u001b[49m\u001b[38;5;241;43m1\u001b[39;49m\u001b[43m,\u001b[49m\u001b[38;5;241;43m0\u001b[39;49m\u001b[43m)\u001b[49m\n\u001b[1;32m      2\u001b[0m spectra1 \u001b[38;5;241m=\u001b[39m newpopulation\u001b[38;5;241m.\u001b[39mcreate_spectrum_population()\n\u001b[1;32m      3\u001b[0m spectra2 \u001b[38;5;241m=\u001b[39m new_create_spectrum_population(\u001b[38;5;241m100\u001b[39m)\n",
      "\u001b[0;31mTypeError\u001b[0m: population_spectra.__init__() takes from 4 to 5 positional arguments but 6 were given"
     ]
    }
   ],
   "source": [
    "newpopulation = population_spectra(100,first_binary_line1,last_binary_line1,1,0)\n",
    "spectra1 = newpopulation.create_spectrum_population()\n",
    "spectra2 = new_create_spectrum_population(100)"
   ]
  },
  {
   "cell_type": "code",
   "execution_count": 31,
   "metadata": {},
   "outputs": [
    {
     "ename": "NameError",
     "evalue": "name 'spectra2' is not defined",
     "output_type": "error",
     "traceback": [
      "\u001b[0;31m---------------------------------------------------------------------------\u001b[0m",
      "\u001b[0;31mNameError\u001b[0m                                 Traceback (most recent call last)",
      "Cell \u001b[0;32mIn [31], line 2\u001b[0m\n\u001b[1;32m      1\u001b[0m plt\u001b[38;5;241m.\u001b[39mplot(lam_c,spectra1)\n\u001b[0;32m----> 2\u001b[0m plt\u001b[38;5;241m.\u001b[39mplot(lam_c,\u001b[43mspectra2\u001b[49m)\n",
      "\u001b[0;31mNameError\u001b[0m: name 'spectra2' is not defined"
     ]
    },
    {
     "data": {
      "image/png": "[encoded data removed]",
      "text/plain": [
       "<Figure size 600x600 with 1 Axes>"
      ]
     },
     "metadata": {},
     "output_type": "display_data"
    }
   ],
   "source": [
    "plt.plot(lam_c,spectra1)\n",
    "plt.plot(lam_c,spectra2)"
   ]
  },
  {
   "cell_type": "code",
   "execution_count": 212,
   "metadata": {},
   "outputs": [],
   "source": [
    "def array_data(N,last_binary_line,first_binary_line):\n",
    "    \n",
    "    mass_arr = np.zeros((total_binaries,2))\n",
    "    radius_arr = np.zeros((total_binaries,2))\n",
    "    L_arr = np.zeros((total_binaries,2))\n",
    "    state_arr = np.zeros((total_binaries,2),dtype=object)\n",
    "    \n",
    "    for i in range(N):\n",
    "        try:\n",
    "            mass_arr[i][:] = np.array([ last_binary_line.S1_mass[i], last_binary_line.S2_mass[i]])\n",
    "            radius_arr[i][:] = np.array([ 10**last_binary_line.S1_log_R[i], 10**last_binary_line.S2_log_R[i]])\n",
    "            L_arr[i][:] = np.array([ 10**last_binary_line.S1_log_L[i], 10**last_binary_line.S2_log_L[i]])\n",
    "            state_arr[i][:] = np.array([ str(last_binary_line.S1_state[i]), str(last_binary_line.S2_state[i])])\n",
    "        except:\n",
    "            mass_arr[i][:] = np.array(None,None)\n",
    "            radius_arr[i][:] = np.array(None,None)\n",
    "            L_arr[i][:] =  np.array(None,None)\n",
    "            state_arr[i][:] = np.array([\"Failed\",\"Failed\"])\n",
    "        finally:\n",
    "            if \"stripped\" in state_arr[i][0]:\n",
    "                mass_arr[i][0] = first_binary_line.S1_mass[i]\n",
    "            elif \"stripped\" in state_arr[i][1]:\n",
    "                mass_arr[i][1] = first_binary_line.S2_mass[i]\n",
    "    \n",
    "    return mass_arr,radius_arr,L_arr,state_arr\n",
    "    \n",
    "    \n",
    "    \n",
    "\n",
    "class newstar():\n",
    "    \n",
    "    def __init__(self,binary_number,number,mass,state,R,L):\n",
    "        self.binary_number = binary_number\n",
    "        self.number = number\n",
    "        self.mass = mass*con.M_sun\n",
    "        self.state = state\n",
    "        self.R = R*con.R_sun\n",
    "        self.L = L*con.L_sun\n",
    "        self.logg = None\n",
    "        self.Teff = None\n",
    "        self.Fe_H = None\n",
    "        \n",
    "        \n",
    "    def get_logg(self): \n",
    "        self.logg = np.log10(con.G*self.mass/self.R**2/(unt.cm/unt.s**2))\n",
    "        if self.logg < max_logg and self.logg > min_logg:\n",
    "            return self.logg\n",
    "        else:\n",
    "            return None\n",
    "    \n",
    "    def get_Teff(self):\n",
    "        self.Teff = (self.L/(4*np.pi*self.R**2*con.sigma_sb))**0.25/unt.K\n",
    "        if self.Teff < max_Teff and self.Teff > min_Teff:\n",
    "            return self.Teff\n",
    "        else:\n",
    "            return None\n",
    "        \n",
    "    def set_metallicity(self,new_Fe_H):\n",
    "        if new_Fe_H < max_Fe_H and new_Fe_H > min_Fe_H:\n",
    "            self.Fe_H = new_Fe_H\n",
    "        else: \n",
    "            raise TypeError\n",
    "    #This is for the stars that we can't calculate their spectra so we change their logg and thus we need a new radius for them and we set and return. \n",
    "    def new_radius(self,new_logg):\n",
    "        R = np.sqrt(con.G*self.mass/10**(new_logg)/unt.cm *unt.s**2).decompose()\n",
    "        return R\n"
   ]
  },
  {
   "cell_type": "code",
   "execution_count": 203,
   "metadata": {},
   "outputs": [],
   "source": [
    "#array_data(10000,last_binary_line45,first_binary_line45)"
   ]
  },
  {
   "cell_type": "code",
   "execution_count": null,
   "metadata": {},
   "outputs": [],
   "source": []
  }
 ],
 "metadata": {
  "kernelspec": {
   "display_name": "msg",
   "language": "python",
   "name": "msg"
  },
  "language_info": {
   "codemirror_mode": {
    "name": "ipython",
    "version": 3
   },
   "file_extension": ".py",
   "mimetype": "text/x-python",
   "name": "python",
   "nbconvert_exporter": "python",
   "pygments_lexer": "ipython3",
   "version": "3.10.6"
  }
 },
 "nbformat": 4,
 "nbformat_minor": 5
}
